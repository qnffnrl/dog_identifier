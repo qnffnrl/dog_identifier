{
 "cells": [
  {
   "cell_type": "code",
   "execution_count": 1,
   "id": "516982aa",
   "metadata": {
    "ExecuteTime": {
     "end_time": "2022-09-16T07:41:31.664468Z",
     "start_time": "2022-09-16T07:41:31.420520Z"
    }
   },
   "outputs": [],
   "source": [
    "import cv2\n",
    "import os"
   ]
  },
  {
   "cell_type": "code",
   "execution_count": 2,
   "id": "2f3a077b",
   "metadata": {
    "ExecuteTime": {
     "end_time": "2022-09-16T07:41:31.803903Z",
     "start_time": "2022-09-16T07:41:31.756856Z"
    }
   },
   "outputs": [],
   "source": [
    "from PIL import Image"
   ]
  },
  {
   "cell_type": "markdown",
   "id": "5b775655",
   "metadata": {},
   "source": [
    "# File Name Cutting & Size Unification"
   ]
  },
  {
   "cell_type": "markdown",
   "id": "8cdfd2c6",
   "metadata": {
    "ExecuteTime": {
     "end_time": "2022-09-16T07:37:12.282504Z",
     "start_time": "2022-09-16T07:31:57.761862Z"
    }
   },
   "source": [
    "fileList = os.listdir('./realData/')\n",
    "count = 1\n",
    "for file in fileList:\n",
    "    fileNumber = file.split('-')[1]\n",
    "    img = Image.open('./realData/' + file)\n",
    "    img_resize = img.resize((256, 256))\n",
    "    if(file.split('-')[2] == '001.jpg') or (file.split('-')[2] == '01.jpg'):\n",
    "        count = 1\n",
    "    img_resize.save('./ImageSizeUnificated256/resized.' + fileNumber + '(' + str(count) + ').png')\n",
    "    count += 1"
   ]
  },
  {
   "cell_type": "markdown",
   "id": "f2dcb779",
   "metadata": {},
   "source": [
    "# -------------------------------------------------------------------------------------------------------"
   ]
  },
  {
   "cell_type": "markdown",
   "id": "18a7a796",
   "metadata": {},
   "source": [
    "# Image Gray Scaler"
   ]
  },
  {
   "cell_type": "markdown",
   "id": "ba81af82",
   "metadata": {
    "ExecuteTime": {
     "end_time": "2022-09-16T07:38:08.676289Z",
     "start_time": "2022-09-16T07:38:08.659291Z"
    }
   },
   "source": [
    "fileList = os.listdir('./ImageSizeUnificated256/')"
   ]
  },
  {
   "cell_type": "markdown",
   "id": "1ddafdde",
   "metadata": {
    "ExecuteTime": {
     "end_time": "2022-09-16T07:39:06.753079Z",
     "start_time": "2022-09-16T07:38:53.822518Z"
    }
   },
   "source": [
    "for file in fileList:\n",
    "    fileNumber = file.split('.')[1]\n",
    "    imageName = './ImageSizeUnificated256/resized.' + fileNumber + '.png'\n",
    "    image = cv2.imread(imageName, cv2.IMREAD_COLOR)\n",
    "    if image is None:\n",
    "        print('Could not open or find the Image')\n",
    "    grayImage = cv2.cvtColor(image, cv2.COLOR_BGR2GRAY)\n",
    "    cv2.imwrite(\"./grayImages256/\" + fileNumber + '.png', grayImage)"
   ]
  },
  {
   "cell_type": "markdown",
   "id": "5bda0163",
   "metadata": {},
   "source": [
    "# -------------------------------------------------------------------------------------------------------"
   ]
  },
  {
   "cell_type": "code",
   "execution_count": 3,
   "id": "cede3fcd",
   "metadata": {
    "ExecuteTime": {
     "end_time": "2022-09-16T07:41:32.715824Z",
     "start_time": "2022-09-16T07:41:32.706826Z"
    }
   },
   "outputs": [],
   "source": [
    "import warnings\n",
    "warnings.filterwarnings('ignore')"
   ]
  },
  {
   "cell_type": "code",
   "execution_count": 4,
   "id": "7df3a2ff",
   "metadata": {
    "ExecuteTime": {
     "end_time": "2022-09-16T07:41:38.950805Z",
     "start_time": "2022-09-16T07:41:32.737825Z"
    }
   },
   "outputs": [],
   "source": [
    "import numpy as np\n",
    "import pandas as pd\n",
    "from keras_preprocessing.image import ImageDataGenerator, load_img\n",
    "from keras.utils import to_categorical\n",
    "from sklearn.model_selection import train_test_split\n",
    "import matplotlib.pyplot as plt\n",
    "import random"
   ]
  },
  {
   "cell_type": "code",
   "execution_count": 5,
   "id": "393747b6",
   "metadata": {
    "ExecuteTime": {
     "end_time": "2022-09-16T07:41:38.966684Z",
     "start_time": "2022-09-16T07:41:38.952806Z"
    }
   },
   "outputs": [],
   "source": [
    "filenames = os.listdir(\"./grayImages256/\")\n",
    "categories = []\n",
    "for filename in filenames:\n",
    "    category = filename.split('.')[0][:4]\n",
    "    categories.append(category)\n",
    "        \n",
    "df = pd.DataFrame({\n",
    "    'filename' : filenames,\n",
    "    'category' : categories\n",
    "})"
   ]
  },
  {
   "cell_type": "code",
   "execution_count": 6,
   "id": "f96efa82",
   "metadata": {
    "ExecuteTime": {
     "end_time": "2022-09-16T07:41:38.997683Z",
     "start_time": "2022-09-16T07:41:38.968684Z"
    },
    "scrolled": true
   },
   "outputs": [
    {
     "data": {
      "text/html": [
       "<div>\n",
       "<style scoped>\n",
       "    .dataframe tbody tr th:only-of-type {\n",
       "        vertical-align: middle;\n",
       "    }\n",
       "\n",
       "    .dataframe tbody tr th {\n",
       "        vertical-align: top;\n",
       "    }\n",
       "\n",
       "    .dataframe thead th {\n",
       "        text-align: right;\n",
       "    }\n",
       "</style>\n",
       "<table border=\"1\" class=\"dataframe\">\n",
       "  <thead>\n",
       "    <tr style=\"text-align: right;\">\n",
       "      <th></th>\n",
       "      <th>filename</th>\n",
       "      <th>category</th>\n",
       "    </tr>\n",
       "  </thead>\n",
       "  <tbody>\n",
       "    <tr>\n",
       "      <th>0</th>\n",
       "      <td>3001(1).png</td>\n",
       "      <td>3001</td>\n",
       "    </tr>\n",
       "    <tr>\n",
       "      <th>1</th>\n",
       "      <td>3001(2).png</td>\n",
       "      <td>3001</td>\n",
       "    </tr>\n",
       "    <tr>\n",
       "      <th>2</th>\n",
       "      <td>3001(3).png</td>\n",
       "      <td>3001</td>\n",
       "    </tr>\n",
       "    <tr>\n",
       "      <th>3</th>\n",
       "      <td>3001(4).png</td>\n",
       "      <td>3001</td>\n",
       "    </tr>\n",
       "    <tr>\n",
       "      <th>4</th>\n",
       "      <td>3001(5).png</td>\n",
       "      <td>3001</td>\n",
       "    </tr>\n",
       "    <tr>\n",
       "      <th>...</th>\n",
       "      <td>...</td>\n",
       "      <td>...</td>\n",
       "    </tr>\n",
       "    <tr>\n",
       "      <th>2111</th>\n",
       "      <td>6022(2).png</td>\n",
       "      <td>6022</td>\n",
       "    </tr>\n",
       "    <tr>\n",
       "      <th>2110</th>\n",
       "      <td>6022(10).png</td>\n",
       "      <td>6022</td>\n",
       "    </tr>\n",
       "    <tr>\n",
       "      <th>2109</th>\n",
       "      <td>6022(1).png</td>\n",
       "      <td>6022</td>\n",
       "    </tr>\n",
       "    <tr>\n",
       "      <th>2112</th>\n",
       "      <td>6022(3).png</td>\n",
       "      <td>6022</td>\n",
       "    </tr>\n",
       "    <tr>\n",
       "      <th>2118</th>\n",
       "      <td>6022(9).png</td>\n",
       "      <td>6022</td>\n",
       "    </tr>\n",
       "  </tbody>\n",
       "</table>\n",
       "<p>2119 rows × 2 columns</p>\n",
       "</div>"
      ],
      "text/plain": [
       "          filename category\n",
       "0      3001(1).png     3001\n",
       "1      3001(2).png     3001\n",
       "2      3001(3).png     3001\n",
       "3      3001(4).png     3001\n",
       "4      3001(5).png     3001\n",
       "...            ...      ...\n",
       "2111   6022(2).png     6022\n",
       "2110  6022(10).png     6022\n",
       "2109   6022(1).png     6022\n",
       "2112   6022(3).png     6022\n",
       "2118   6022(9).png     6022\n",
       "\n",
       "[2119 rows x 2 columns]"
      ]
     },
     "execution_count": 6,
     "metadata": {},
     "output_type": "execute_result"
    }
   ],
   "source": [
    "df.sort_values(by='category', ascending=True)"
   ]
  },
  {
   "cell_type": "code",
   "execution_count": 7,
   "id": "beee1c5a",
   "metadata": {
    "ExecuteTime": {
     "end_time": "2022-09-16T07:41:39.187683Z",
     "start_time": "2022-09-16T07:41:39.000684Z"
    }
   },
   "outputs": [
    {
     "name": "stdout",
     "output_type": "stream",
     "text": [
      "3055(8).png\n"
     ]
    },
    {
     "data": {
      "text/plain": [
       "<matplotlib.image.AxesImage at 0x23c679e3370>"
      ]
     },
     "execution_count": 7,
     "metadata": {},
     "output_type": "execute_result"
    },
    {
     "data": {
      "image/png": "[encoded data removed]",
      "text/plain": [
       "<Figure size 432x288 with 1 Axes>"
      ]
     },
     "metadata": {
      "needs_background": "light"
     },
     "output_type": "display_data"
    }
   ],
   "source": [
    "sample = random.choice(filenames)\n",
    "print(sample)\n",
    "image = load_img(\"./grayImages256/\"+sample)\n",
    "plt.imshow(image)"
   ]
  },
  {
   "cell_type": "markdown",
   "id": "8359363d",
   "metadata": {},
   "source": [
    "# Data Augmentation"
   ]
  },
  {
   "cell_type": "markdown",
   "id": "04458620",
   "metadata": {
    "ExecuteTime": {
     "end_time": "2022-09-08T01:51:42.028868Z",
     "start_time": "2022-09-08T01:51:42.024866Z"
    }
   },
   "source": [
    "num_argumented_images = 1000"
   ]
  },
  {
   "cell_type": "markdown",
   "id": "a5f80c51",
   "metadata": {
    "ExecuteTime": {
     "end_time": "2022-09-08T01:51:43.760150Z",
     "start_time": "2022-09-08T01:51:43.750152Z"
    }
   },
   "source": [
    "file_path = './grayImages/'\n",
    "file_names = os.listdir(file_path)\n",
    "total_origin_image_num = len(file_names)"
   ]
  },
  {
   "cell_type": "markdown",
   "id": "ebed4212",
   "metadata": {
    "ExecuteTime": {
     "end_time": "2022-09-08T01:54:53.431389Z",
     "start_time": "2022-09-08T01:51:57.520480Z"
    }
   },
   "source": [
    "for k in range(0, 10):\n",
    "    argument_cnt = 1\n",
    "    for i in range(0, num_argumented_images):\n",
    "        file_name = file_names[k]\n",
    "\n",
    "        origin_image_path = './grayImages/' + file_name\n",
    "        image = Image.open(origin_image_path)\n",
    "        random_argument = random.randrange(1, 4)\n",
    "\n",
    "        # 좌우 반전\n",
    "        if(random_argument == 1):\n",
    "            inverted_image = image.transpose(Image.FLIP_LEFT_RIGHT)\n",
    "\n",
    "            inverted_image.save('./testData/'+ str(k+1) + '(' + str(argument_cnt) + ').png')\n",
    "\n",
    "        # 기울이기\n",
    "        elif(random_argument == 2):\n",
    "            rotated_image = image.rotate(random.randrange(-20, 20))\n",
    "\n",
    "            rotated_image.save('./testData/' + str(k+1) + '(' + str(argument_cnt) + ').png')\n",
    "\n",
    "        # 노이즈 추가\n",
    "        elif(random_argument == 3):\n",
    "            img = cv2.imread(origin_image_path)\n",
    "            row, col, ch = img.shape\n",
    "            mean = 0\n",
    "            var = 0.1\n",
    "            sigma = var ** 0.5\n",
    "            gauss = np.random.normal(mean, sigma, (row, col, ch))\n",
    "            gauss = gauss.reshape(row, col, ch)\n",
    "            noisy_array = img + gauss\n",
    "            noisy_image = Image.fromarray(np.uint8(noisy_array)).convert('RGB')\n",
    "\n",
    "            noisy_image.save('./testData/' + str(k+1) + '(' + str(argument_cnt) + ').png')\n",
    "        \n",
    "        argument_cnt += 1"
   ]
  },
  {
   "cell_type": "markdown",
   "id": "e7505bde",
   "metadata": {},
   "source": [
    "# -------------------------------------------------------------------------------------------------------"
   ]
  },
  {
   "cell_type": "markdown",
   "id": "3c4379e2",
   "metadata": {},
   "source": [
    "# Data Labeling\n",
    "## -------------------------------------------------------\n",
    "## train target data"
   ]
  },
  {
   "cell_type": "code",
   "execution_count": 8,
   "id": "b505c8fa",
   "metadata": {
    "ExecuteTime": {
     "end_time": "2022-09-16T07:41:39.203682Z",
     "start_time": "2022-09-16T07:41:39.189684Z"
    }
   },
   "outputs": [],
   "source": [
    "train_target = np.array(df['category'])"
   ]
  },
  {
   "cell_type": "code",
   "execution_count": 9,
   "id": "84c235c9",
   "metadata": {
    "ExecuteTime": {
     "end_time": "2022-09-16T07:41:39.219681Z",
     "start_time": "2022-09-16T07:41:39.206685Z"
    }
   },
   "outputs": [
    {
     "data": {
      "text/plain": [
       "array(['3001', '3001', '3001', ..., '6022', '6022', '6022'], dtype=object)"
      ]
     },
     "execution_count": 9,
     "metadata": {},
     "output_type": "execute_result"
    }
   ],
   "source": [
    "train_target"
   ]
  },
  {
   "cell_type": "code",
   "execution_count": 10,
   "id": "419e3eaf",
   "metadata": {
    "ExecuteTime": {
     "end_time": "2022-09-16T07:41:39.236685Z",
     "start_time": "2022-09-16T07:41:39.221685Z"
    }
   },
   "outputs": [],
   "source": [
    "# train_target = train_target.astype('uint8')"
   ]
  },
  {
   "cell_type": "code",
   "execution_count": 11,
   "id": "bf28ade5",
   "metadata": {
    "ExecuteTime": {
     "end_time": "2022-09-16T07:41:39.251683Z",
     "start_time": "2022-09-16T07:41:39.239682Z"
    }
   },
   "outputs": [
    {
     "data": {
      "text/plain": [
       "array(['3001', '3001', '3001', ..., '6022', '6022', '6022'], dtype=object)"
      ]
     },
     "execution_count": 11,
     "metadata": {},
     "output_type": "execute_result"
    }
   ],
   "source": [
    "train_target"
   ]
  },
  {
   "cell_type": "code",
   "execution_count": 12,
   "id": "be5d7c4c",
   "metadata": {
    "ExecuteTime": {
     "end_time": "2022-09-16T07:41:39.266683Z",
     "start_time": "2022-09-16T07:41:39.253684Z"
    },
    "scrolled": true
   },
   "outputs": [
    {
     "name": "stdout",
     "output_type": "stream",
     "text": [
      "dtype :  object\n",
      "type :  <class 'numpy.ndarray'>\n",
      "shape :  (2119,)\n",
      "unique :  (array(['3001', '3002', '3003', '3004', '3005', '3006', '3008', '3009',\n",
      "       '3010', '3011', '3012', '3013', '3014', '3015', '3016', '3017',\n",
      "       '3018', '3019', '3020', '3021', '3022', '3023', '3024', '3025',\n",
      "       '3027', '3028', '3029', '3030', '3031', '3032', '3033', '3034',\n",
      "       '3035', '3036', '3037', '3038', '3039', '3040', '3041', '3042',\n",
      "       '3043', '3044', '3045', '3046', '3047', '3048', '3049', '3050',\n",
      "       '3051', '3052', '3053', '3054', '3055', '3056', '3057', '3058',\n",
      "       '3059', '3060', '3061', '3062', '3063', '3064', '3065', '3066',\n",
      "       '3067', '3068', '3069', '3070', '3071', '3072', '3073', '3074',\n",
      "       '3075', '3076', '3077', '3078', '3079', '3080', '3081', '3082',\n",
      "       '3083', '4000', '4001', '4002', '4004', '4005', '4006', '4007',\n",
      "       '4008', '4009', '4010', '4011', '4012', '4013', '4014', '4015',\n",
      "       '4016', '4017', '4018', '4019', '4020', '4021', '4022', '4024',\n",
      "       '4025', '4026', '4027', '4028', '4029', '4030', '4031', '4032',\n",
      "       '4033', '4034', '4035', '4036', '4037', '4038', '4039', '4040',\n",
      "       '4041', '4042', '4043', '4044', '4045', '4046', '4047', '4048',\n",
      "       '4049', '4050', '4051', '4052', '4053', '4054', '4055', '4056',\n",
      "       '4057', '4058', '4059', '4061', '4063', '4065', '4067', '4069',\n",
      "       '4071', '4073', '4075', '4077', '4079', '4081', '4083', '4085',\n",
      "       '4087', '4089', '4091', '4093', '4095', '4097', '4099', '4101',\n",
      "       '4103', '4105', '4107', '5000', '5001', '5002', '5003', '5004',\n",
      "       '5005', '5006', '5007', '5008', '5009', '5010', '5011', '5012',\n",
      "       '5013', '5014', '5015', '5016', '5017', '5018', '5019', '5020',\n",
      "       '5021', '5022', '5023', '5024', '5025', '5026', '5027', '5028',\n",
      "       '5029', '5030', '5031', '5032', '5033', '5034', '5035', '5036',\n",
      "       '5037', '5038', '5039', '5040', '5041', '5042', '5043', '5044',\n",
      "       '5045', '5046', '5047', '5049', '5050', '5051', '5052', '5053',\n",
      "       '5054', '5055', '5056', '5057', '5058', '5059', '5060', '5061',\n",
      "       '5062', '5063', '5064', '5065', '5067', '5069', '5071', '5073',\n",
      "       '5075', '5077', '5079', '5081', '6000', '6001', '6002', '6003',\n",
      "       '6004', '6005', '6006', '6007', '6008', '6009', '6010', '6011',\n",
      "       '6012', '6013', '6014', '6015', '6016', '6017', '6018', '6019',\n",
      "       '6020', '6022'], dtype=object), array([ 8,  7,  3,  6,  3,  6,  7,  4,  3,  3,  5,  5,  5,  5,  2,  2,  6,\n",
      "        2,  2,  3,  4,  4,  2,  3,  2,  3,  2,  6,  3,  8,  6,  8,  5,  8,\n",
      "        7,  8,  7,  7,  8, 10,  9,  7,  6,  8,  7,  9,  2,  8, 19,  3, 28,\n",
      "       14, 10, 13, 14, 30, 14, 20, 10, 28, 14, 10, 16,  9,  8,  5, 10,  7,\n",
      "       10,  9,  6, 10,  9,  6,  3,  4, 10, 18,  7,  3,  5,  9,  5, 11,  5,\n",
      "        2, 14,  5,  4, 11,  8,  4, 11,  8, 12, 13,  9, 10,  8,  7, 10, 10,\n",
      "        9, 11,  7,  8,  8,  8,  5, 12,  9,  9,  4,  3,  3,  5,  5,  7,  7,\n",
      "       17,  5,  4, 10,  8,  8,  8,  7,  3,  5,  2,  8,  4,  6,  4, 14,  8,\n",
      "       11,  3, 10,  3, 13,  8,  5, 12,  3,  9,  2,  4, 18,  8,  9, 14,  7,\n",
      "        5,  4,  2,  6, 29, 15, 12,  7,  8,  8,  9,  5,  6,  4,  7,  9, 12,\n",
      "        7,  5,  9, 13,  5,  7, 10,  8,  9, 12,  8, 15,  8, 12,  8, 14, 11,\n",
      "        6,  9, 12,  6,  6,  5,  9,  8, 12,  3, 12,  4, 12,  4,  3,  5,  6,\n",
      "        4,  8,  7, 12,  3,  4,  2,  4, 12,  7, 12,  5, 10,  4,  8,  9, 13,\n",
      "        9,  8,  3, 13,  4, 10,  5,  3, 11,  7,  3,  4,  3,  2,  8,  6,  5,\n",
      "       10, 17, 25, 23, 17, 10,  4,  8,  7, 16,  3, 18, 16, 31, 16,  8, 20,\n",
      "        3,  6, 10], dtype=int64))\n"
     ]
    }
   ],
   "source": [
    "print('dtype : ' ,train_target.dtype)\n",
    "print('type : ', type(train_target))\n",
    "print('shape : ', train_target.shape)\n",
    "print('unique : ', np.unique(train_target, return_counts=True))"
   ]
  },
  {
   "cell_type": "markdown",
   "id": "a19f2034",
   "metadata": {},
   "source": [
    "# -------------------------------------------------------------------------------------------------------"
   ]
  },
  {
   "cell_type": "markdown",
   "id": "e2372193",
   "metadata": {},
   "source": [
    "# 1개 짜리 데이터 삭제\n",
    "## 삭제 대상"
   ]
  },
  {
   "cell_type": "markdown",
   "id": "1d38ce84",
   "metadata": {
    "ExecuteTime": {
     "end_time": "2022-09-16T07:39:25.605314Z",
     "start_time": "2022-09-16T07:39:25.591316Z"
    }
   },
   "source": [
    "deleteTarget = []\n",
    "\n",
    "targetNumber = (np.unique(train_target, return_counts=True))[0]\n",
    "countes = (np.unique(train_target, return_counts=True))[1]\n",
    "\n",
    "for i in range(0, len(countes)):\n",
    "    if countes[i] == 1:\n",
    "        deleteTarget.append(targetNumber[i])\n",
    "\n",
    "print(deleteTarget)"
   ]
  },
  {
   "cell_type": "markdown",
   "id": "82afc014",
   "metadata": {},
   "source": [
    "## 삭제"
   ]
  },
  {
   "cell_type": "markdown",
   "id": "d7fe1876",
   "metadata": {
    "ExecuteTime": {
     "end_time": "2022-09-16T07:39:33.698624Z",
     "start_time": "2022-09-16T07:39:33.680627Z"
    }
   },
   "source": [
    "for i in range(0, len(countes)):\n",
    "    if countes[i] == 1:\n",
    "        if os.path.isfile('./grayImages256/' + targetNumber[i] + '(1).png'):\n",
    "            os.remove('./grayImages256/' + targetNumber[i] + '(1).png')\n"
   ]
  },
  {
   "cell_type": "markdown",
   "id": "052cb214",
   "metadata": {},
   "source": [
    "# -------------------------------------------------------------------------------------------------------"
   ]
  },
  {
   "cell_type": "markdown",
   "id": "09e6ba79",
   "metadata": {},
   "source": [
    "# train input data"
   ]
  },
  {
   "cell_type": "code",
   "execution_count": 13,
   "id": "71e2f5f0",
   "metadata": {
    "ExecuteTime": {
     "end_time": "2022-09-16T07:41:39.282684Z",
     "start_time": "2022-09-16T07:41:39.270686Z"
    }
   },
   "outputs": [],
   "source": [
    "train_input = []"
   ]
  },
  {
   "cell_type": "code",
   "execution_count": 14,
   "id": "ab642d0a",
   "metadata": {
    "ExecuteTime": {
     "end_time": "2022-09-16T07:41:42.115569Z",
     "start_time": "2022-09-16T07:41:39.284683Z"
    }
   },
   "outputs": [],
   "source": [
    "filenames = os.listdir(\"./grayImages256/\")\n",
    "for filename in filenames:\n",
    "#     plt.imshow(np.array(Image.open('./trainData/' + filename)))\n",
    "    train_input.append( np.array(Image.open('./grayImages256/' + filename)) )"
   ]
  },
  {
   "cell_type": "code",
   "execution_count": 15,
   "id": "3cd452db",
   "metadata": {
    "ExecuteTime": {
     "end_time": "2022-09-16T07:41:42.178105Z",
     "start_time": "2022-09-16T07:41:42.115569Z"
    }
   },
   "outputs": [],
   "source": [
    "train_input = np.array(train_input)"
   ]
  },
  {
   "cell_type": "code",
   "execution_count": 16,
   "id": "ab36ffd3",
   "metadata": {
    "ExecuteTime": {
     "end_time": "2022-09-16T07:41:42.193234Z",
     "start_time": "2022-09-16T07:41:42.179107Z"
    },
    "scrolled": true
   },
   "outputs": [
    {
     "data": {
      "text/plain": [
       "array([[[ 58,  56,  59, ...,  68,  71,  70],\n",
       "        [ 58,  58,  59, ...,  70,  72,  73],\n",
       "        [ 57,  59,  60, ...,  71,  72,  73],\n",
       "        ...,\n",
       "        [199, 204, 206, ...,  86,  83,  84],\n",
       "        [150, 155, 166, ...,  86,  86,  83],\n",
       "        [215, 203, 188, ...,  86,  86,  87]],\n",
       "\n",
       "       [[ 58,  56,  59, ...,  68,  71,  70],\n",
       "        [ 58,  58,  59, ...,  70,  72,  73],\n",
       "        [ 57,  59,  60, ...,  71,  72,  73],\n",
       "        ...,\n",
       "        [199, 204, 206, ...,  86,  83,  84],\n",
       "        [150, 155, 166, ...,  86,  86,  83],\n",
       "        [215, 203, 188, ...,  86,  86,  87]],\n",
       "\n",
       "       [[ 54,  53,  53, ...,  68,  70,  72],\n",
       "        [ 54,  53,  52, ...,  71,  71,  72],\n",
       "        [ 54,  53,  53, ...,  72,  72,  73],\n",
       "        ...,\n",
       "        [ 99,  99, 100, ..., 120, 124, 126],\n",
       "        [ 97,  96,  97, ..., 118, 118, 118],\n",
       "        [109, 102, 101, ..., 114, 115, 111]],\n",
       "\n",
       "       ...,\n",
       "\n",
       "       [[ 90,  90,  92, ...,  93,  94,  97],\n",
       "        [ 85,  92,  77, ...,  94,  94,  97],\n",
       "        [ 60,  50,  40, ...,  95,  94,  97],\n",
       "        ...,\n",
       "        [ 79,  90, 103, ...,  41,  43,  44],\n",
       "        [ 43,  44,  47, ...,  40,  42,  44],\n",
       "        [ 46,  45,  45, ...,  41,  42,  44]],\n",
       "\n",
       "       [[ 83,  78,  87, ...,  95,  94,  96],\n",
       "        [ 90,  86,  95, ...,  97,  94,  96],\n",
       "        [ 87,  92,  79, ..., 101,  96,  97],\n",
       "        ...,\n",
       "        [ 88,  60,  43, ...,  39,  39,  39],\n",
       "        [ 81,  66,  52, ...,  38,  39,  40],\n",
       "        [ 74,  62,  56, ...,  38,  39,  41]],\n",
       "\n",
       "       [[ 91,  88,  95, ...,  96,  93,  95],\n",
       "        [ 88,  89,  75, ...,  98,  93,  94],\n",
       "        [ 55,  45,  36, ..., 102,  96,  94],\n",
       "        ...,\n",
       "        [ 42,  42,  42, ...,  40,  43,  44],\n",
       "        [ 46,  43,  51, ...,  41,  42,  43],\n",
       "        [ 49,  49,  54, ...,  42,  42,  43]]], dtype=uint8)"
      ]
     },
     "execution_count": 16,
     "metadata": {},
     "output_type": "execute_result"
    }
   ],
   "source": [
    "train_input"
   ]
  },
  {
   "cell_type": "code",
   "execution_count": 17,
   "id": "40ecbccd",
   "metadata": {
    "ExecuteTime": {
     "end_time": "2022-09-16T07:41:42.209235Z",
     "start_time": "2022-09-16T07:41:42.194236Z"
    }
   },
   "outputs": [
    {
     "name": "stdout",
     "output_type": "stream",
     "text": [
      "(2119, 256, 256)\n"
     ]
    }
   ],
   "source": [
    "print(train_input.shape)"
   ]
  },
  {
   "cell_type": "markdown",
   "id": "a2d2add8",
   "metadata": {},
   "source": [
    "# -------------------------------------------------------------------------------------------------------"
   ]
  },
  {
   "cell_type": "markdown",
   "id": "1bcc0945",
   "metadata": {},
   "source": [
    "# Data Normalization"
   ]
  },
  {
   "cell_type": "markdown",
   "id": "b9f3969a",
   "metadata": {},
   "source": [
    "# ********************************"
   ]
  },
  {
   "cell_type": "code",
   "execution_count": 18,
   "id": "2e5da0da",
   "metadata": {
    "ExecuteTime": {
     "end_time": "2022-09-16T07:41:42.539063Z",
     "start_time": "2022-09-16T07:41:42.211236Z"
    }
   },
   "outputs": [],
   "source": [
    "train_scaled = train_input.reshape(-1, 256, 256, 1) / 255.0"
   ]
  },
  {
   "cell_type": "code",
   "execution_count": 19,
   "id": "1c7f070e",
   "metadata": {
    "ExecuteTime": {
     "end_time": "2022-09-16T07:41:42.555068Z",
     "start_time": "2022-09-16T07:41:42.540069Z"
    }
   },
   "outputs": [
    {
     "name": "stdout",
     "output_type": "stream",
     "text": [
      "(2119, 256, 256, 1)\n"
     ]
    }
   ],
   "source": [
    "print(train_scaled.shape)"
   ]
  },
  {
   "cell_type": "markdown",
   "id": "cce736df",
   "metadata": {},
   "source": [
    "# CV"
   ]
  },
  {
   "cell_type": "markdown",
   "id": "3d34f535",
   "metadata": {
    "ExecuteTime": {
     "end_time": "2022-09-15T03:06:38.617324Z",
     "start_time": "2022-09-15T03:06:27.713683Z"
    }
   },
   "source": [
    "from sklearn.model_selection import cross_validate\n",
    "from sklearn.linear_model import SGDClassifier # 확률적 경사 하강법\n",
    "sc = SGDClassifier(loss='log', max_iter=5, random_state=42)\n",
    "scores = cross_validate(sc, train_scaled, train_target, n_jobs=-1)\n",
    "print('성능 : {:.2f}%'.format(np.mean(scores['test_score']*100)))"
   ]
  },
  {
   "cell_type": "markdown",
   "id": "a6ea2eac",
   "metadata": {},
   "source": [
    "# Data Split"
   ]
  },
  {
   "cell_type": "code",
   "execution_count": 20,
   "id": "3aa92711",
   "metadata": {
    "ExecuteTime": {
     "end_time": "2022-09-16T07:41:42.966067Z",
     "start_time": "2022-09-16T07:41:42.556070Z"
    }
   },
   "outputs": [],
   "source": [
    "train_scaled, val_scaled, train_target, val_target = train_test_split(train_scaled, train_target, test_size=0.2, random_state=42)"
   ]
  },
  {
   "cell_type": "code",
   "execution_count": 21,
   "id": "2b71701f",
   "metadata": {
    "ExecuteTime": {
     "end_time": "2022-09-16T07:41:42.981069Z",
     "start_time": "2022-09-16T07:41:42.967069Z"
    }
   },
   "outputs": [
    {
     "name": "stdout",
     "output_type": "stream",
     "text": [
      "(1695, 256, 256, 1) (1695,)\n",
      "(424, 256, 256, 1) (424,)\n"
     ]
    }
   ],
   "source": [
    "print(train_scaled.shape, train_target.shape)\n",
    "print(val_scaled.shape, val_target.shape)"
   ]
  },
  {
   "cell_type": "markdown",
   "id": "53fe1209",
   "metadata": {},
   "source": [
    "# -------------------------------------------------------------------------------------------------------"
   ]
  },
  {
   "cell_type": "markdown",
   "id": "2d890015",
   "metadata": {},
   "source": [
    "# Learn"
   ]
  },
  {
   "cell_type": "markdown",
   "id": "dc2d9cbf",
   "metadata": {
    "ExecuteTime": {
     "end_time": "2022-09-15T03:06:38.697323Z",
     "start_time": "2022-09-15T03:06:38.683327Z"
    }
   },
   "source": [
    "import tensorflow as tf\n",
    "from tensorflow import keras"
   ]
  },
  {
   "cell_type": "markdown",
   "id": "95231cd8",
   "metadata": {
    "ExecuteTime": {
     "end_time": "2022-09-15T03:06:38.887356Z",
     "start_time": "2022-09-15T03:06:38.698323Z"
    }
   },
   "source": [
    "dense = keras.layers.Dense(units=1, activation='softmax', input_shape=(784,))"
   ]
  },
  {
   "cell_type": "markdown",
   "id": "7bfc63e6",
   "metadata": {
    "ExecuteTime": {
     "end_time": "2022-09-15T03:06:38.966359Z",
     "start_time": "2022-09-15T03:06:38.888361Z"
    }
   },
   "source": [
    "model = keras.Sequential(dense)"
   ]
  },
  {
   "cell_type": "markdown",
   "id": "eb975168",
   "metadata": {
    "ExecuteTime": {
     "end_time": "2022-09-15T03:06:38.982360Z",
     "start_time": "2022-09-15T03:06:38.967360Z"
    }
   },
   "source": [
    "model.compile(loss='categoraical_crossentropy', metrics='accuracy')"
   ]
  },
  {
   "cell_type": "markdown",
   "id": "3722c1c2",
   "metadata": {
    "ExecuteTime": {
     "end_time": "2022-09-15T03:06:38.998362Z",
     "start_time": "2022-09-15T03:06:38.983361Z"
    }
   },
   "source": [
    "print(train_scaled.shape)\n",
    "print(train_target.shape)"
   ]
  },
  {
   "cell_type": "markdown",
   "id": "b4e62fe4",
   "metadata": {
    "ExecuteTime": {
     "end_time": "2022-09-15T03:06:39.890336Z",
     "start_time": "2022-09-15T03:06:38.999363Z"
    },
    "scrolled": true
   },
   "source": [
    "model.fit(train_scaled, train_target, epochs=10)"
   ]
  },
  {
   "cell_type": "markdown",
   "id": "adc85655",
   "metadata": {},
   "source": [
    "# Performance"
   ]
  },
  {
   "cell_type": "markdown",
   "id": "8f6d8f6e",
   "metadata": {
    "ExecuteTime": {
     "end_time": "2022-09-15T03:06:39.892337Z",
     "start_time": "2022-09-15T03:06:39.892337Z"
    }
   },
   "source": [
    "model.evaluate(val_scaled, val_target)"
   ]
  },
  {
   "cell_type": "markdown",
   "id": "604df35d",
   "metadata": {},
   "source": [
    "# CNN"
   ]
  },
  {
   "cell_type": "code",
   "execution_count": 22,
   "id": "9799cf44",
   "metadata": {
    "ExecuteTime": {
     "end_time": "2022-09-16T07:41:42.997069Z",
     "start_time": "2022-09-16T07:41:42.983070Z"
    }
   },
   "outputs": [],
   "source": [
    "from tensorflow import keras"
   ]
  },
  {
   "cell_type": "code",
   "execution_count": 23,
   "id": "556b21cb",
   "metadata": {
    "ExecuteTime": {
     "end_time": "2022-09-16T07:41:43.263069Z",
     "start_time": "2022-09-16T07:41:42.999071Z"
    }
   },
   "outputs": [],
   "source": [
    "model_CNN = keras.Sequential()"
   ]
  },
  {
   "cell_type": "markdown",
   "id": "7e713b7d",
   "metadata": {},
   "source": [
    "# ************ breakpoint ************"
   ]
  },
  {
   "cell_type": "code",
   "execution_count": 24,
   "id": "419999d7",
   "metadata": {
    "ExecuteTime": {
     "end_time": "2022-09-16T07:41:43.295069Z",
     "start_time": "2022-09-16T07:41:43.265071Z"
    }
   },
   "outputs": [],
   "source": [
    "model_CNN.add(keras.layers.Conv2D(32, kernel_size=(3, 3), activation='relu', padding='same', input_shape=(28, 28, 1)))"
   ]
  },
  {
   "cell_type": "code",
   "execution_count": 25,
   "id": "df82af22",
   "metadata": {
    "ExecuteTime": {
     "end_time": "2022-09-16T07:41:43.311069Z",
     "start_time": "2022-09-16T07:41:43.297070Z"
    }
   },
   "outputs": [],
   "source": [
    "model_CNN.add(keras.layers.MaxPooling2D(2))"
   ]
  },
  {
   "cell_type": "code",
   "execution_count": 26,
   "id": "df10eeb3",
   "metadata": {
    "ExecuteTime": {
     "end_time": "2022-09-16T07:41:43.343067Z",
     "start_time": "2022-09-16T07:41:43.313070Z"
    }
   },
   "outputs": [],
   "source": [
    "model_CNN.add(keras.layers.Conv2D(64, kernel_size=(3, 3), activation='relu', padding='same'))"
   ]
  },
  {
   "cell_type": "code",
   "execution_count": 27,
   "id": "49bb06a0",
   "metadata": {
    "ExecuteTime": {
     "end_time": "2022-09-16T07:41:43.359068Z",
     "start_time": "2022-09-16T07:41:43.345072Z"
    }
   },
   "outputs": [],
   "source": [
    "model_CNN.add(keras.layers.MaxPooling2D(2))"
   ]
  },
  {
   "cell_type": "code",
   "execution_count": 28,
   "id": "54cc678c",
   "metadata": {
    "ExecuteTime": {
     "end_time": "2022-09-16T07:41:43.407066Z",
     "start_time": "2022-09-16T07:41:43.360069Z"
    }
   },
   "outputs": [],
   "source": [
    "model_CNN.add(keras.layers.Flatten())\n",
    "model_CNN.add(keras.layers.Dense(100, activation='relu'))\n",
    "model_CNN.add(keras.layers.Dropout(0.4))\n",
    "model_CNN.add(keras.layers.Dense(10, activation='softmax'))"
   ]
  },
  {
   "cell_type": "markdown",
   "id": "6fdab54f",
   "metadata": {},
   "source": [
    "# ************ breakpoint ************"
   ]
  },
  {
   "cell_type": "code",
   "execution_count": 29,
   "id": "5525ae63",
   "metadata": {
    "ExecuteTime": {
     "end_time": "2022-09-16T07:41:43.439072Z",
     "start_time": "2022-09-16T07:41:43.409070Z"
    }
   },
   "outputs": [
    {
     "name": "stdout",
     "output_type": "stream",
     "text": [
      "Model: \"sequential\"\n",
      "_________________________________________________________________\n",
      " Layer (type)                Output Shape              Param #   \n",
      "=================================================================\n",
      " conv2d (Conv2D)             (None, 28, 28, 32)        320       \n",
      "                                                                 \n",
      " max_pooling2d (MaxPooling2D  (None, 14, 14, 32)       0         \n",
      " )                                                               \n",
      "                                                                 \n",
      " conv2d_1 (Conv2D)           (None, 14, 14, 64)        18496     \n",
      "                                                                 \n",
      " max_pooling2d_1 (MaxPooling  (None, 7, 7, 64)         0         \n",
      " 2D)                                                             \n",
      "                                                                 \n",
      " flatten (Flatten)           (None, 3136)              0         \n",
      "                                                                 \n",
      " dense (Dense)               (None, 100)               313700    \n",
      "                                                                 \n",
      " dropout (Dropout)           (None, 100)               0         \n",
      "                                                                 \n",
      " dense_1 (Dense)             (None, 10)                1010      \n",
      "                                                                 \n",
      "=================================================================\n",
      "Total params: 333,526\n",
      "Trainable params: 333,526\n",
      "Non-trainable params: 0\n",
      "_________________________________________________________________\n"
     ]
    }
   ],
   "source": [
    "model_CNN.summary()"
   ]
  },
  {
   "cell_type": "code",
   "execution_count": 30,
   "id": "f94a8b60",
   "metadata": {
    "ExecuteTime": {
     "end_time": "2022-09-16T07:41:44.275774Z",
     "start_time": "2022-09-16T07:41:43.441070Z"
    },
    "scrolled": false
   },
   "outputs": [
    {
     "name": "stdout",
     "output_type": "stream",
     "text": [
      "Epoch 1/20\n"
     ]
    },
    {
     "ename": "ValueError",
     "evalue": "in user code:\n\n    File \"C:\\Users\\roakf\\anaconda3\\lib\\site-packages\\keras\\engine\\training.py\", line 1051, in train_function  *\n        return step_function(self, iterator)\n    File \"C:\\Users\\roakf\\anaconda3\\lib\\site-packages\\keras\\engine\\training.py\", line 1040, in step_function  **\n        outputs = model.distribute_strategy.run(run_step, args=(data,))\n    File \"C:\\Users\\roakf\\anaconda3\\lib\\site-packages\\keras\\engine\\training.py\", line 1030, in run_step  **\n        outputs = model.train_step(data)\n    File \"C:\\Users\\roakf\\anaconda3\\lib\\site-packages\\keras\\engine\\training.py\", line 889, in train_step\n        y_pred = self(x, training=True)\n    File \"C:\\Users\\roakf\\anaconda3\\lib\\site-packages\\keras\\utils\\traceback_utils.py\", line 67, in error_handler\n        raise e.with_traceback(filtered_tb) from None\n    File \"C:\\Users\\roakf\\anaconda3\\lib\\site-packages\\keras\\engine\\input_spec.py\", line 264, in assert_input_compatibility\n        raise ValueError(f'Input {input_index} of layer \"{layer_name}\" is '\n\n    ValueError: Input 0 of layer \"sequential\" is incompatible with the layer: expected shape=(None, 28, 28, 1), found shape=(None, 256, 256, 1)\n",
     "output_type": "error",
     "traceback": [
      "\u001b[1;31m---\u001b[0m",
      "\u001b[1;31mValueError\u001b[0mTraceback (most recent call last)",
      "Input \u001b[1;32mIn [30]\u001b[0m, in \u001b[0;36m<cell line: 4>\u001b[1;34m()\u001b[0m\n\u001b[0;32m      1\u001b[0m model_CNN\u001b[38;5;241m.\u001b[39mcompile(optimizer\u001b[38;5;241m=\u001b[39m\u001b[38;5;124m'\u001b[39m\u001b[38;5;124madam\u001b[39m\u001b[38;5;124m'\u001b[39m, loss\u001b[38;5;241m=\u001b[39m\u001b[38;5;124m'\u001b[39m\u001b[38;5;124msparse_categorical_crossentropy\u001b[39m\u001b[38;5;124m'\u001b[39m, metrics\u001b[38;5;241m=\u001b[39m\u001b[38;5;124m'\u001b[39m\u001b[38;5;124maccuracy\u001b[39m\u001b[38;5;124m'\u001b[39m)\n\u001b[0;32m      2\u001b[0m \u001b[38;5;66;03m# checkpoint_cb = keras.callbacks.ModelCheckpoint('best-cnn-model.h5')\u001b[39;00m\n\u001b[0;32m      3\u001b[0m \u001b[38;5;66;03m# early_stopping_cb = keras.callbacks.EarlyStopping(patience=2, restore_best_weights=True)\u001b[39;00m\n\u001b[1;32m----> 4\u001b[0m history \u001b[38;5;241m=\u001b[39m \u001b[43mmodel_CNN\u001b[49m\u001b[38;5;241;43m.\u001b[39;49m\u001b[43mfit\u001b[49m\u001b[43m(\u001b[49m\u001b[43mtrain_scaled\u001b[49m\u001b[43m,\u001b[49m\u001b[43m \u001b[49m\u001b[43mtrain_target\u001b[49m\u001b[43m,\u001b[49m\u001b[43m \u001b[49m\u001b[43mepochs\u001b[49m\u001b[38;5;241;43m=\u001b[39;49m\u001b[38;5;241;43m20\u001b[39;49m\u001b[43m,\u001b[49m\u001b[43m \u001b[49m\u001b[43mvalidation_data\u001b[49m\u001b[38;5;241;43m=\u001b[39;49m\u001b[43m(\u001b[49m\u001b[43mval_scaled\u001b[49m\u001b[43m,\u001b[49m\u001b[43m \u001b[49m\u001b[43mval_target\u001b[49m\u001b[43m)\u001b[49m\u001b[43m)\u001b[49m\n",
      "File \u001b[1;32m~\\anaconda3\\lib\\site-packages\\keras\\utils\\traceback_utils.py:67\u001b[0m, in \u001b[0;36mfilter_traceback.<locals>.error_handler\u001b[1;34m(*args, **kwargs)\u001b[0m\n\u001b[0;32m     65\u001b[0m \u001b[38;5;28;01mexcept\u001b[39;00m \u001b[38;5;167;01mException\u001b[39;00m \u001b[38;5;28;01mas\u001b[39;00m e:  \u001b[38;5;66;03m# pylint: disable=broad-except\u001b[39;00m\n\u001b[0;32m     66\u001b[0m   filtered_tb \u001b[38;5;241m=\u001b[39m _process_traceback_frames(e\u001b[38;5;241m.\u001b[39m__traceback__)\n\u001b[1;32m---> 67\u001b[0m   \u001b[38;5;28;01mraise\u001b[39;00m e\u001b[38;5;241m.\u001b[39mwith_traceback(filtered_tb) \u001b[38;5;28;01mfrom\u001b[39;00m \u001b[38;5;28mNone\u001b[39m\n\u001b[0;32m     68\u001b[0m \u001b[38;5;28;01mfinally\u001b[39;00m:\n\u001b[0;32m     69\u001b[0m   \u001b[38;5;28;01mdel\u001b[39;00m filtered_tb\n",
      "File \u001b[1;32m~\\AppData\\Local\\Temp\\__autograph_generated_filelcic0x58.py:15\u001b[0m, in \u001b[0;36mouter_factory.<locals>.inner_factory.<locals>.tf__train_function\u001b[1;34m(iterator)\u001b[0m\n\u001b[0;32m     13\u001b[0m \u001b[38;5;28;01mtry\u001b[39;00m:\n\u001b[0;32m     14\u001b[0m     do_return \u001b[38;5;241m=\u001b[39m \u001b[38;5;28;01mTrue\u001b[39;00m\n\u001b[1;32m---> 15\u001b[0m     retval_ \u001b[38;5;241m=\u001b[39m ag__\u001b[38;5;241m.\u001b[39mconverted_call(ag__\u001b[38;5;241m.\u001b[39mld(step_function), (ag__\u001b[38;5;241m.\u001b[39mld(\u001b[38;5;28mself\u001b[39m), ag__\u001b[38;5;241m.\u001b[39mld(iterator)), \u001b[38;5;28;01mNone\u001b[39;00m, fscope)\n\u001b[0;32m     16\u001b[0m \u001b[38;5;28;01mexcept\u001b[39;00m:\n\u001b[0;32m     17\u001b[0m     do_return \u001b[38;5;241m=\u001b[39m \u001b[38;5;28;01mFalse\u001b[39;00m\n",
      "\u001b[1;31mValueError\u001b[0m: in user code:\n\n    File \"C:\\Users\\roakf\\anaconda3\\lib\\site-packages\\keras\\engine\\training.py\", line 1051, in train_function  *\n        return step_function(self, iterator)\n    File \"C:\\Users\\roakf\\anaconda3\\lib\\site-packages\\keras\\engine\\training.py\", line 1040, in step_function  **\n        outputs = model.distribute_strategy.run(run_step, args=(data,))\n    File \"C:\\Users\\roakf\\anaconda3\\lib\\site-packages\\keras\\engine\\training.py\", line 1030, in run_step  **\n        outputs = model.train_step(data)\n    File \"C:\\Users\\roakf\\anaconda3\\lib\\site-packages\\keras\\engine\\training.py\", line 889, in train_step\n        y_pred = self(x, training=True)\n    File \"C:\\Users\\roakf\\anaconda3\\lib\\site-packages\\keras\\utils\\traceback_utils.py\", line 67, in error_handler\n        raise e.with_traceback(filtered_tb) from None\n    File \"C:\\Users\\roakf\\anaconda3\\lib\\site-packages\\keras\\engine\\input_spec.py\", line 264, in assert_input_compatibility\n        raise ValueError(f'Input {input_index} of layer \"{layer_name}\" is '\n\n    ValueError: Input 0 of layer \"sequential\" is incompatible with the layer: expected shape=(None, 28, 28, 1), found shape=(None, 256, 256, 1)\n"
     ]
    }
   ],
   "source": [
    "model_CNN.compile(optimizer='adam', loss='sparse_categorical_crossentropy', metrics='accuracy')\n",
    "# checkpoint_cb = keras.callbacks.ModelCheckpoint('best-cnn-model.h5')\n",
    "# early_stopping_cb = keras.callbacks.EarlyStopping(patience=2, restore_best_weights=True)\n",
    "history = model_CNN.fit(train_scaled, train_target, epochs=20, validation_data=(val_scaled, val_target))\n",
    "# , callbacks=[checkpoint_cb, early_stopping_cb]"
   ]
  }
 ],
 "metadata": {
  "kernelspec": {
   "display_name": "Python 3 (ipykernel)",
   "language": "python",
   "name": "python3"
  },
  "language_info": {
   "codemirror_mode": {
    "name": "ipython",
    "version": 3
   },
   "file_extension": ".py",
   "mimetype": "text/x-python",
   "name": "python",
   "nbconvert_exporter": "python",
   "pygments_lexer": "ipython3",
   "version": "3.9.12"
  },
  "toc": {
   "base_numbering": 1,
   "nav_menu": {},
   "number_sections": false,
   "sideBar": true,
   "skip_h1_title": false,
   "title_cell": "Table of Contents",
   "title_sidebar": "Contents",
   "toc_cell": false,
   "toc_position": {},
   "toc_section_display": true,
   "toc_window_display": false
  }
 },
 "nbformat": 4,
 "nbformat_minor": 5
}
