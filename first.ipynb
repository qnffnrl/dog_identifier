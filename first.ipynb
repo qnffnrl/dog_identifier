{
 "cells": [
  {
   "cell_type": "code",
   "execution_count": 1,
   "id": "516982aa",
   "metadata": {
    "ExecuteTime": {
     "end_time": "2022-10-17T00:31:51.775488Z",
     "start_time": "2022-10-17T00:31:36.570187Z"
    }
   },
   "outputs": [],
   "source": [
    "import cv2\n",
    "import os\n",
    "import warnings\n",
    "warnings.filterwarnings('ignore')\n",
    "import numpy as np\n",
    "import pandas as pd\n",
    "from keras_preprocessing.image import ImageDataGenerator, load_img\n",
    "from keras.utils import to_categorical\n",
    "from sklearn.model_selection import train_test_split\n",
    "import matplotlib.pyplot as plt\n",
    "import random\n",
    "from PIL import Image\n",
    "import shutil\n",
    "import re"
   ]
  },
  {
   "cell_type": "markdown",
   "id": "1e362b2c",
   "metadata": {},
   "source": [
    "# File Name Cutting & Size Unification"
   ]
  },
  {
   "cell_type": "markdown",
   "id": "bf1ec6fe",
   "metadata": {
    "ExecuteTime": {
     "end_time": "2022-10-14T06:33:25.403292Z",
     "start_time": "2022-10-14T06:23:51.001421Z"
    }
   },
   "source": [
    "fileList = os.listdir('./realData/')\n",
    "count = 1\n",
    "for file in fileList:\n",
    "    fileNumber = file.split('-')[1]\n",
    "    img = Image.open('./realData/' + file)\n",
    "    img_resize = img.resize((600, 600))\n",
    "    if(file.split('-')[2] == '001.jpg') or (file.split('-')[2] == '01.jpg'):\n",
    "        count = 1\n",
    "    img_resize.save('./ImageSizeUnificated600/resized.' + fileNumber + '(' + str(count) + ').png')\n",
    "    count += 1"
   ]
  },
  {
   "cell_type": "markdown",
   "id": "f2dcb779",
   "metadata": {},
   "source": [
    "# -------------------------------------------------------------------------------------------------------"
   ]
  },
  {
   "cell_type": "markdown",
   "id": "18a7a796",
   "metadata": {},
   "source": [
    "# Image Gray Scaler"
   ]
  },
  {
   "cell_type": "markdown",
   "id": "a0471139",
   "metadata": {
    "ExecuteTime": {
     "end_time": "2022-10-14T06:34:06.121462Z",
     "start_time": "2022-10-14T06:33:25.405290Z"
    },
    "code_folding": []
   },
   "source": [
    "fileList = os.listdir('./ImageSizeUnificated600/')\n",
    "for file in fileList:\n",
    "    fileNumber = file.split('.')[1]\n",
    "    imageName = './ImageSizeUnificated600/resized.' + fileNumber + '.png'\n",
    "    image = cv2.imread(imageName, cv2.IMREAD_COLOR)\n",
    "    if image is None:\n",
    "        print('Could not open or find the Image')\n",
    "    grayImage = cv2.cvtColor(image, cv2.COLOR_BGR2GRAY)\n",
    "    cv2.imwrite(\"./grayImages600/\" + fileNumber + '.png', grayImage)"
   ]
  },
  {
   "cell_type": "markdown",
   "id": "88ce4494",
   "metadata": {},
   "source": [
    "# -------------------------------------------------------------------------------------------------------"
   ]
  },
  {
   "cell_type": "markdown",
   "id": "0287c0e6",
   "metadata": {},
   "source": [
    "# Image Rotate Unification"
   ]
  },
  {
   "cell_type": "markdown",
   "id": "040c79fd",
   "metadata": {
    "ExecuteTime": {
     "end_time": "2022-09-27T01:05:51.510146Z",
     "start_time": "2022-09-27T01:03:47.034615Z"
    }
   },
   "source": [
    "filenames = os.listdir(\"./grayImages1024/\")\n",
    "\n",
    "for filename in filenames:\n",
    "    fileNumber = filename.split('.')[0]\n",
    "    willStoreFileFullName = \"./grayImages1024RotateUnification/\" + fileNumber + \".png\"\n",
    "    \n",
    "    img = cv2.imread(\"./grayImages1024/\"+filename)\n",
    "    h, w, c = img.shape\n",
    "    if h == 1024:\n",
    "        imageRotated = cv2.rotate(img, cv2.ROTATE_90_CLOCKWISE)\n",
    "        cv2.imwrite(willStoreFileFullName, imageRotated)\n",
    "    else:\n",
    "        cv2.imwrite(willStoreFileFullName, img)"
   ]
  },
  {
   "cell_type": "markdown",
   "id": "5d0198e6",
   "metadata": {},
   "source": [
    "# Check"
   ]
  },
  {
   "cell_type": "markdown",
   "id": "be46909f",
   "metadata": {
    "ExecuteTime": {
     "end_time": "2022-09-27T01:12:40.570732Z",
     "start_time": "2022-09-27T01:12:02.306843Z"
    }
   },
   "source": [
    "filenames = os.listdir(\"./grayImages1024RotateUnification/\")\n",
    "\n",
    "for filename in filenames:\n",
    "    img = cv2.imread(\"./grayImages1024RotateUnification/\" + filename)\n",
    "    h, w, c = img.shape\n",
    "    if h != 768:\n",
    "        print(\"!!\")"
   ]
  },
  {
   "cell_type": "markdown",
   "id": "5bda0163",
   "metadata": {},
   "source": [
    "# -------------------------------------------------------------------------------------------------------"
   ]
  },
  {
   "cell_type": "code",
   "execution_count": 2,
   "id": "393747b6",
   "metadata": {
    "ExecuteTime": {
     "end_time": "2022-10-17T00:31:54.420339Z",
     "start_time": "2022-10-17T00:31:54.346262Z"
    }
   },
   "outputs": [],
   "source": [
    "filenames = os.listdir(\"./grayImages600/\")\n",
    "categories = []\n",
    "for filename in filenames:\n",
    "    category = filename.split('.')[0][:4]\n",
    "    categories.append(category)\n",
    "    \n",
    "df = pd.DataFrame({\n",
    "    'filename' : filenames,\n",
    "    'category' : categories\n",
    "})"
   ]
  },
  {
   "cell_type": "markdown",
   "id": "c6b52174",
   "metadata": {},
   "source": [
    "# -------------------------------------------------------------------------------------------"
   ]
  },
  {
   "cell_type": "code",
   "execution_count": 3,
   "id": "f96efa82",
   "metadata": {
    "ExecuteTime": {
     "end_time": "2022-10-17T00:31:54.610251Z",
     "start_time": "2022-10-17T00:31:54.568834Z"
    },
    "scrolled": false
   },
   "outputs": [
    {
     "data": {
      "text/html": [
       "<div>\n",
       "<style scoped>\n",
       "    .dataframe tbody tr th:only-of-type {\n",
       "        vertical-align: middle;\n",
       "    }\n",
       "\n",
       "    .dataframe tbody tr th {\n",
       "        vertical-align: top;\n",
       "    }\n",
       "\n",
       "    .dataframe thead th {\n",
       "        text-align: right;\n",
       "    }\n",
       "</style>\n",
       "<table border=\"1\" class=\"dataframe\">\n",
       "  <thead>\n",
       "    <tr style=\"text-align: right;\">\n",
       "      <th></th>\n",
       "      <th>filename</th>\n",
       "      <th>category</th>\n",
       "    </tr>\n",
       "  </thead>\n",
       "  <tbody>\n",
       "    <tr>\n",
       "      <th>0</th>\n",
       "      <td>3001(1).png</td>\n",
       "      <td>3001</td>\n",
       "    </tr>\n",
       "    <tr>\n",
       "      <th>30</th>\n",
       "      <td>3001(9).png</td>\n",
       "      <td>3001</td>\n",
       "    </tr>\n",
       "    <tr>\n",
       "      <th>29</th>\n",
       "      <td>3001(8).png</td>\n",
       "      <td>3001</td>\n",
       "    </tr>\n",
       "    <tr>\n",
       "      <th>28</th>\n",
       "      <td>3001(7).png</td>\n",
       "      <td>3001</td>\n",
       "    </tr>\n",
       "    <tr>\n",
       "      <th>27</th>\n",
       "      <td>3001(6).png</td>\n",
       "      <td>3001</td>\n",
       "    </tr>\n",
       "    <tr>\n",
       "      <th>...</th>\n",
       "      <td>...</td>\n",
       "      <td>...</td>\n",
       "    </tr>\n",
       "    <tr>\n",
       "      <th>7968</th>\n",
       "      <td>6022(10).png</td>\n",
       "      <td>6022</td>\n",
       "    </tr>\n",
       "    <tr>\n",
       "      <th>7967</th>\n",
       "      <td>6022(1).png</td>\n",
       "      <td>6022</td>\n",
       "    </tr>\n",
       "    <tr>\n",
       "      <th>7996</th>\n",
       "      <td>6022(8).png</td>\n",
       "      <td>6022</td>\n",
       "    </tr>\n",
       "    <tr>\n",
       "      <th>7981</th>\n",
       "      <td>6022(22).png</td>\n",
       "      <td>6022</td>\n",
       "    </tr>\n",
       "    <tr>\n",
       "      <th>7997</th>\n",
       "      <td>6022(9).png</td>\n",
       "      <td>6022</td>\n",
       "    </tr>\n",
       "  </tbody>\n",
       "</table>\n",
       "<p>7998 rows × 2 columns</p>\n",
       "</div>"
      ],
      "text/plain": [
       "          filename category\n",
       "0      3001(1).png     3001\n",
       "30     3001(9).png     3001\n",
       "29     3001(8).png     3001\n",
       "28     3001(7).png     3001\n",
       "27     3001(6).png     3001\n",
       "...            ...      ...\n",
       "7968  6022(10).png     6022\n",
       "7967   6022(1).png     6022\n",
       "7996   6022(8).png     6022\n",
       "7981  6022(22).png     6022\n",
       "7997   6022(9).png     6022\n",
       "\n",
       "[7998 rows x 2 columns]"
      ]
     },
     "execution_count": 3,
     "metadata": {},
     "output_type": "execute_result"
    }
   ],
   "source": [
    "df.sort_values(by='category', ascending=True)"
   ]
  },
  {
   "cell_type": "code",
   "execution_count": 4,
   "id": "24324e79",
   "metadata": {
    "ExecuteTime": {
     "end_time": "2022-10-17T00:32:17.190542Z",
     "start_time": "2022-10-17T00:32:17.166776Z"
    }
   },
   "outputs": [
    {
     "data": {
      "text/plain": [
       "category\n",
       "3001    31\n",
       "3002    31\n",
       "3003    31\n",
       "3004    31\n",
       "3005    31\n",
       "        ..\n",
       "6017    31\n",
       "6018    31\n",
       "6019    31\n",
       "6020    31\n",
       "6022    31\n",
       "Name: category, Length: 258, dtype: int64"
      ]
     },
     "execution_count": 4,
     "metadata": {},
     "output_type": "execute_result"
    }
   ],
   "source": [
    "df.groupby(\"category\")['category'].count()"
   ]
  },
  {
   "cell_type": "markdown",
   "id": "e2f31562",
   "metadata": {
    "ExecuteTime": {
     "end_time": "2022-10-14T07:58:09.356500Z",
     "start_time": "2022-10-14T07:58:09.344500Z"
    }
   },
   "source": [
    "toCopyCount = []"
   ]
  },
  {
   "cell_type": "markdown",
   "id": "23551cef",
   "metadata": {
    "ExecuteTime": {
     "end_time": "2022-10-14T07:58:09.806644Z",
     "start_time": "2022-10-14T07:58:09.783645Z"
    }
   },
   "source": [
    "toCopyCount.append((df.groupby(\"category\")['category'].count()))"
   ]
  },
  {
   "cell_type": "markdown",
   "id": "e2459855",
   "metadata": {
    "ExecuteTime": {
     "end_time": "2022-10-14T07:58:10.213369Z",
     "start_time": "2022-10-14T07:58:10.193370Z"
    }
   },
   "source": [
    "toCopyCount"
   ]
  },
  {
   "cell_type": "markdown",
   "id": "b95a8f9c",
   "metadata": {
    "ExecuteTime": {
     "end_time": "2022-10-14T07:31:08.395475Z",
     "start_time": "2022-10-14T07:31:08.382473Z"
    }
   },
   "source": [
    "realCopyCount = []"
   ]
  },
  {
   "cell_type": "markdown",
   "id": "c427fc02",
   "metadata": {
    "ExecuteTime": {
     "end_time": "2022-10-14T07:35:23.271459Z",
     "start_time": "2022-10-14T07:35:23.249458Z"
    }
   },
   "source": [
    "for i in range(0, len(toCopyCount[0])):\n",
    "    realCopyCount.append(toCopyCount[0][i])\n",
    "realCopyCount[1]"
   ]
  },
  {
   "cell_type": "markdown",
   "id": "ff487cb9",
   "metadata": {
    "ExecuteTime": {
     "end_time": "2022-10-14T07:29:32.199445Z",
     "start_time": "2022-10-14T07:29:32.186445Z"
    }
   },
   "source": [
    "test = \"3001\t3002\t3003\t3004\t3005\t3006\t3008\t3009\t3010\t3011\t3012\t3013\t3014\t3015\t3016\t3017\t3018\t3019\t3020\t3021\t3022\t3023\t3024\t3025\t3027\t3028\t3029\t3030\t3031\t3032\t3033\t3034\t3035\t3036\t3037\t3038\t3039\t3040\t3041\t3042\t3043\t3044\t3045\t3046\t3047\t3048\t3049\t3050\t3051\t3052\t3053\t3054\t3055\t3056\t3057\t3058\t3059\t3060\t3061\t3062\t3063\t3064\t3065\t3066\t3067\t3068\t3069\t3070\t3071\t3072\t3073\t3074\t3075\t3076\t3077\t3078\t3079\t3080\t3081\t3082\t3083\t4000\t4001\t4002\t4004\t4005\t4006\t4007\t4008\t4009\t4010\t4011\t4012\t4013\t4014\t4015\t4016\t4017\t4018\t4019\t4020\t4021\t4022\t4024\t4025\t4026\t4027\t4028\t4029\t4030\t4031\t4032\t4033\t4034\t4035\t4036\t4037\t4038\t4039\t4040\t4041\t4042\t4043\t4044\t4045\t4046\t4047\t4048\t4049\t4050\t4051\t4052\t4053\t4054\t4055\t4056\t4057\t4058\t4059\t4061\t4063\t4065\t4067\t4069\t4071\t4073\t4075\t4077\t4079\t4081\t4083\t4085\t4087\t4089\t4091\t4093\t4095\t4097\t4099\t4101\t4103\t4105\t4107\t5000\t5001\t5002\t5003\t5004\t5005\t5006\t5007\t5008\t5009\t5010\t5011\t5012\t5013\t5014\t5015\t5016\t5017\t5018\t5019\t5020\t5021\t5022\t5023\t5024\t5025\t5026\t5027\t5028\t5029\t5030\t5031\t5032\t5033\t5034\t5035\t5036\t5037\t5038\t5039\t5040\t5041\t5042\t5043\t5044\t5045\t5046\t5047\t5049\t5050\t5051\t5052\t5053\t5054\t5055\t5056\t5057\t5058\t5059\t5060\t5061\t5062\t5063\t5064\t5065\t5067\t5069\t5071\t5073\t5075\t5077\t5079\t5081\t6000\t6001\t6002\t6003\t6004\t6005\t6006\t6007\t6008\t6009\t6010\t6011\t6012\t6013\t6014\t6015\t6016\t6017\t6018\t6019\t6020\t6022\"\n",
    "test = test.replace(\"\t\", \",\")\n",
    "len(test.split(\",\"))"
   ]
  },
  {
   "cell_type": "markdown",
   "id": "4c313e54",
   "metadata": {
    "ExecuteTime": {
     "end_time": "2022-10-14T07:42:22.210781Z",
     "start_time": "2022-10-14T07:42:09.110782Z"
    }
   },
   "source": [
    "total = 31\n",
    "dst = \"./grayImages600/\"\n",
    "dst_tail = \".png\"\n",
    "for i in range(0, 258):\n",
    "    src = \"./grayImages600/\" + test.split(\",\")[i] + \"(1).png\"\n",
    "    for k in range(total-realCopyCount[i], 32):\n",
    "        toPath = \"./grayImages600/\" + test.split(\",\")[i] + \"(\" + str(k) + \").png\"\n",
    "        shutil.copy2(src, toPath)"
   ]
  },
  {
   "cell_type": "markdown",
   "id": "83cc07cb",
   "metadata": {},
   "source": [
    "# -------------------------------------------------------------------------------------------------------"
   ]
  },
  {
   "cell_type": "markdown",
   "id": "afa6fb96",
   "metadata": {},
   "source": [
    "# Label Count"
   ]
  },
  {
   "cell_type": "code",
   "execution_count": 5,
   "id": "4030129b",
   "metadata": {
    "ExecuteTime": {
     "end_time": "2022-10-17T00:32:20.315078Z",
     "start_time": "2022-10-17T00:32:20.308078Z"
    }
   },
   "outputs": [
    {
     "data": {
      "text/plain": [
       "258"
      ]
     },
     "execution_count": 5,
     "metadata": {},
     "output_type": "execute_result"
    }
   ],
   "source": [
    "len(df['category'].unique())"
   ]
  },
  {
   "cell_type": "markdown",
   "id": "fb826a2f",
   "metadata": {},
   "source": [
    "# -------------------------------------------------------------------------------------------------------"
   ]
  },
  {
   "cell_type": "code",
   "execution_count": 6,
   "id": "beee1c5a",
   "metadata": {
    "ExecuteTime": {
     "end_time": "2022-10-17T00:32:21.320593Z",
     "start_time": "2022-10-17T00:32:20.690588Z"
    }
   },
   "outputs": [
    {
     "name": "stdout",
     "output_type": "stream",
     "text": [
      "3008(23).png\n"
     ]
    },
    {
     "data": {
      "text/plain": [
       "<matplotlib.image.AxesImage at 0x1c0b2b9ddc0>"
      ]
     },
     "execution_count": 6,
     "metadata": {},
     "output_type": "execute_result"
    },
    {
     "data": {
      "image/png": "[encoded data removed]",
      "text/plain": [
       "<Figure size 432x288 with 1 Axes>"
      ]
     },
     "metadata": {
      "needs_background": "light"
     },
     "output_type": "display_data"
    }
   ],
   "source": [
    "sample = random.choice(filenames)\n",
    "print(sample)\n",
    "image = load_img(\"./grayImages600/\"+sample)\n",
    "plt.imshow(image)"
   ]
  },
  {
   "cell_type": "markdown",
   "id": "e7505bde",
   "metadata": {},
   "source": [
    "# -------------------------------------------------------------------------------------------------------"
   ]
  },
  {
   "cell_type": "markdown",
   "id": "3c4379e2",
   "metadata": {},
   "source": [
    "# Data Labeling\n",
    "## -------------------------------------------------------\n",
    "## train target data / size : 28x28"
   ]
  },
  {
   "cell_type": "code",
   "execution_count": 7,
   "id": "b505c8fa",
   "metadata": {
    "ExecuteTime": {
     "end_time": "2022-10-17T00:32:23.163658Z",
     "start_time": "2022-10-17T00:32:23.146660Z"
    }
   },
   "outputs": [],
   "source": [
    "train_target = np.array(df['category'])"
   ]
  },
  {
   "cell_type": "code",
   "execution_count": 8,
   "id": "84c235c9",
   "metadata": {
    "ExecuteTime": {
     "end_time": "2022-10-17T00:32:23.809344Z",
     "start_time": "2022-10-17T00:32:23.794045Z"
    },
    "scrolled": true
   },
   "outputs": [
    {
     "data": {
      "text/plain": [
       "array(['3001', '3001', '3001', ..., '6022', '6022', '6022'], dtype=object)"
      ]
     },
     "execution_count": 8,
     "metadata": {},
     "output_type": "execute_result"
    }
   ],
   "source": [
    "train_target"
   ]
  },
  {
   "cell_type": "code",
   "execution_count": 9,
   "id": "419e3eaf",
   "metadata": {
    "ExecuteTime": {
     "end_time": "2022-10-17T00:32:24.551822Z",
     "start_time": "2022-10-17T00:32:24.545820Z"
    }
   },
   "outputs": [],
   "source": [
    "train_target = train_target.astype('uint8')"
   ]
  },
  {
   "cell_type": "code",
   "execution_count": 10,
   "id": "bf28ade5",
   "metadata": {
    "ExecuteTime": {
     "end_time": "2022-10-17T00:32:25.291298Z",
     "start_time": "2022-10-17T00:32:25.285226Z"
    }
   },
   "outputs": [
    {
     "data": {
      "text/plain": [
       "array([185, 185, 185, ..., 134, 134, 134], dtype=uint8)"
      ]
     },
     "execution_count": 10,
     "metadata": {},
     "output_type": "execute_result"
    }
   ],
   "source": [
    "train_target"
   ]
  },
  {
   "cell_type": "code",
   "execution_count": 11,
   "id": "be5d7c4c",
   "metadata": {
    "ExecuteTime": {
     "end_time": "2022-10-17T00:32:25.729671Z",
     "start_time": "2022-10-17T00:32:25.713672Z"
    },
    "scrolled": true
   },
   "outputs": [
    {
     "name": "stdout",
     "output_type": "stream",
     "text": [
      "dtype :  uint8\n",
      "type :  <class 'numpy.ndarray'>\n",
      "shape :  (7998,)\n",
      "unique :  (array([  0,   1,   2,   3,   4,   5,   6,   7,   8,   9,  10,  11, 112,\n",
      "       113, 114, 115, 116, 117, 118, 119, 120, 121, 122, 123, 124, 125,\n",
      "       126, 127, 128, 129, 130, 131, 132, 134, 136, 137, 138, 139, 140,\n",
      "       141, 142, 143, 144, 145, 146, 147, 148, 149, 150, 151, 152, 153,\n",
      "       154, 155, 156, 157, 158, 159, 160, 161, 162, 163, 164, 165, 166,\n",
      "       167, 168, 169, 170, 171, 172, 173, 174, 175, 176, 177, 178, 179,\n",
      "       180, 181, 182, 183, 184, 185, 186, 187, 188, 189, 190, 191, 192,\n",
      "       193, 194, 195, 196, 197, 198, 199, 200, 201, 202, 203, 204, 205,\n",
      "       206, 207, 208, 209, 210, 211, 212, 213, 214, 215, 216, 217, 218,\n",
      "       219, 220, 221, 222, 223, 224, 225, 226, 227, 228, 229, 230, 231,\n",
      "       232, 233, 234, 235, 236, 237, 238, 239, 240, 241, 242, 243, 244,\n",
      "       245, 246, 247, 248, 249, 250, 251, 252, 253, 254, 255], dtype=uint8), array([31, 62, 31, 62, 31, 62, 31, 62, 31, 62, 31, 62, 31, 31, 31, 31, 31,\n",
      "       31, 31, 31, 31, 31, 31, 31, 31, 31, 31, 31, 31, 31, 31, 31, 31, 31,\n",
      "       31, 31, 31, 31, 31, 31, 31, 31, 31, 31, 31, 31, 31, 31, 31, 31, 31,\n",
      "       31, 31, 31, 31, 31, 31, 31, 62, 62, 62, 31, 62, 62, 62, 62, 62, 62,\n",
      "       62, 62, 62, 62, 62, 62, 62, 62, 62, 62, 62, 62, 62, 31, 31, 93, 93,\n",
      "       93, 93, 93, 93, 62, 93, 93, 93, 93, 93, 93, 93, 93, 93, 93, 62, 93,\n",
      "       62, 93, 62, 93, 62, 93, 31, 93, 62, 93, 62, 93, 62, 93, 62, 62, 31,\n",
      "       62, 31, 62, 31, 62, 31, 62, 31, 62, 31, 62, 31, 62, 31, 62, 31, 62,\n",
      "       31, 62, 31, 62, 31, 62, 31, 62, 31, 62, 31, 62, 31, 62, 31, 62, 31,\n",
      "       62], dtype=int64))\n"
     ]
    }
   ],
   "source": [
    "print('dtype : ' ,train_target.dtype)\n",
    "print('type : ', type(train_target))\n",
    "print('shape : ', train_target.shape)\n",
    "print('unique : ', np.unique(train_target, return_counts=True))"
   ]
  },
  {
   "cell_type": "markdown",
   "id": "f3b7a5a9",
   "metadata": {},
   "source": [
    "# -------------------------------------------------------------------------------------------------------"
   ]
  },
  {
   "cell_type": "markdown",
   "id": "4bf96578",
   "metadata": {},
   "source": [
    "# 1개 짜리 데이터 삭제\n",
    "## 삭제 대상"
   ]
  },
  {
   "cell_type": "markdown",
   "id": "b588608c",
   "metadata": {
    "ExecuteTime": {
     "end_time": "2022-10-14T06:39:36.877767Z",
     "start_time": "2022-10-14T06:39:36.856769Z"
    }
   },
   "source": [
    "deleteTarget = []\n",
    "\n",
    "targetNumber = (np.unique(train_target, return_counts=True))[0]\n",
    "countes = (np.unique(train_target, return_counts=True))[1]\n",
    "\n",
    "for i in range(0, len(countes)):\n",
    "    if countes[i] == 1:\n",
    "        deleteTarget.append(targetNumber[i])\n",
    "\n",
    "print(deleteTarget)"
   ]
  },
  {
   "cell_type": "markdown",
   "id": "7aa3eaa1",
   "metadata": {},
   "source": [
    "## 삭제"
   ]
  },
  {
   "cell_type": "markdown",
   "id": "2ec51056",
   "metadata": {
    "ExecuteTime": {
     "end_time": "2022-10-14T06:39:39.274912Z",
     "start_time": "2022-10-14T06:39:39.248912Z"
    }
   },
   "source": [
    "for i in range(0, len(countes)):\n",
    "    if countes[i] == 1:\n",
    "        if os.path.isfile('./grayImages600/' + targetNumber[i] + '(1).png'):\n",
    "            os.remove('./grayImages600/' + targetNumber[i] + '(1).png')"
   ]
  },
  {
   "cell_type": "markdown",
   "id": "b11aff2f",
   "metadata": {
    "ExecuteTime": {
     "end_time": "2022-10-14T06:39:40.054189Z",
     "start_time": "2022-10-14T06:39:40.034188Z"
    }
   },
   "source": [
    "fileList = os.listdir('./grayImages600/')\n",
    "totalFileCount = 0\n",
    "for file in fileList:\n",
    "    totalFileCount += 1\n",
    "    \n",
    "print(totalFileCount)"
   ]
  },
  {
   "cell_type": "markdown",
   "id": "052cb214",
   "metadata": {},
   "source": [
    "# -------------------------------------------------------------------------------------------------------"
   ]
  },
  {
   "cell_type": "markdown",
   "id": "09e6ba79",
   "metadata": {},
   "source": [
    "# train input data"
   ]
  },
  {
   "cell_type": "code",
   "execution_count": 12,
   "id": "71e2f5f0",
   "metadata": {
    "ExecuteTime": {
     "end_time": "2022-10-17T00:32:28.162788Z",
     "start_time": "2022-10-17T00:32:28.147786Z"
    }
   },
   "outputs": [],
   "source": [
    "train_input = []"
   ]
  },
  {
   "cell_type": "code",
   "execution_count": 13,
   "id": "ab642d0a",
   "metadata": {
    "ExecuteTime": {
     "end_time": "2022-10-17T00:33:17.227641Z",
     "start_time": "2022-10-17T00:32:28.544159Z"
    }
   },
   "outputs": [],
   "source": [
    "filenames = os.listdir(\"./grayImages600/\")\n",
    "for filename in filenames:\n",
    "    train_input.append( np.array(Image.open('./grayImages600/' + filename)) )"
   ]
  },
  {
   "cell_type": "code",
   "execution_count": 14,
   "id": "3cd452db",
   "metadata": {
    "ExecuteTime": {
     "end_time": "2022-10-17T00:33:18.347829Z",
     "start_time": "2022-10-17T00:33:17.229643Z"
    }
   },
   "outputs": [],
   "source": [
    "train_input = np.array(train_input)"
   ]
  },
  {
   "cell_type": "code",
   "execution_count": 15,
   "id": "ab36ffd3",
   "metadata": {
    "ExecuteTime": {
     "end_time": "2022-10-17T00:33:18.364125Z",
     "start_time": "2022-10-17T00:33:18.347829Z"
    },
    "scrolled": true
   },
   "outputs": [
    {
     "data": {
      "text/plain": [
       "array([[[ 58,  57,  57, ...,  70,  69,  71],\n",
       "        [ 61,  57,  56, ...,  73,  69,  68],\n",
       "        [ 60,  59,  57, ...,  72,  72,  72],\n",
       "        ...,\n",
       "        [150, 142, 139, ...,  85,  81,  81],\n",
       "        [223, 215, 207, ...,  87,  89,  87],\n",
       "        [245, 250, 251, ...,  84,  89,  90]],\n",
       "\n",
       "       [[ 58,  57,  57, ...,  70,  69,  71],\n",
       "        [ 61,  57,  56, ...,  73,  69,  68],\n",
       "        [ 60,  59,  57, ...,  72,  72,  72],\n",
       "        ...,\n",
       "        [150, 142, 139, ...,  85,  81,  81],\n",
       "        [223, 215, 207, ...,  87,  89,  87],\n",
       "        [245, 250, 251, ...,  84,  89,  90]],\n",
       "\n",
       "       [[ 58,  57,  57, ...,  70,  69,  71],\n",
       "        [ 61,  57,  56, ...,  73,  69,  68],\n",
       "        [ 60,  59,  57, ...,  72,  72,  72],\n",
       "        ...,\n",
       "        [150, 142, 139, ...,  85,  81,  81],\n",
       "        [223, 215, 207, ...,  87,  89,  87],\n",
       "        [245, 250, 251, ...,  84,  89,  90]],\n",
       "\n",
       "       ...,\n",
       "\n",
       "       [[ 86,  88,  91, ...,  96,  97,  98],\n",
       "        [ 91,  91,  99, ...,  95,  97,  99],\n",
       "        [ 83,  83,  92, ...,  94,  97,  99],\n",
       "        ...,\n",
       "        [ 45,  45,  45, ...,  43,  44,  44],\n",
       "        [ 46,  45,  45, ...,  43,  44,  45],\n",
       "        [ 49,  46,  46, ...,  43,  44,  45]],\n",
       "\n",
       "       [[ 98,  82,  76, ...,  94,  95,  95],\n",
       "        [ 88,  83,  69, ...,  95,  96,  96],\n",
       "        [ 81,  83,  80, ...,  95,  96,  96],\n",
       "        ...,\n",
       "        [ 77,  76,  74, ...,  40,  40,  40],\n",
       "        [ 77,  77,  71, ...,  40,  41,  41],\n",
       "        [ 76,  73,  61, ...,  41,  42,  42]],\n",
       "\n",
       "       [[ 92,  91,  89, ...,  94,  95,  95],\n",
       "        [ 86,  95, 101, ...,  94,  95,  96],\n",
       "        [ 79,  84, 101, ...,  94,  95,  96],\n",
       "        ...,\n",
       "        [ 54,  46,  44, ...,  42,  43,  44],\n",
       "        [ 54,  50,  46, ...,  42,  42,  43],\n",
       "        [ 43,  49,  50, ...,  43,  44,  44]]], dtype=uint8)"
      ]
     },
     "execution_count": 15,
     "metadata": {},
     "output_type": "execute_result"
    }
   ],
   "source": [
    "train_input"
   ]
  },
  {
   "cell_type": "code",
   "execution_count": 16,
   "id": "40ecbccd",
   "metadata": {
    "ExecuteTime": {
     "end_time": "2022-10-17T00:33:18.381222Z",
     "start_time": "2022-10-17T00:33:18.366126Z"
    }
   },
   "outputs": [
    {
     "name": "stdout",
     "output_type": "stream",
     "text": [
      "(7998, 600, 600)\n"
     ]
    }
   ],
   "source": [
    "print(train_input.shape)"
   ]
  },
  {
   "cell_type": "markdown",
   "id": "a2d2add8",
   "metadata": {},
   "source": [
    "# -------------------------------------------------------------------------------------------------------"
   ]
  },
  {
   "cell_type": "markdown",
   "id": "1bcc0945",
   "metadata": {},
   "source": [
    "# Data Normalization "
   ]
  },
  {
   "cell_type": "code",
   "execution_count": 17,
   "id": "4070c996",
   "metadata": {
    "ExecuteTime": {
     "end_time": "2022-10-17T00:33:22.407582Z",
     "start_time": "2022-10-17T00:33:22.390584Z"
    }
   },
   "outputs": [],
   "source": [
    "train_scaled = ()"
   ]
  },
  {
   "cell_type": "code",
   "execution_count": 18,
   "id": "2e5da0da",
   "metadata": {
    "ExecuteTime": {
     "end_time": "2022-10-17T00:34:18.286311Z",
     "start_time": "2022-10-17T00:33:22.841334Z"
    }
   },
   "outputs": [],
   "source": [
    "train_scaled = train_input.reshape(-1, 600, 600, 1) / 255.0"
   ]
  },
  {
   "cell_type": "code",
   "execution_count": 19,
   "id": "49d51370",
   "metadata": {
    "ExecuteTime": {
     "end_time": "2022-10-17T00:34:18.516312Z",
     "start_time": "2022-10-17T00:34:18.444312Z"
    }
   },
   "outputs": [],
   "source": [
    "# print(train_scaled)"
   ]
  },
  {
   "cell_type": "code",
   "execution_count": 20,
   "id": "1c7f070e",
   "metadata": {
    "ExecuteTime": {
     "end_time": "2022-10-17T00:34:18.604312Z",
     "start_time": "2022-10-17T00:34:18.528312Z"
    },
    "scrolled": true
   },
   "outputs": [
    {
     "name": "stdout",
     "output_type": "stream",
     "text": [
      "(7998, 600, 600, 1)\n"
     ]
    }
   ],
   "source": [
    "print(train_scaled.shape)"
   ]
  },
  {
   "cell_type": "markdown",
   "id": "a6ea2eac",
   "metadata": {},
   "source": [
    "# Data Split"
   ]
  },
  {
   "cell_type": "code",
   "execution_count": 21,
   "id": "3aa92711",
   "metadata": {
    "ExecuteTime": {
     "end_time": "2022-10-17T00:38:00.592383Z",
     "start_time": "2022-10-17T00:34:22.635493Z"
    }
   },
   "outputs": [],
   "source": [
    "train_scaled, val_scaled, train_target, val_target = train_test_split(train_scaled, train_target, test_size=0.2, random_state=42)"
   ]
  },
  {
   "cell_type": "code",
   "execution_count": null,
   "id": "2b71701f",
   "metadata": {
    "ExecuteTime": {
     "start_time": "2022-10-17T00:22:16.949Z"
    },
    "scrolled": true
   },
   "outputs": [],
   "source": [
    "print(train_scaled.shape, train_target.shape)\n",
    "print(val_scaled.shape, val_target.shape)"
   ]
  },
  {
   "cell_type": "markdown",
   "id": "604df35d",
   "metadata": {},
   "source": [
    "# CNN"
   ]
  },
  {
   "cell_type": "code",
   "execution_count": 245,
   "id": "9799cf44",
   "metadata": {
    "ExecuteTime": {
     "end_time": "2022-10-14T07:58:19.647842Z",
     "start_time": "2022-10-14T07:58:19.627841Z"
    }
   },
   "outputs": [],
   "source": [
    "from tensorflow import keras"
   ]
  },
  {
   "cell_type": "code",
   "execution_count": 246,
   "id": "8e4675e3",
   "metadata": {
    "ExecuteTime": {
     "end_time": "2022-10-14T07:58:22.586261Z",
     "start_time": "2022-10-14T07:58:20.261844Z"
    }
   },
   "outputs": [],
   "source": [
    "model_CNN = keras.Sequential()"
   ]
  },
  {
   "cell_type": "markdown",
   "id": "8f6d8f6e",
   "metadata": {
    "ExecuteTime": {
     "end_time": "2022-09-15T03:06:39.892337Z",
     "start_time": "2022-09-15T03:06:39.892337Z"
    }
   },
   "source": [
    "model.evaluate(val_scaled, val_target)"
   ]
  },
  {
   "cell_type": "markdown",
   "id": "bb55b2c4",
   "metadata": {},
   "source": [
    "# ************ breakpoint ************"
   ]
  },
  {
   "cell_type": "markdown",
   "id": "0d112707",
   "metadata": {},
   "source": [
    "# Feature Extraction"
   ]
  },
  {
   "cell_type": "code",
   "execution_count": null,
   "id": "1ab7a4ce",
   "metadata": {
    "ExecuteTime": {
     "end_time": "2022-10-14T07:58:25.982423Z",
     "start_time": "2022-10-14T07:58:25.763850Z"
    }
   },
   "outputs": [],
   "source": [
    "model_CNN.add(keras.layers.Conv2D(filters=32, kernel_size=3, activation='relu', padding='same', input_shape=(600, 600, 1)))\n",
    "model_CNN.add(keras.layers.MaxPooling2D(2))\n",
    "model_CNN.add(keras.layers.Conv2D(filters=64, kernel_size=3, activation='relu', padding='same'))\n",
    "model_CNN.add(keras.layers.MaxPooling2D(2))\n",
    "model_CNN.add(keras.layers.Conv2D(filters=128, kernel_size=3, activation='relu', padding='same'))\n",
    "model_CNN.add(keras.layers.MaxPooling2D(2))\n",
    "model_CNN.add(keras.layers.Conv2D(filters=256, kernel_size=3, activation='relu', padding='same'))\n",
    "model_CNN.add(keras.layers.MaxPooling2D(2))"
   ]
  },
  {
   "cell_type": "markdown",
   "id": "22e98b7d",
   "metadata": {},
   "source": [
    "# Classifier"
   ]
  },
  {
   "cell_type": "code",
   "execution_count": null,
   "id": "905dd1a2",
   "metadata": {
    "ExecuteTime": {
     "end_time": "2022-10-14T07:58:27.848752Z",
     "start_time": "2022-10-14T07:58:27.499756Z"
    }
   },
   "outputs": [],
   "source": [
    "model_CNN.add(keras.layers.Flatten())\n",
    "model_CNN.add(keras.layers.Dense(100, activation='relu'))\n",
    "model_CNN.add(keras.layers.Dropout(0.4))\n",
    "model_CNN.add(keras.layers.Dense(258, activation='softmax'))"
   ]
  },
  {
   "cell_type": "markdown",
   "id": "357ba6a4",
   "metadata": {},
   "source": [
    "# ************ breakpoint ************"
   ]
  },
  {
   "cell_type": "markdown",
   "id": "53fe1209",
   "metadata": {},
   "source": [
    "# -------------------------------------------------------------------------------------------------------"
   ]
  },
  {
   "cell_type": "markdown",
   "id": "13c44f9d",
   "metadata": {
    "ExecuteTime": {
     "end_time": "2022-10-14T07:58:29.078238Z",
     "start_time": "2022-10-14T07:58:29.036240Z"
    },
    "scrolled": true
   },
   "source": [
    "model_CNN.summary()"
   ]
  },
  {
   "cell_type": "markdown",
   "id": "c230f5f3",
   "metadata": {
    "ExecuteTime": {
     "end_time": "2022-10-14T07:58:30.963505Z",
     "start_time": "2022-10-14T07:58:30.008855Z"
    },
    "collapsed": true
   },
   "source": [
    "keras.utils.plot_model(model_CNN)"
   ]
  },
  {
   "cell_type": "markdown",
   "id": "7e8da180",
   "metadata": {
    "ExecuteTime": {
     "end_time": "2022-10-14T07:58:36.211722Z",
     "start_time": "2022-10-14T07:58:35.988724Z"
    },
    "collapsed": true
   },
   "source": [
    "keras.utils.plot_model(model_CNN, show_shapes=True)"
   ]
  },
  {
   "cell_type": "markdown",
   "id": "1eb04eb5",
   "metadata": {},
   "source": [
    "# Learning"
   ]
  },
  {
   "cell_type": "code",
   "execution_count": null,
   "id": "0ae926a3",
   "metadata": {
    "ExecuteTime": {
     "end_time": "2022-10-14T13:01:24.540516Z",
     "start_time": "2022-10-14T07:59:11.492731Z"
    }
   },
   "outputs": [],
   "source": [
    "model_CNN.compile(optimizer='adam', loss='sparse_categorical_crossentropy', metrics='accuracy')\n",
    "checkpoint_cb = keras.callbacks.ModelCheckpoint('best-cnn-model.h5')\n",
    "early_stopping_cb = keras.callbacks.EarlyStopping(patience=2, restore_best_weights=True)\n",
    "history = model_CNN.fit(train_scaled, train_target, epochs=30, validation_data=(val_scaled, val_target), callbacks=[checkpoint_cb, early_stopping_cb])"
   ]
  },
  {
   "cell_type": "code",
   "execution_count": 255,
   "id": "f76ffd83",
   "metadata": {
    "ExecuteTime": {
     "end_time": "2022-10-14T16:51:49.686971Z",
     "start_time": "2022-10-14T16:51:42.234031Z"
    }
   },
   "outputs": [
    {
     "data": {
      "image/png": "[encoded data removed]",
      "text/plain": [
       "<Figure size 432x288 with 1 Axes>"
      ]
     },
     "metadata": {
      "needs_background": "light"
     },
     "output_type": "display_data"
    }
   ],
   "source": [
    "import matplotlib.pyplot as plt\n",
    "plt.plot(history.history['loss'])\n",
    "plt.plot(history.history['val_loss'])\n",
    "plt.xlabel('epoch')\n",
    "plt.ylabel('loss')\n",
    "plt.legend(['train', 'val'])\n",
    "plt.show()"
   ]
  },
  {
   "cell_type": "markdown",
   "id": "263eda30",
   "metadata": {},
   "source": [
    "# 학습된 모델 불러오기"
   ]
  },
  {
   "cell_type": "code",
   "execution_count": 263,
   "id": "7a61d12b",
   "metadata": {
    "ExecuteTime": {
     "end_time": "2022-10-14T16:55:30.768096Z",
     "start_time": "2022-10-14T16:53:43.158281Z"
    }
   },
   "outputs": [
    {
     "name": "stdout",
     "output_type": "stream",
     "text": [
      "50/50 [==============================] - 105s 2s/step - loss: 0.9617 - accuracy: 0.8462\n"
     ]
    },
    {
     "data": {
      "text/plain": [
       "[0.9617312550544739, 0.8462499976158142]"
      ]
     },
     "execution_count": 263,
     "metadata": {},
     "output_type": "execute_result"
    }
   ],
   "source": [
    "model_CNN2 = keras.models.load_model('./best-cnn-model.h5')\n",
    "model_CNN2.evaluate(val_scaled, val_target)"
   ]
  },
  {
   "cell_type": "markdown",
   "id": "3d2f1b0e",
   "metadata": {},
   "source": [
    "# Test\n",
    "## y_train first data ↓↓↓"
   ]
  },
  {
   "cell_type": "code",
   "execution_count": 264,
   "id": "b3cca6ab",
   "metadata": {
    "ExecuteTime": {
     "end_time": "2022-10-14T16:56:21.562061Z",
     "start_time": "2022-10-14T16:56:21.408761Z"
    }
   },
   "outputs": [
    {
     "data": {
      "image/png": "[encoded data removed]",
      "text/plain": [
       "<Figure size 432x288 with 1 Axes>"
      ]
     },
     "metadata": {
      "needs_background": "light"
     },
     "output_type": "display_data"
    }
   ],
   "source": [
    "plt.imshow(val_scaled[0].reshape(600, 600), cmap='gray_r')\n",
    "plt.show()"
   ]
  },
  {
   "cell_type": "markdown",
   "id": "adc85655",
   "metadata": {},
   "source": [
    "# Performance"
   ]
  },
  {
   "cell_type": "markdown",
   "id": "c4128e1c",
   "metadata": {},
   "source": [
    "# 위 사진에 대한 258개 확률 출력"
   ]
  },
  {
   "cell_type": "code",
   "execution_count": 265,
   "id": "3c71669a",
   "metadata": {
    "ExecuteTime": {
     "end_time": "2022-10-14T16:56:22.298679Z",
     "start_time": "2022-10-14T16:56:22.077980Z"
    },
    "scrolled": true
   },
   "outputs": [
    {
     "name": "stdout",
     "output_type": "stream",
     "text": [
      "1/1 [==============================] - 0s 172ms/step\n",
      "[[2.30348509e-14 1.58603299e-07 1.01048352e-15 1.35303103e-14\n",
      "  6.01580211e-18 1.48823587e-09 9.95023427e-14 9.92253762e-12\n",
      "  7.98398236e-09 3.57402429e-16 1.34971035e-19 6.25333507e-10\n",
      "  4.36747062e-18 1.18913243e-17 4.66636262e-19 4.50394583e-17\n",
      "  2.46631518e-22 5.29747144e-20 1.16675320e-21 8.91354158e-16\n",
      "  6.66400562e-22 1.94519987e-19 8.35280278e-21 3.37674331e-21\n",
      "  1.27088456e-19 4.96184663e-18 2.03977214e-20 3.45890991e-18\n",
      "  5.56233826e-22 3.04436652e-14 2.78514938e-18 2.47126283e-19\n",
      "  3.52353455e-21 5.35912173e-19 2.40741467e-18 2.46426969e-18\n",
      "  7.21277583e-20 7.60735210e-19 1.54967751e-19 5.22937173e-18\n",
      "  7.01323140e-24 2.67190323e-16 6.95663527e-17 1.51170351e-17\n",
      "  1.61237353e-21 2.72187730e-18 8.84342432e-18 3.61262853e-21\n",
      "  2.27456807e-19 1.32441597e-14 1.67204366e-20 2.12538501e-20\n",
      "  4.29889239e-17 2.59131532e-18 2.44808485e-21 1.09608408e-21\n",
      "  4.58944619e-19 4.23491236e-23 1.90465408e-18 4.45022911e-19\n",
      "  6.39416430e-20 2.12992190e-20 3.50865019e-19 3.12043340e-18\n",
      "  2.65598264e-21 3.06744007e-19 4.37132297e-17 7.95326921e-19\n",
      "  3.25316668e-17 2.59547046e-18 1.60318609e-21 1.15832828e-19\n",
      "  2.12369876e-13 6.75023518e-20 3.30354550e-21 2.10121164e-17\n",
      "  1.18979372e-19 7.98625175e-20 3.98276591e-23 9.20139087e-18\n",
      "  9.22302893e-20 1.03416721e-21 5.01550689e-20 3.55437234e-19\n",
      "  1.30146943e-19 5.84203901e-21 1.14088959e-16 4.34649342e-19\n",
      "  1.32061758e-21 5.48191084e-15 1.21178935e-19 2.09738960e-19\n",
      "  1.80952062e-17 1.22214586e-20 3.64494457e-17 1.26066203e-20\n",
      "  3.53166624e-19 6.94595519e-15 7.92154543e-17 5.35634478e-18\n",
      "  3.38834505e-20 8.69460792e-17 1.56672815e-15 4.21025314e-22\n",
      "  7.60801953e-19 2.69416623e-22 1.24267809e-24 7.64971848e-20\n",
      "  2.23461841e-20 1.91904476e-13 1.03694481e-20 1.33681879e-18\n",
      "  1.34115689e-12 3.36226420e-17 1.38588412e-17 2.54105986e-10\n",
      "  3.89147265e-14 2.55162679e-11 4.57654505e-11 6.41735901e-11\n",
      "  1.32432216e-11 2.40813584e-14 1.00456905e-14 6.56790648e-13\n",
      "  1.51203999e-22 1.30266620e-12 6.55450612e-16 6.59119840e-13\n",
      "  1.79965088e-15 7.56846842e-14 6.21450049e-14 1.08302829e-15\n",
      "  1.45056515e-12 7.60774680e-22 9.14132886e-16 1.87125936e-18\n",
      "  8.15467411e-06 1.66374397e-16 1.89622074e-09 2.99199467e-13\n",
      "  1.09161837e-15 2.78117233e-15 2.58109733e-16 5.51620936e-11\n",
      "  1.49184770e-17 5.01320209e-16 9.93452227e-16 4.65033893e-17\n",
      "  1.77975768e-14 1.78200130e-12 9.99988198e-01 4.65142965e-21\n",
      "  9.10367959e-08 1.58555996e-14 8.43808964e-13 8.53715529e-15\n",
      "  2.19918483e-09 8.88444207e-10 2.03429031e-16 2.60083626e-15\n",
      "  1.64297883e-19 1.75404277e-12 1.01615271e-18 6.66713282e-11\n",
      "  7.88828584e-13 1.98671115e-16 8.39814167e-13 8.44840247e-19\n",
      "  1.44042903e-10 2.78933404e-10 4.29950997e-12 1.72309078e-09\n",
      "  4.57578289e-12 2.72969030e-15 2.20917119e-15 4.39089043e-11\n",
      "  1.30622126e-07 3.63549413e-10 1.73003579e-13 6.60863576e-16\n",
      "  1.05721496e-13 1.57163477e-10 2.68377232e-09 2.54085431e-19\n",
      "  2.44256197e-14 3.15112270e-10 9.50740286e-08 1.69956746e-12\n",
      "  1.35555895e-08 1.31259114e-07 6.39930253e-12 1.57222495e-14\n",
      "  2.21350217e-12 9.84620718e-11 3.37497804e-14 4.47379373e-12\n",
      "  2.98750025e-10 2.36466611e-16 1.00494909e-13 6.17710147e-13\n",
      "  7.31724573e-15 1.01642826e-10 1.05844619e-12 1.45718413e-16\n",
      "  9.00371583e-11 9.25381801e-15 4.23635295e-14 5.00607111e-10\n",
      "  1.58083633e-15 1.52639623e-09 7.39906255e-16 1.59652586e-12\n",
      "  3.57542699e-17 2.39538370e-13 7.49587946e-13 1.11515669e-06\n",
      "  1.66723274e-15 1.66455443e-11 4.84363127e-08 2.48354930e-11\n",
      "  8.71368001e-14 1.94213432e-15 1.42685104e-12 2.97397946e-07\n",
      "  5.71600822e-11 3.37592737e-16 1.30532521e-06 9.24565331e-18\n",
      "  1.99133095e-17 8.95302651e-11 5.16971525e-16 2.58367248e-13\n",
      "  3.81204963e-11 3.42201421e-20 2.48727159e-14 3.61838923e-16\n",
      "  1.26177091e-09 4.73749153e-14 4.21993170e-15 1.51467248e-07\n",
      "  1.53268402e-08 5.92223796e-12 4.87181637e-08 3.56765297e-14\n",
      "  1.56856492e-14 4.26994262e-08 1.78918336e-09 4.78606345e-14\n",
      "  2.14499859e-12 4.15951162e-11 1.08957409e-18 9.82282827e-16\n",
      "  2.78392016e-16 2.10521823e-14 2.33836683e-11 3.66298236e-09\n",
      "  3.31692723e-23 1.26759703e-19]]\n"
     ]
    }
   ],
   "source": [
    "preds = model_CNN2.predict(val_scaled[0:1])\n",
    "print(preds)"
   ]
  },
  {
   "cell_type": "markdown",
   "id": "b9594498",
   "metadata": {},
   "source": [
    "# 확률 그래프"
   ]
  },
  {
   "cell_type": "code",
   "execution_count": 266,
   "id": "13c0de94",
   "metadata": {
    "ExecuteTime": {
     "end_time": "2022-10-14T16:56:23.030918Z",
     "start_time": "2022-10-14T16:56:22.577782Z"
    }
   },
   "outputs": [
    {
     "data": {
      "image/png": "[encoded data removed]",
      "text/plain": [
       "<Figure size 432x288 with 1 Axes>"
      ]
     },
     "metadata": {
      "needs_background": "light"
     },
     "output_type": "display_data"
    }
   ],
   "source": [
    "plt.bar(range(1, 259), preds[0])\n",
    "plt.xlabel('class')\n",
    "plt.ylabel('prob')\n",
    "plt.show()"
   ]
  },
  {
   "cell_type": "markdown",
   "id": "a67c5317",
   "metadata": {},
   "source": [
    "# Total target (classes) < append"
   ]
  },
  {
   "cell_type": "code",
   "execution_count": 267,
   "id": "a8d5da96",
   "metadata": {
    "ExecuteTime": {
     "end_time": "2022-10-14T16:56:23.155911Z",
     "start_time": "2022-10-14T16:56:23.125167Z"
    }
   },
   "outputs": [],
   "source": [
    "classes = []\n",
    "for i in df['category'].unique():\n",
    "    classes.append(i)"
   ]
  },
  {
   "cell_type": "markdown",
   "id": "80b96d5e",
   "metadata": {},
   "source": [
    "# 위 사진의 target"
   ]
  },
  {
   "cell_type": "code",
   "execution_count": 268,
   "id": "58f018fc",
   "metadata": {
    "ExecuteTime": {
     "end_time": "2022-10-14T16:56:31.280985Z",
     "start_time": "2022-10-14T16:56:31.263984Z"
    }
   },
   "outputs": [
    {
     "name": "stdout",
     "output_type": "stream",
     "text": [
      "4083\n"
     ]
    }
   ],
   "source": [
    "import numpy as np\n",
    "print(classes[np.argmax(preds)])"
   ]
  },
  {
   "cell_type": "code",
   "execution_count": 269,
   "id": "c674fa8d",
   "metadata": {
    "ExecuteTime": {
     "end_time": "2022-10-14T16:58:18.186955Z",
     "start_time": "2022-10-14T16:56:31.609064Z"
    }
   },
   "outputs": [
    {
     "name": "stdout",
     "output_type": "stream",
     "text": [
      "50/50 [==============================] - 105s 2s/step - loss: 0.9617 - accuracy: 0.8462\n"
     ]
    }
   ],
   "source": [
    "acc = model_CNN2.evaluate(val_scaled, val_target)"
   ]
  },
  {
   "cell_type": "code",
   "execution_count": 270,
   "id": "54f58420",
   "metadata": {
    "ExecuteTime": {
     "end_time": "2022-10-14T16:58:18.218463Z",
     "start_time": "2022-10-14T16:58:18.189318Z"
    }
   },
   "outputs": [
    {
     "name": "stdout",
     "output_type": "stream",
     "text": [
      "Accuracy : 84.62%\n"
     ]
    }
   ],
   "source": [
    "print(\"Accuracy : {:.2f}%\".format(acc[1]*100))"
   ]
  },
  {
   "cell_type": "code",
   "execution_count": null,
   "id": "02831bb8",
   "metadata": {},
   "outputs": [],
   "source": []
  },
  {
   "cell_type": "code",
   "execution_count": null,
   "id": "149c9d2d",
   "metadata": {},
   "outputs": [],
   "source": []
  }
 ],
 "metadata": {
  "kernelspec": {
   "display_name": "Python 3 (ipykernel)",
   "language": "python",
   "name": "python3"
  },
  "language_info": {
   "codemirror_mode": {
    "name": "ipython",
    "version": 3
   },
   "file_extension": ".py",
   "mimetype": "text/x-python",
   "name": "python",
   "nbconvert_exporter": "python",
   "pygments_lexer": "ipython3",
   "version": "3.9.12"
  },
  "toc": {
   "base_numbering": 1,
   "nav_menu": {},
   "number_sections": false,
   "sideBar": true,
   "skip_h1_title": false,
   "title_cell": "Table of Contents",
   "title_sidebar": "Contents",
   "toc_cell": false,
   "toc_position": {},
   "toc_section_display": true,
   "toc_window_display": false
  },
  "varInspector": {
   "cols": {
    "lenName": 16,
    "lenType": 16,
    "lenVar": 40
   },
   "kernels_config": {
    "python": {
     "delete_cmd_postfix": "",
     "delete_cmd_prefix": "del ",
     "library": "var_list.py",
     "varRefreshCmd": "print(var_dic_list())"
    },
    "r": {
     "delete_cmd_postfix": ") ",
     "delete_cmd_prefix": "rm(",
     "library": "var_list.r",
     "varRefreshCmd": "cat(var_dic_list()) "
    }
   },
   "types_to_exclude": [
    "module",
    "function",
    "builtin_function_or_method",
    "instance",
    "_Feature"
   ],
   "window_display": false
  }
 },
 "nbformat": 4,
 "nbformat_minor": 5
}
