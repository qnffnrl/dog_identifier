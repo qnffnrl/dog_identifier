{
 "cells": [
  {
   "cell_type": "code",
   "execution_count": 1,
   "id": "516982aa",
   "metadata": {
    "ExecuteTime": {
     "end_time": "2022-09-27T05:27:40.247003Z",
     "start_time": "2022-09-27T05:27:26.249196Z"
    }
   },
   "outputs": [],
   "source": [
    "import cv2\n",
    "import os\n",
    "import warnings\n",
    "warnings.filterwarnings('ignore')\n",
    "import numpy as np\n",
    "import pandas as pd\n",
    "from keras_preprocessing.image import ImageDataGenerator, load_img\n",
    "from keras.utils import to_categorical\n",
    "from sklearn.model_selection import train_test_split\n",
    "import matplotlib.pyplot as plt\n",
    "import random\n",
    "from PIL import Image"
   ]
  },
  {
   "cell_type": "markdown",
   "id": "1e362b2c",
   "metadata": {},
   "source": [
    "# File Name Cutting & Size Unification"
   ]
  },
  {
   "cell_type": "markdown",
   "id": "090e6cf2",
   "metadata": {
    "ExecuteTime": {
     "end_time": "2022-09-27T05:38:50.343056Z",
     "start_time": "2022-09-27T05:29:17.526465Z"
    }
   },
   "source": [
    "fileList = os.listdir('./realData/')\n",
    "count = 1\n",
    "for file in fileList:\n",
    "    fileNumber = file.split('-')[1]\n",
    "    img = Image.open('./realData/' + file)\n",
    "    img_resize = img.resize((600, 600))\n",
    "    if(file.split('-')[2] == '001.jpg') or (file.split('-')[2] == '01.jpg'):\n",
    "        count = 1\n",
    "    img_resize.save('./ImageSizeUnificated600/resized.' + fileNumber + '(' + str(count) + ').png')\n",
    "    count += 1"
   ]
  },
  {
   "cell_type": "markdown",
   "id": "f2dcb779",
   "metadata": {},
   "source": [
    "# -------------------------------------------------------------------------------------------------------"
   ]
  },
  {
   "cell_type": "markdown",
   "id": "18a7a796",
   "metadata": {},
   "source": [
    "# Image Gray Scaler"
   ]
  },
  {
   "cell_type": "markdown",
   "id": "67d41552",
   "metadata": {
    "ExecuteTime": {
     "end_time": "2022-09-27T05:43:50.317878Z",
     "start_time": "2022-09-27T05:43:10.077912Z"
    },
    "code_folding": []
   },
   "source": [
    "fileList = os.listdir('./ImageSizeUnificated600/')\n",
    "for file in fileList:\n",
    "    fileNumber = file.split('.')[1]\n",
    "    imageName = './ImageSizeUnificated600/resized.' + fileNumber + '.png'\n",
    "    image = cv2.imread(imageName, cv2.IMREAD_COLOR)\n",
    "    if image is None:\n",
    "        print('Could not open or find the Image')\n",
    "    grayImage = cv2.cvtColor(image, cv2.COLOR_BGR2GRAY)\n",
    "    cv2.imwrite(\"./grayImages600/\" + fileNumber + '.png', grayImage)"
   ]
  },
  {
   "cell_type": "markdown",
   "id": "88ce4494",
   "metadata": {},
   "source": [
    "# -------------------------------------------------------------------------------------------------------"
   ]
  },
  {
   "cell_type": "markdown",
   "id": "0287c0e6",
   "metadata": {},
   "source": [
    "# Image Rotate Unification"
   ]
  },
  {
   "cell_type": "markdown",
   "id": "040c79fd",
   "metadata": {
    "ExecuteTime": {
     "end_time": "2022-09-27T01:05:51.510146Z",
     "start_time": "2022-09-27T01:03:47.034615Z"
    }
   },
   "source": [
    "filenames = os.listdir(\"./grayImages1024/\")\n",
    "\n",
    "for filename in filenames:\n",
    "    fileNumber = filename.split('.')[0]\n",
    "    willStoreFileFullName = \"./grayImages1024RotateUnification/\" + fileNumber + \".png\"\n",
    "    \n",
    "    img = cv2.imread(\"./grayImages1024/\"+filename)\n",
    "    h, w, c = img.shape\n",
    "    if h == 1024:\n",
    "        imageRotated = cv2.rotate(img, cv2.ROTATE_90_CLOCKWISE)\n",
    "        cv2.imwrite(willStoreFileFullName, imageRotated)\n",
    "    else:\n",
    "        cv2.imwrite(willStoreFileFullName, img)"
   ]
  },
  {
   "cell_type": "markdown",
   "id": "5d0198e6",
   "metadata": {},
   "source": [
    "# Check"
   ]
  },
  {
   "cell_type": "markdown",
   "id": "e9323428",
   "metadata": {
    "ExecuteTime": {
     "end_time": "2022-09-27T01:12:40.570732Z",
     "start_time": "2022-09-27T01:12:02.306843Z"
    }
   },
   "source": [
    "filenames = os.listdir(\"./grayImages1024RotateUnification/\")\n",
    "\n",
    "for filename in filenames:\n",
    "    img = cv2.imread(\"./grayImages1024RotateUnification/\" + filename)\n",
    "    h, w, c = img.shape\n",
    "    if h != 768:\n",
    "        print(\"!!\")"
   ]
  },
  {
   "cell_type": "markdown",
   "id": "5bda0163",
   "metadata": {},
   "source": [
    "# -------------------------------------------------------------------------------------------------------"
   ]
  },
  {
   "cell_type": "code",
   "execution_count": 47,
   "id": "393747b6",
   "metadata": {
    "ExecuteTime": {
     "end_time": "2022-09-27T05:48:43.341548Z",
     "start_time": "2022-09-27T05:48:43.323857Z"
    }
   },
   "outputs": [],
   "source": [
    "filenames = os.listdir(\"./grayImages600/\")\n",
    "categories = []\n",
    "for filename in filenames:\n",
    "    category = filename.split('.')[0][:4]\n",
    "    categories.append(category)\n",
    "    \n",
    "df = pd.DataFrame({\n",
    "    'filename' : filenames,\n",
    "    'category' : categories\n",
    "})"
   ]
  },
  {
   "cell_type": "markdown",
   "id": "c6b52174",
   "metadata": {},
   "source": [
    "# -------------------------------------------------------------------------------------------"
   ]
  },
  {
   "cell_type": "code",
   "execution_count": 48,
   "id": "f96efa82",
   "metadata": {
    "ExecuteTime": {
     "end_time": "2022-09-27T05:48:44.999736Z",
     "start_time": "2022-09-27T05:48:44.975875Z"
    },
    "scrolled": false
   },
   "outputs": [
    {
     "data": {
      "text/html": [
       "<div>\n",
       "<style scoped>\n",
       "    .dataframe tbody tr th:only-of-type {\n",
       "        vertical-align: middle;\n",
       "    }\n",
       "\n",
       "    .dataframe tbody tr th {\n",
       "        vertical-align: top;\n",
       "    }\n",
       "\n",
       "    .dataframe thead th {\n",
       "        text-align: right;\n",
       "    }\n",
       "</style>\n",
       "<table border=\"1\" class=\"dataframe\">\n",
       "  <thead>\n",
       "    <tr style=\"text-align: right;\">\n",
       "      <th></th>\n",
       "      <th>filename</th>\n",
       "      <th>category</th>\n",
       "    </tr>\n",
       "  </thead>\n",
       "  <tbody>\n",
       "    <tr>\n",
       "      <th>0</th>\n",
       "      <td>3001(1).png</td>\n",
       "      <td>3001</td>\n",
       "    </tr>\n",
       "    <tr>\n",
       "      <th>1</th>\n",
       "      <td>3001(2).png</td>\n",
       "      <td>3001</td>\n",
       "    </tr>\n",
       "    <tr>\n",
       "      <th>2</th>\n",
       "      <td>3001(3).png</td>\n",
       "      <td>3001</td>\n",
       "    </tr>\n",
       "    <tr>\n",
       "      <th>3</th>\n",
       "      <td>3001(4).png</td>\n",
       "      <td>3001</td>\n",
       "    </tr>\n",
       "    <tr>\n",
       "      <th>4</th>\n",
       "      <td>3001(5).png</td>\n",
       "      <td>3001</td>\n",
       "    </tr>\n",
       "    <tr>\n",
       "      <th>...</th>\n",
       "      <td>...</td>\n",
       "      <td>...</td>\n",
       "    </tr>\n",
       "    <tr>\n",
       "      <th>2111</th>\n",
       "      <td>6022(2).png</td>\n",
       "      <td>6022</td>\n",
       "    </tr>\n",
       "    <tr>\n",
       "      <th>2110</th>\n",
       "      <td>6022(10).png</td>\n",
       "      <td>6022</td>\n",
       "    </tr>\n",
       "    <tr>\n",
       "      <th>2109</th>\n",
       "      <td>6022(1).png</td>\n",
       "      <td>6022</td>\n",
       "    </tr>\n",
       "    <tr>\n",
       "      <th>2112</th>\n",
       "      <td>6022(3).png</td>\n",
       "      <td>6022</td>\n",
       "    </tr>\n",
       "    <tr>\n",
       "      <th>2118</th>\n",
       "      <td>6022(9).png</td>\n",
       "      <td>6022</td>\n",
       "    </tr>\n",
       "  </tbody>\n",
       "</table>\n",
       "<p>2119 rows × 2 columns</p>\n",
       "</div>"
      ],
      "text/plain": [
       "          filename category\n",
       "0      3001(1).png     3001\n",
       "1      3001(2).png     3001\n",
       "2      3001(3).png     3001\n",
       "3      3001(4).png     3001\n",
       "4      3001(5).png     3001\n",
       "...            ...      ...\n",
       "2111   6022(2).png     6022\n",
       "2110  6022(10).png     6022\n",
       "2109   6022(1).png     6022\n",
       "2112   6022(3).png     6022\n",
       "2118   6022(9).png     6022\n",
       "\n",
       "[2119 rows x 2 columns]"
      ]
     },
     "execution_count": 48,
     "metadata": {},
     "output_type": "execute_result"
    }
   ],
   "source": [
    "df.sort_values(by='category', ascending=True)"
   ]
  },
  {
   "cell_type": "markdown",
   "id": "680000b4",
   "metadata": {
    "ExecuteTime": {
     "end_time": "2022-09-21T05:46:53.173675Z",
     "start_time": "2022-09-21T05:46:53.145199Z"
    }
   },
   "source": [
    "df.to_csv('./label.csv')"
   ]
  },
  {
   "cell_type": "markdown",
   "id": "83cc07cb",
   "metadata": {},
   "source": [
    "# -------------------------------------------------------------------------------------------------------"
   ]
  },
  {
   "cell_type": "markdown",
   "id": "afa6fb96",
   "metadata": {},
   "source": [
    "# Label Count"
   ]
  },
  {
   "cell_type": "code",
   "execution_count": 49,
   "id": "4030129b",
   "metadata": {
    "ExecuteTime": {
     "end_time": "2022-09-27T05:48:46.815981Z",
     "start_time": "2022-09-27T05:48:46.804983Z"
    }
   },
   "outputs": [
    {
     "data": {
      "text/plain": [
       "258"
      ]
     },
     "execution_count": 49,
     "metadata": {},
     "output_type": "execute_result"
    }
   ],
   "source": [
    "len(df['category'].unique())"
   ]
  },
  {
   "cell_type": "markdown",
   "id": "fb826a2f",
   "metadata": {},
   "source": [
    "# -------------------------------------------------------------------------------------------------------"
   ]
  },
  {
   "cell_type": "code",
   "execution_count": 50,
   "id": "beee1c5a",
   "metadata": {
    "ExecuteTime": {
     "end_time": "2022-09-27T05:48:48.108732Z",
     "start_time": "2022-09-27T05:48:47.862773Z"
    }
   },
   "outputs": [
    {
     "name": "stdout",
     "output_type": "stream",
     "text": [
      "5016(7).png\n"
     ]
    },
    {
     "data": {
      "text/plain": [
       "<matplotlib.image.AxesImage at 0x27a849f6310>"
      ]
     },
     "execution_count": 50,
     "metadata": {},
     "output_type": "execute_result"
    },
    {
     "data": {
      "image/png": "[encoded data removed]",
      "text/plain": [
       "<Figure size 432x288 with 1 Axes>"
      ]
     },
     "metadata": {
      "needs_background": "light"
     },
     "output_type": "display_data"
    }
   ],
   "source": [
    "sample = random.choice(filenames)\n",
    "print(sample)\n",
    "image = load_img(\"./grayImages1024RotateUnification/\"+sample)\n",
    "plt.imshow(image)"
   ]
  },
  {
   "cell_type": "markdown",
   "id": "e7505bde",
   "metadata": {},
   "source": [
    "# -------------------------------------------------------------------------------------------------------"
   ]
  },
  {
   "cell_type": "markdown",
   "id": "3c4379e2",
   "metadata": {},
   "source": [
    "# Data Labeling\n",
    "## -------------------------------------------------------\n",
    "## train target data / size : 28x28"
   ]
  },
  {
   "cell_type": "code",
   "execution_count": 51,
   "id": "b505c8fa",
   "metadata": {
    "ExecuteTime": {
     "end_time": "2022-09-27T05:48:50.091101Z",
     "start_time": "2022-09-27T05:48:50.086102Z"
    }
   },
   "outputs": [],
   "source": [
    "train_target = np.array(df['category'])"
   ]
  },
  {
   "cell_type": "code",
   "execution_count": 52,
   "id": "84c235c9",
   "metadata": {
    "ExecuteTime": {
     "end_time": "2022-09-27T05:48:50.406268Z",
     "start_time": "2022-09-27T05:48:50.388699Z"
    },
    "scrolled": true
   },
   "outputs": [
    {
     "data": {
      "text/plain": [
       "array(['3001', '3001', '3001', ..., '6022', '6022', '6022'], dtype=object)"
      ]
     },
     "execution_count": 52,
     "metadata": {},
     "output_type": "execute_result"
    }
   ],
   "source": [
    "train_target"
   ]
  },
  {
   "cell_type": "code",
   "execution_count": 53,
   "id": "419e3eaf",
   "metadata": {
    "ExecuteTime": {
     "end_time": "2022-09-27T05:48:50.597726Z",
     "start_time": "2022-09-27T05:48:50.578308Z"
    }
   },
   "outputs": [],
   "source": [
    "train_target = train_target.astype('uint8')"
   ]
  },
  {
   "cell_type": "code",
   "execution_count": 54,
   "id": "bf28ade5",
   "metadata": {
    "ExecuteTime": {
     "end_time": "2022-09-27T05:48:50.916279Z",
     "start_time": "2022-09-27T05:48:50.907612Z"
    }
   },
   "outputs": [
    {
     "data": {
      "text/plain": [
       "array([185, 185, 185, ..., 134, 134, 134], dtype=uint8)"
      ]
     },
     "execution_count": 54,
     "metadata": {},
     "output_type": "execute_result"
    }
   ],
   "source": [
    "train_target"
   ]
  },
  {
   "cell_type": "code",
   "execution_count": 55,
   "id": "be5d7c4c",
   "metadata": {
    "ExecuteTime": {
     "end_time": "2022-09-27T05:48:52.498671Z",
     "start_time": "2022-09-27T05:48:52.479672Z"
    },
    "scrolled": true
   },
   "outputs": [
    {
     "name": "stdout",
     "output_type": "stream",
     "text": [
      "dtype :  uint8\n",
      "type :  <class 'numpy.ndarray'>\n",
      "shape :  (2119,)\n",
      "unique :  (array([  0,   1,   2,   3,   4,   5,   6,   7,   8,   9,  10,  11, 112,\n",
      "       113, 114, 115, 116, 117, 118, 119, 120, 121, 122, 123, 124, 125,\n",
      "       126, 127, 128, 129, 130, 131, 132, 134, 136, 137, 138, 139, 140,\n",
      "       141, 142, 143, 144, 145, 146, 147, 148, 149, 150, 151, 152, 153,\n",
      "       154, 155, 156, 157, 158, 159, 160, 161, 162, 163, 164, 165, 166,\n",
      "       167, 168, 169, 170, 171, 172, 173, 174, 175, 176, 177, 178, 179,\n",
      "       180, 181, 182, 183, 184, 185, 186, 187, 188, 189, 190, 191, 192,\n",
      "       193, 194, 195, 196, 197, 198, 199, 200, 201, 202, 203, 204, 205,\n",
      "       206, 207, 208, 209, 210, 211, 212, 213, 214, 215, 216, 217, 218,\n",
      "       219, 220, 221, 222, 223, 224, 225, 226, 227, 228, 229, 230, 231,\n",
      "       232, 233, 234, 235, 236, 237, 238, 239, 240, 241, 242, 243, 244,\n",
      "       245, 246, 247, 248, 249, 250, 251, 252, 253, 254, 255], dtype=uint8), array([ 9, 35, 10, 24,  6, 15,  4, 17, 18, 15,  3, 13,  6,  5, 10, 17, 25,\n",
      "       23, 17, 10,  4,  8,  7, 16,  3, 18, 16, 31, 16,  8, 20,  3,  6, 10,\n",
      "        9,  5,  6,  4,  7,  9, 12,  7,  5,  9, 13,  5,  7, 10,  8,  9, 12,\n",
      "        8, 15,  8, 12,  8, 14, 11, 15, 14, 23,  6, 11,  7, 23, 13, 16, 14,\n",
      "       20,  8, 23, 12, 15, 18, 15, 14, 16, 14, 22, 13, 13,  2, 11, 19, 27,\n",
      "       18, 26, 13, 28, 13, 24, 17, 19, 15, 18, 13, 25, 16, 29, 12, 10, 15,\n",
      "       10, 22, 12, 18,  5, 11,  2, 14,  7, 11, 10, 19, 16, 25, 11, 15,  8,\n",
      "       10,  8, 20,  7, 16, 10, 14,  7, 18,  8, 10,  9, 11,  8, 21,  3, 32,\n",
      "       14, 28, 13, 22, 30, 23, 20, 24, 28, 21, 10, 21,  9, 12,  5, 12,  7,\n",
      "       16], dtype=int64))\n"
     ]
    }
   ],
   "source": [
    "print('dtype : ' ,train_target.dtype)\n",
    "print('type : ', type(train_target))\n",
    "print('shape : ', train_target.shape)\n",
    "print('unique : ', np.unique(train_target, return_counts=True))"
   ]
  },
  {
   "cell_type": "markdown",
   "id": "f3b7a5a9",
   "metadata": {},
   "source": [
    "# -------------------------------------------------------------------------------------------------------"
   ]
  },
  {
   "cell_type": "markdown",
   "id": "4bf96578",
   "metadata": {},
   "source": [
    "# 1개 짜리 데이터 삭제\n",
    "## 삭제 대상"
   ]
  },
  {
   "cell_type": "markdown",
   "id": "f723072c",
   "metadata": {
    "ExecuteTime": {
     "end_time": "2022-09-27T05:46:01.209508Z",
     "start_time": "2022-09-27T05:46:01.188511Z"
    }
   },
   "source": [
    "deleteTarget = []\n",
    "\n",
    "targetNumber = (np.unique(train_target, return_counts=True))[0]\n",
    "countes = (np.unique(train_target, return_counts=True))[1]\n",
    "\n",
    "for i in range(0, len(countes)):\n",
    "    if countes[i] == 1:\n",
    "        deleteTarget.append(targetNumber[i])\n",
    "\n",
    "print(deleteTarget)"
   ]
  },
  {
   "cell_type": "markdown",
   "id": "7aa3eaa1",
   "metadata": {},
   "source": [
    "## 삭제"
   ]
  },
  {
   "cell_type": "markdown",
   "id": "96a9af15",
   "metadata": {
    "ExecuteTime": {
     "end_time": "2022-09-27T05:46:02.343189Z",
     "start_time": "2022-09-27T05:46:02.329188Z"
    }
   },
   "source": [
    "for i in range(0, len(countes)):\n",
    "    if countes[i] == 1:\n",
    "        if os.path.isfile('./grayImages600/' + targetNumber[i] + '(1).png'):\n",
    "            os.remove('./grayImages600/' + targetNumber[i] + '(1).png')"
   ]
  },
  {
   "cell_type": "markdown",
   "id": "1a442826",
   "metadata": {
    "ExecuteTime": {
     "end_time": "2022-09-27T05:46:02.548531Z",
     "start_time": "2022-09-27T05:46:02.532652Z"
    }
   },
   "source": [
    "fileList = os.listdir('./grayImages600/')\n",
    "totalFileCount = 0\n",
    "for file in fileList:\n",
    "    totalFileCount += 1\n",
    "    \n",
    "print(totalFileCount)"
   ]
  },
  {
   "cell_type": "markdown",
   "id": "052cb214",
   "metadata": {},
   "source": [
    "# -------------------------------------------------------------------------------------------------------"
   ]
  },
  {
   "cell_type": "markdown",
   "id": "09e6ba79",
   "metadata": {},
   "source": [
    "# train input data"
   ]
  },
  {
   "cell_type": "code",
   "execution_count": 31,
   "id": "71e2f5f0",
   "metadata": {
    "ExecuteTime": {
     "end_time": "2022-09-27T05:46:35.016236Z",
     "start_time": "2022-09-27T05:46:34.909025Z"
    }
   },
   "outputs": [],
   "source": [
    "train_input = []"
   ]
  },
  {
   "cell_type": "code",
   "execution_count": 32,
   "id": "ab642d0a",
   "metadata": {
    "ExecuteTime": {
     "end_time": "2022-09-27T05:46:44.297654Z",
     "start_time": "2022-09-27T05:46:35.551327Z"
    }
   },
   "outputs": [],
   "source": [
    "filenames = os.listdir(\"./grayImages600/\")\n",
    "for filename in filenames:\n",
    "    train_input.append( np.array(Image.open('./grayImages600/' + filename)) )"
   ]
  },
  {
   "cell_type": "code",
   "execution_count": 33,
   "id": "3cd452db",
   "metadata": {
    "ExecuteTime": {
     "end_time": "2022-09-27T05:46:45.636954Z",
     "start_time": "2022-09-27T05:46:45.382792Z"
    }
   },
   "outputs": [],
   "source": [
    "train_input = np.array(train_input)"
   ]
  },
  {
   "cell_type": "code",
   "execution_count": 34,
   "id": "ab36ffd3",
   "metadata": {
    "ExecuteTime": {
     "end_time": "2022-09-27T05:46:45.668071Z",
     "start_time": "2022-09-27T05:46:45.648072Z"
    },
    "scrolled": true
   },
   "outputs": [
    {
     "data": {
      "text/plain": [
       "array([[[ 58,  57,  57, ...,  70,  69,  71],\n",
       "        [ 61,  57,  56, ...,  73,  69,  68],\n",
       "        [ 60,  59,  57, ...,  72,  72,  72],\n",
       "        ...,\n",
       "        [150, 142, 139, ...,  85,  81,  81],\n",
       "        [223, 215, 207, ...,  87,  89,  87],\n",
       "        [245, 250, 251, ...,  84,  89,  90]],\n",
       "\n",
       "       [[ 58,  57,  57, ...,  70,  69,  71],\n",
       "        [ 61,  57,  56, ...,  73,  69,  68],\n",
       "        [ 60,  59,  57, ...,  72,  72,  72],\n",
       "        ...,\n",
       "        [150, 142, 139, ...,  85,  81,  81],\n",
       "        [223, 215, 207, ...,  87,  89,  87],\n",
       "        [245, 250, 251, ...,  84,  89,  90]],\n",
       "\n",
       "       [[ 53,  53,  53, ...,  73,  72,  71],\n",
       "        [ 55,  54,  54, ...,  71,  71,  72],\n",
       "        [ 55,  55,  55, ...,  73,  73,  72],\n",
       "        ...,\n",
       "        [ 98,  97,  95, ..., 116, 115, 113],\n",
       "        [113, 108, 103, ..., 118, 113, 107],\n",
       "        [115, 114, 111, ..., 113, 109, 107]],\n",
       "\n",
       "       ...,\n",
       "\n",
       "       [[ 86,  88,  91, ...,  96,  97,  98],\n",
       "        [ 91,  91,  99, ...,  95,  97,  99],\n",
       "        [ 83,  83,  92, ...,  94,  97,  99],\n",
       "        ...,\n",
       "        [ 45,  45,  45, ...,  43,  44,  44],\n",
       "        [ 46,  45,  45, ...,  43,  44,  45],\n",
       "        [ 49,  46,  46, ...,  43,  44,  45]],\n",
       "\n",
       "       [[ 98,  82,  76, ...,  94,  95,  95],\n",
       "        [ 88,  83,  69, ...,  95,  96,  96],\n",
       "        [ 81,  83,  80, ...,  95,  96,  96],\n",
       "        ...,\n",
       "        [ 77,  76,  74, ...,  40,  40,  40],\n",
       "        [ 77,  77,  71, ...,  40,  41,  41],\n",
       "        [ 76,  73,  61, ...,  41,  42,  42]],\n",
       "\n",
       "       [[ 92,  91,  89, ...,  94,  95,  95],\n",
       "        [ 86,  95, 101, ...,  94,  95,  96],\n",
       "        [ 79,  84, 101, ...,  94,  95,  96],\n",
       "        ...,\n",
       "        [ 54,  46,  44, ...,  42,  43,  44],\n",
       "        [ 54,  50,  46, ...,  42,  42,  43],\n",
       "        [ 43,  49,  50, ...,  43,  44,  44]]], dtype=uint8)"
      ]
     },
     "execution_count": 34,
     "metadata": {},
     "output_type": "execute_result"
    }
   ],
   "source": [
    "train_input"
   ]
  },
  {
   "cell_type": "code",
   "execution_count": 35,
   "id": "40ecbccd",
   "metadata": {
    "ExecuteTime": {
     "end_time": "2022-09-27T05:46:45.841685Z",
     "start_time": "2022-09-27T05:46:45.825879Z"
    }
   },
   "outputs": [
    {
     "name": "stdout",
     "output_type": "stream",
     "text": [
      "(2119, 600, 600)\n"
     ]
    }
   ],
   "source": [
    "print(train_input.shape)"
   ]
  },
  {
   "cell_type": "markdown",
   "id": "a2d2add8",
   "metadata": {},
   "source": [
    "# -------------------------------------------------------------------------------------------------------"
   ]
  },
  {
   "cell_type": "markdown",
   "id": "1bcc0945",
   "metadata": {},
   "source": [
    "# Data Normalization "
   ]
  },
  {
   "cell_type": "code",
   "execution_count": 36,
   "id": "4070c996",
   "metadata": {
    "ExecuteTime": {
     "end_time": "2022-09-27T05:46:48.699332Z",
     "start_time": "2022-09-27T05:46:48.690334Z"
    }
   },
   "outputs": [],
   "source": [
    "train_scaled = ()"
   ]
  },
  {
   "cell_type": "code",
   "execution_count": 38,
   "id": "2e5da0da",
   "metadata": {
    "ExecuteTime": {
     "end_time": "2022-09-27T05:46:59.518643Z",
     "start_time": "2022-09-27T05:46:57.568671Z"
    }
   },
   "outputs": [],
   "source": [
    "train_scaled = train_input.reshape(-1, 600, 600, 1) / 255.0"
   ]
  },
  {
   "cell_type": "code",
   "execution_count": 39,
   "id": "49d51370",
   "metadata": {
    "ExecuteTime": {
     "end_time": "2022-09-27T05:47:00.052779Z",
     "start_time": "2022-09-27T05:47:00.038887Z"
    },
    "collapsed": true
   },
   "outputs": [
    {
     "name": "stdout",
     "output_type": "stream",
     "text": [
      "[[[[0.22745098]\n",
      "   [0.22352941]\n",
      "   [0.22352941]\n",
      "   ...\n",
      "   [0.2745098 ]\n",
      "   [0.27058824]\n",
      "   [0.27843137]]\n",
      "\n",
      "  [[0.23921569]\n",
      "   [0.22352941]\n",
      "   [0.21960784]\n",
      "   ...\n",
      "   [0.28627451]\n",
      "   [0.27058824]\n",
      "   [0.26666667]]\n",
      "\n",
      "  [[0.23529412]\n",
      "   [0.23137255]\n",
      "   [0.22352941]\n",
      "   ...\n",
      "   [0.28235294]\n",
      "   [0.28235294]\n",
      "   [0.28235294]]\n",
      "\n",
      "  ...\n",
      "\n",
      "  [[0.58823529]\n",
      "   [0.55686275]\n",
      "   [0.54509804]\n",
      "   ...\n",
      "   [0.33333333]\n",
      "   [0.31764706]\n",
      "   [0.31764706]]\n",
      "\n",
      "  [[0.8745098 ]\n",
      "   [0.84313725]\n",
      "   [0.81176471]\n",
      "   ...\n",
      "   [0.34117647]\n",
      "   [0.34901961]\n",
      "   [0.34117647]]\n",
      "\n",
      "  [[0.96078431]\n",
      "   [0.98039216]\n",
      "   [0.98431373]\n",
      "   ...\n",
      "   [0.32941176]\n",
      "   [0.34901961]\n",
      "   [0.35294118]]]\n",
      "\n",
      "\n",
      " [[[0.22745098]\n",
      "   [0.22352941]\n",
      "   [0.22352941]\n",
      "   ...\n",
      "   [0.2745098 ]\n",
      "   [0.27058824]\n",
      "   [0.27843137]]\n",
      "\n",
      "  [[0.23921569]\n",
      "   [0.22352941]\n",
      "   [0.21960784]\n",
      "   ...\n",
      "   [0.28627451]\n",
      "   [0.27058824]\n",
      "   [0.26666667]]\n",
      "\n",
      "  [[0.23529412]\n",
      "   [0.23137255]\n",
      "   [0.22352941]\n",
      "   ...\n",
      "   [0.28235294]\n",
      "   [0.28235294]\n",
      "   [0.28235294]]\n",
      "\n",
      "  ...\n",
      "\n",
      "  [[0.58823529]\n",
      "   [0.55686275]\n",
      "   [0.54509804]\n",
      "   ...\n",
      "   [0.33333333]\n",
      "   [0.31764706]\n",
      "   [0.31764706]]\n",
      "\n",
      "  [[0.8745098 ]\n",
      "   [0.84313725]\n",
      "   [0.81176471]\n",
      "   ...\n",
      "   [0.34117647]\n",
      "   [0.34901961]\n",
      "   [0.34117647]]\n",
      "\n",
      "  [[0.96078431]\n",
      "   [0.98039216]\n",
      "   [0.98431373]\n",
      "   ...\n",
      "   [0.32941176]\n",
      "   [0.34901961]\n",
      "   [0.35294118]]]\n",
      "\n",
      "\n",
      " [[[0.20784314]\n",
      "   [0.20784314]\n",
      "   [0.20784314]\n",
      "   ...\n",
      "   [0.28627451]\n",
      "   [0.28235294]\n",
      "   [0.27843137]]\n",
      "\n",
      "  [[0.21568627]\n",
      "   [0.21176471]\n",
      "   [0.21176471]\n",
      "   ...\n",
      "   [0.27843137]\n",
      "   [0.27843137]\n",
      "   [0.28235294]]\n",
      "\n",
      "  [[0.21568627]\n",
      "   [0.21568627]\n",
      "   [0.21568627]\n",
      "   ...\n",
      "   [0.28627451]\n",
      "   [0.28627451]\n",
      "   [0.28235294]]\n",
      "\n",
      "  ...\n",
      "\n",
      "  [[0.38431373]\n",
      "   [0.38039216]\n",
      "   [0.37254902]\n",
      "   ...\n",
      "   [0.45490196]\n",
      "   [0.45098039]\n",
      "   [0.44313725]]\n",
      "\n",
      "  [[0.44313725]\n",
      "   [0.42352941]\n",
      "   [0.40392157]\n",
      "   ...\n",
      "   [0.4627451 ]\n",
      "   [0.44313725]\n",
      "   [0.41960784]]\n",
      "\n",
      "  [[0.45098039]\n",
      "   [0.44705882]\n",
      "   [0.43529412]\n",
      "   ...\n",
      "   [0.44313725]\n",
      "   [0.42745098]\n",
      "   [0.41960784]]]\n",
      "\n",
      "\n",
      " ...\n",
      "\n",
      "\n",
      " [[[0.3372549 ]\n",
      "   [0.34509804]\n",
      "   [0.35686275]\n",
      "   ...\n",
      "   [0.37647059]\n",
      "   [0.38039216]\n",
      "   [0.38431373]]\n",
      "\n",
      "  [[0.35686275]\n",
      "   [0.35686275]\n",
      "   [0.38823529]\n",
      "   ...\n",
      "   [0.37254902]\n",
      "   [0.38039216]\n",
      "   [0.38823529]]\n",
      "\n",
      "  [[0.3254902 ]\n",
      "   [0.3254902 ]\n",
      "   [0.36078431]\n",
      "   ...\n",
      "   [0.36862745]\n",
      "   [0.38039216]\n",
      "   [0.38823529]]\n",
      "\n",
      "  ...\n",
      "\n",
      "  [[0.17647059]\n",
      "   [0.17647059]\n",
      "   [0.17647059]\n",
      "   ...\n",
      "   [0.16862745]\n",
      "   [0.17254902]\n",
      "   [0.17254902]]\n",
      "\n",
      "  [[0.18039216]\n",
      "   [0.17647059]\n",
      "   [0.17647059]\n",
      "   ...\n",
      "   [0.16862745]\n",
      "   [0.17254902]\n",
      "   [0.17647059]]\n",
      "\n",
      "  [[0.19215686]\n",
      "   [0.18039216]\n",
      "   [0.18039216]\n",
      "   ...\n",
      "   [0.16862745]\n",
      "   [0.17254902]\n",
      "   [0.17647059]]]\n",
      "\n",
      "\n",
      " [[[0.38431373]\n",
      "   [0.32156863]\n",
      "   [0.29803922]\n",
      "   ...\n",
      "   [0.36862745]\n",
      "   [0.37254902]\n",
      "   [0.37254902]]\n",
      "\n",
      "  [[0.34509804]\n",
      "   [0.3254902 ]\n",
      "   [0.27058824]\n",
      "   ...\n",
      "   [0.37254902]\n",
      "   [0.37647059]\n",
      "   [0.37647059]]\n",
      "\n",
      "  [[0.31764706]\n",
      "   [0.3254902 ]\n",
      "   [0.31372549]\n",
      "   ...\n",
      "   [0.37254902]\n",
      "   [0.37647059]\n",
      "   [0.37647059]]\n",
      "\n",
      "  ...\n",
      "\n",
      "  [[0.30196078]\n",
      "   [0.29803922]\n",
      "   [0.29019608]\n",
      "   ...\n",
      "   [0.15686275]\n",
      "   [0.15686275]\n",
      "   [0.15686275]]\n",
      "\n",
      "  [[0.30196078]\n",
      "   [0.30196078]\n",
      "   [0.27843137]\n",
      "   ...\n",
      "   [0.15686275]\n",
      "   [0.16078431]\n",
      "   [0.16078431]]\n",
      "\n",
      "  [[0.29803922]\n",
      "   [0.28627451]\n",
      "   [0.23921569]\n",
      "   ...\n",
      "   [0.16078431]\n",
      "   [0.16470588]\n",
      "   [0.16470588]]]\n",
      "\n",
      "\n",
      " [[[0.36078431]\n",
      "   [0.35686275]\n",
      "   [0.34901961]\n",
      "   ...\n",
      "   [0.36862745]\n",
      "   [0.37254902]\n",
      "   [0.37254902]]\n",
      "\n",
      "  [[0.3372549 ]\n",
      "   [0.37254902]\n",
      "   [0.39607843]\n",
      "   ...\n",
      "   [0.36862745]\n",
      "   [0.37254902]\n",
      "   [0.37647059]]\n",
      "\n",
      "  [[0.30980392]\n",
      "   [0.32941176]\n",
      "   [0.39607843]\n",
      "   ...\n",
      "   [0.36862745]\n",
      "   [0.37254902]\n",
      "   [0.37647059]]\n",
      "\n",
      "  ...\n",
      "\n",
      "  [[0.21176471]\n",
      "   [0.18039216]\n",
      "   [0.17254902]\n",
      "   ...\n",
      "   [0.16470588]\n",
      "   [0.16862745]\n",
      "   [0.17254902]]\n",
      "\n",
      "  [[0.21176471]\n",
      "   [0.19607843]\n",
      "   [0.18039216]\n",
      "   ...\n",
      "   [0.16470588]\n",
      "   [0.16470588]\n",
      "   [0.16862745]]\n",
      "\n",
      "  [[0.16862745]\n",
      "   [0.19215686]\n",
      "   [0.19607843]\n",
      "   ...\n",
      "   [0.16862745]\n",
      "   [0.17254902]\n",
      "   [0.17254902]]]]\n"
     ]
    }
   ],
   "source": [
    "print(train_scaled)"
   ]
  },
  {
   "cell_type": "code",
   "execution_count": 40,
   "id": "1c7f070e",
   "metadata": {
    "ExecuteTime": {
     "end_time": "2022-09-27T05:47:01.392757Z",
     "start_time": "2022-09-27T05:47:01.384757Z"
    },
    "scrolled": true
   },
   "outputs": [
    {
     "name": "stdout",
     "output_type": "stream",
     "text": [
      "(2119, 600, 600, 1)\n"
     ]
    }
   ],
   "source": [
    "print(train_scaled.shape)"
   ]
  },
  {
   "cell_type": "markdown",
   "id": "a6ea2eac",
   "metadata": {},
   "source": [
    "# Data Split"
   ]
  },
  {
   "cell_type": "code",
   "execution_count": 56,
   "id": "3aa92711",
   "metadata": {
    "ExecuteTime": {
     "end_time": "2022-09-27T05:49:01.337896Z",
     "start_time": "2022-09-27T05:48:56.941342Z"
    }
   },
   "outputs": [],
   "source": [
    "train_scaled, val_scaled, train_target, val_target = train_test_split(train_scaled, train_target, test_size=0.2, random_state=42)"
   ]
  },
  {
   "cell_type": "code",
   "execution_count": 57,
   "id": "2b71701f",
   "metadata": {
    "ExecuteTime": {
     "end_time": "2022-09-27T05:49:02.094841Z",
     "start_time": "2022-09-27T05:49:02.080839Z"
    },
    "scrolled": true
   },
   "outputs": [
    {
     "name": "stdout",
     "output_type": "stream",
     "text": [
      "(1695, 600, 600, 1) (1695,)\n",
      "(424, 600, 600, 1) (424,)\n"
     ]
    }
   ],
   "source": [
    "print(train_scaled.shape, train_target.shape)\n",
    "print(val_scaled.shape, val_target.shape)"
   ]
  },
  {
   "cell_type": "markdown",
   "id": "604df35d",
   "metadata": {},
   "source": [
    "# CNN"
   ]
  },
  {
   "cell_type": "code",
   "execution_count": 58,
   "id": "9799cf44",
   "metadata": {
    "ExecuteTime": {
     "end_time": "2022-09-27T05:49:05.976173Z",
     "start_time": "2022-09-27T05:49:05.969172Z"
    }
   },
   "outputs": [],
   "source": [
    "from tensorflow import keras"
   ]
  },
  {
   "cell_type": "code",
   "execution_count": 66,
   "id": "8e4675e3",
   "metadata": {
    "ExecuteTime": {
     "end_time": "2022-09-27T05:50:10.593718Z",
     "start_time": "2022-09-27T05:50:10.576718Z"
    }
   },
   "outputs": [],
   "source": [
    "model_CNN = keras.Sequential()"
   ]
  },
  {
   "cell_type": "markdown",
   "id": "8f6d8f6e",
   "metadata": {
    "ExecuteTime": {
     "end_time": "2022-09-15T03:06:39.892337Z",
     "start_time": "2022-09-15T03:06:39.892337Z"
    }
   },
   "source": [
    "model.evaluate(val_scaled, val_target)"
   ]
  },
  {
   "cell_type": "markdown",
   "id": "bb55b2c4",
   "metadata": {},
   "source": [
    "# ************ breakpoint ************"
   ]
  },
  {
   "cell_type": "markdown",
   "id": "0d112707",
   "metadata": {},
   "source": [
    "# Feature Extraction"
   ]
  },
  {
   "cell_type": "code",
   "execution_count": 67,
   "id": "419999d7",
   "metadata": {
    "ExecuteTime": {
     "end_time": "2022-09-27T05:50:15.334115Z",
     "start_time": "2022-09-27T05:50:15.234243Z"
    }
   },
   "outputs": [],
   "source": [
    "model_CNN.add(keras.layers.Conv2D(filters=32, kernel_size=3, activation='relu', padding='same', input_shape=(600, 600, 1)))\n",
    "model_CNN.add(keras.layers.MaxPooling2D(2))\n",
    "model_CNN.add(keras.layers.Conv2D(filters=64, kernel_size=3, activation='relu', padding='same'))\n",
    "model_CNN.add(keras.layers.MaxPooling2D(2))\n",
    "model_CNN.add(keras.layers.Conv2D(filters=128, kernel_size=3, activation='relu', padding='same'))\n",
    "model_CNN.add(keras.layers.MaxPooling2D(2))\n",
    "model_CNN.add(keras.layers.Conv2D(filters=256, kernel_size=3, activation='relu', padding='same'))\n",
    "model_CNN.add(keras.layers.MaxPooling2D(2))"
   ]
  },
  {
   "cell_type": "markdown",
   "id": "22e98b7d",
   "metadata": {},
   "source": [
    "# Classifier"
   ]
  },
  {
   "cell_type": "code",
   "execution_count": 68,
   "id": "54cc678c",
   "metadata": {
    "ExecuteTime": {
     "end_time": "2022-09-27T05:50:16.915131Z",
     "start_time": "2022-09-27T05:50:16.602221Z"
    }
   },
   "outputs": [],
   "source": [
    "model_CNN.add(keras.layers.Flatten())\n",
    "model_CNN.add(keras.layers.Dense(100, activation='relu'))\n",
    "model_CNN.add(keras.layers.Dropout(0.4))\n",
    "model_CNN.add(keras.layers.Dense(258, activation='softmax'))"
   ]
  },
  {
   "cell_type": "markdown",
   "id": "357ba6a4",
   "metadata": {},
   "source": [
    "# ************ breakpoint ************"
   ]
  },
  {
   "cell_type": "markdown",
   "id": "53fe1209",
   "metadata": {},
   "source": [
    "# -------------------------------------------------------------------------------------------------------"
   ]
  },
  {
   "cell_type": "code",
   "execution_count": 69,
   "id": "5525ae63",
   "metadata": {
    "ExecuteTime": {
     "end_time": "2022-09-27T05:50:17.782510Z",
     "start_time": "2022-09-27T05:50:17.737871Z"
    }
   },
   "outputs": [
    {
     "name": "stdout",
     "output_type": "stream",
     "text": [
      "Model: \"sequential_1\"\n",
      "_________________________________________________________________\n",
      " Layer (type)                Output Shape              Param #   \n",
      "=================================================================\n",
      " conv2d_4 (Conv2D)           (None, 600, 600, 32)      320       \n",
      "                                                                 \n",
      " max_pooling2d_4 (MaxPooling  (None, 300, 300, 32)     0         \n",
      " 2D)                                                             \n",
      "                                                                 \n",
      " conv2d_5 (Conv2D)           (None, 300, 300, 64)      18496     \n",
      "                                                                 \n",
      " max_pooling2d_5 (MaxPooling  (None, 150, 150, 64)     0         \n",
      " 2D)                                                             \n",
      "                                                                 \n",
      " conv2d_6 (Conv2D)           (None, 150, 150, 128)     73856     \n",
      "                                                                 \n",
      " max_pooling2d_6 (MaxPooling  (None, 75, 75, 128)      0         \n",
      " 2D)                                                             \n",
      "                                                                 \n",
      " conv2d_7 (Conv2D)           (None, 75, 75, 256)       295168    \n",
      "                                                                 \n",
      " max_pooling2d_7 (MaxPooling  (None, 37, 37, 256)      0         \n",
      " 2D)                                                             \n",
      "                                                                 \n",
      " flatten_1 (Flatten)         (None, 350464)            0         \n",
      "                                                                 \n",
      " dense_2 (Dense)             (None, 100)               35046500  \n",
      "                                                                 \n",
      " dropout_1 (Dropout)         (None, 100)               0         \n",
      "                                                                 \n",
      " dense_3 (Dense)             (None, 258)               26058     \n",
      "                                                                 \n",
      "=================================================================\n",
      "Total params: 35,460,398\n",
      "Trainable params: 35,460,398\n",
      "Non-trainable params: 0\n",
      "_________________________________________________________________\n"
     ]
    }
   ],
   "source": [
    "model_CNN.summary()"
   ]
  },
  {
   "cell_type": "code",
   "execution_count": 70,
   "id": "233ce0a4",
   "metadata": {
    "ExecuteTime": {
     "end_time": "2022-09-27T05:50:18.625904Z",
     "start_time": "2022-09-27T05:50:18.284771Z"
    },
    "scrolled": true
   },
   "outputs": [
    {
     "data": {
      "image/png": "[encoded data removed]",
      "text/plain": [
       "<IPython.core.display.Image object>"
      ]
     },
     "execution_count": 70,
     "metadata": {},
     "output_type": "execute_result"
    }
   ],
   "source": [
    "keras.utils.plot_model(model_CNN)"
   ]
  },
  {
   "cell_type": "code",
   "execution_count": 71,
   "id": "efecbcbe",
   "metadata": {
    "ExecuteTime": {
     "end_time": "2022-09-27T05:50:18.832099Z",
     "start_time": "2022-09-27T05:50:18.627906Z"
    },
    "scrolled": true
   },
   "outputs": [
    {
     "data": {
      "image/png": "[encoded data removed]",
      "text/plain": [
       "<IPython.core.display.Image object>"
      ]
     },
     "execution_count": 71,
     "metadata": {},
     "output_type": "execute_result"
    }
   ],
   "source": [
    "keras.utils.plot_model(model_CNN, show_shapes=True)"
   ]
  },
  {
   "cell_type": "code",
   "execution_count": 72,
   "id": "f94a8b60",
   "metadata": {
    "ExecuteTime": {
     "end_time": "2022-09-27T07:25:23.075039Z",
     "start_time": "2022-09-27T05:50:18.834098Z"
    },
    "scrolled": false
   },
   "outputs": [
    {
     "name": "stdout",
     "output_type": "stream",
     "text": [
      "Epoch 1/30\n",
      "53/53 [==============================] - 484s 9s/step - loss: 5.5809 - accuracy: 0.0077 - val_loss: 5.3411 - val_accuracy: 0.0142\n",
      "Epoch 2/30\n",
      "53/53 [==============================] - 436s 8s/step - loss: 5.2606 - accuracy: 0.0153 - val_loss: 5.1432 - val_accuracy: 0.0142\n",
      "Epoch 3/30\n",
      "53/53 [==============================] - 432s 8s/step - loss: 5.1066 - accuracy: 0.0165 - val_loss: 4.9904 - val_accuracy: 0.0330\n",
      "Epoch 4/30\n",
      "53/53 [==============================] - 432s 8s/step - loss: 4.9239 - accuracy: 0.0342 - val_loss: 4.8565 - val_accuracy: 0.0495\n",
      "Epoch 5/30\n",
      "53/53 [==============================] - 434s 8s/step - loss: 4.7988 - accuracy: 0.0395 - val_loss: 4.7991 - val_accuracy: 0.0637\n",
      "Epoch 6/30\n",
      "53/53 [==============================] - 437s 8s/step - loss: 4.5884 - accuracy: 0.0596 - val_loss: 4.5953 - val_accuracy: 0.0825\n",
      "Epoch 7/30\n",
      "53/53 [==============================] - 431s 8s/step - loss: 4.2959 - accuracy: 0.0855 - val_loss: 4.4925 - val_accuracy: 0.1108\n",
      "Epoch 8/30\n",
      "53/53 [==============================] - 432s 8s/step - loss: 4.0302 - accuracy: 0.1080 - val_loss: 4.3771 - val_accuracy: 0.1368\n",
      "Epoch 9/30\n",
      "53/53 [==============================] - 432s 8s/step - loss: 3.6885 - accuracy: 0.1487 - val_loss: 4.2639 - val_accuracy: 0.1745\n",
      "Epoch 10/30\n",
      "53/53 [==============================] - 431s 8s/step - loss: 3.4108 - accuracy: 0.1912 - val_loss: 4.3190 - val_accuracy: 0.1863\n",
      "Epoch 11/30\n",
      "53/53 [==============================] - 444s 8s/step - loss: 3.1643 - accuracy: 0.2354 - val_loss: 4.1720 - val_accuracy: 0.2099\n",
      "Epoch 12/30\n",
      "53/53 [==============================] - 439s 8s/step - loss: 2.9532 - accuracy: 0.2566 - val_loss: 4.3414 - val_accuracy: 0.2123\n",
      "Epoch 13/30\n",
      "53/53 [==============================] - 439s 8s/step - loss: 2.7712 - accuracy: 0.2761 - val_loss: 4.4647 - val_accuracy: 0.2241\n"
     ]
    }
   ],
   "source": [
    "model_CNN.compile(optimizer='adam', loss='sparse_categorical_crossentropy', metrics='accuracy')\n",
    "checkpoint_cb = keras.callbacks.ModelCheckpoint('best-cnn-model.h5')\n",
    "early_stopping_cb = keras.callbacks.EarlyStopping(patience=2, restore_best_weights=True)\n",
    "history = model_CNN.fit(train_scaled, train_target, epochs=30, validation_data=(val_scaled, val_target), callbacks=[checkpoint_cb, early_stopping_cb])"
   ]
  },
  {
   "cell_type": "code",
   "execution_count": 73,
   "id": "69cbe907",
   "metadata": {
    "ExecuteTime": {
     "end_time": "2022-09-27T07:25:23.578938Z",
     "start_time": "2022-09-27T07:25:23.103814Z"
    }
   },
   "outputs": [
    {
     "data": {
      "image/png": "[encoded data removed]",
      "text/plain": [
       "<Figure size 432x288 with 1 Axes>"
      ]
     },
     "metadata": {
      "needs_background": "light"
     },
     "output_type": "display_data"
    }
   ],
   "source": [
    "import matplotlib.pyplot as plt\n",
    "plt.plot(history.history['loss'])\n",
    "plt.plot(history.history['val_loss'])\n",
    "plt.xlabel('epoch')\n",
    "plt.ylabel('loss')\n",
    "plt.legend(['train', 'val'])\n",
    "plt.show()"
   ]
  },
  {
   "cell_type": "code",
   "execution_count": 75,
   "id": "932e20d6",
   "metadata": {
    "ExecuteTime": {
     "end_time": "2022-09-27T07:26:59.291758Z",
     "start_time": "2022-09-27T07:26:29.781237Z"
    }
   },
   "outputs": [
    {
     "name": "stdout",
     "output_type": "stream",
     "text": [
      "14/14 [==============================] - 28s 2s/step - loss: 4.4647 - accuracy: 0.2241\n"
     ]
    },
    {
     "data": {
      "text/plain": [
       "[4.4646897315979, 0.22405660152435303]"
      ]
     },
     "execution_count": 75,
     "metadata": {},
     "output_type": "execute_result"
    }
   ],
   "source": [
    "model_CNN2 = keras.models.load_model('./best-cnn-model.h5')\n",
    "model_CNN2.evaluate(val_scaled, val_target)"
   ]
  },
  {
   "cell_type": "markdown",
   "id": "3d2f1b0e",
   "metadata": {},
   "source": [
    "# Test\n",
    "## y_train first data ↓↓↓"
   ]
  },
  {
   "cell_type": "code",
   "execution_count": 76,
   "id": "b3cca6ab",
   "metadata": {
    "ExecuteTime": {
     "end_time": "2022-09-27T07:27:03.302932Z",
     "start_time": "2022-09-27T07:27:03.133479Z"
    }
   },
   "outputs": [
    {
     "data": {
      "image/png": "[encoded data removed]",
      "text/plain": [
       "<Figure size 432x288 with 1 Axes>"
      ]
     },
     "metadata": {
      "needs_background": "light"
     },
     "output_type": "display_data"
    }
   ],
   "source": [
    "plt.imshow(val_scaled[0].reshape(600, 600), cmap='gray_r')\n",
    "plt.show()"
   ]
  },
  {
   "cell_type": "markdown",
   "id": "adc85655",
   "metadata": {},
   "source": [
    "# Performance"
   ]
  },
  {
   "cell_type": "markdown",
   "id": "c4128e1c",
   "metadata": {},
   "source": [
    "# 위 사진에 대한 258개 확률 출력"
   ]
  },
  {
   "cell_type": "code",
   "execution_count": 77,
   "id": "3c71669a",
   "metadata": {
    "ExecuteTime": {
     "end_time": "2022-09-27T07:27:06.305528Z",
     "start_time": "2022-09-27T07:27:05.943248Z"
    },
    "scrolled": true
   },
   "outputs": [
    {
     "name": "stdout",
     "output_type": "stream",
     "text": [
      "1/1 [==============================] - 0s 297ms/step\n",
      "[[4.06367297e-04 1.37538677e-02 4.32476139e-04 3.03848158e-03\n",
      "  1.68688700e-06 3.92281078e-03 5.19980502e-04 1.57228950e-02\n",
      "  9.78010967e-02 1.68591738e-03 1.04960827e-05 5.26486011e-03\n",
      "  1.75842931e-08 1.02252829e-06 6.92325628e-08 3.37777396e-06\n",
      "  2.99153164e-08 2.14880824e-09 3.55010670e-08 6.66735616e-07\n",
      "  1.88899474e-08 1.28225155e-08 7.46890017e-09 1.25242991e-06\n",
      "  1.18156578e-07 6.54181846e-08 4.96549397e-08 8.57625722e-08\n",
      "  1.99797512e-08 1.10199334e-08 1.83526811e-06 9.80351800e-09\n",
      "  1.65670599e-07 1.10692918e-06 1.89972233e-08 4.06814529e-08\n",
      "  2.57465196e-08 3.50730659e-07 3.44026296e-09 1.61885385e-08\n",
      "  2.58155723e-07 2.02691169e-07 7.68559971e-09 1.03133701e-07\n",
      "  3.36659802e-08 1.48611630e-08 1.94592786e-07 7.79330378e-08\n",
      "  3.81680451e-07 5.88240034e-09 1.63357726e-07 3.52811247e-09\n",
      "  3.58609253e-09 6.07080395e-08 3.23271564e-07 3.17458215e-09\n",
      "  4.65370520e-10 8.92022740e-08 1.86325999e-09 1.80223466e-07\n",
      "  5.15865537e-08 1.12096243e-08 6.57876809e-10 7.35933838e-08\n",
      "  1.01185321e-07 1.70047656e-07 4.97813744e-04 6.77156436e-07\n",
      "  8.61329319e-09 2.31207238e-07 1.04637961e-08 1.85394310e-06\n",
      "  2.60200204e-06 1.57593938e-08 4.57471261e-09 4.83577756e-09\n",
      "  1.56153526e-08 7.93481636e-09 6.64183375e-08 4.85578582e-08\n",
      "  2.87835333e-09 5.58341640e-09 1.76372321e-08 2.27560708e-08\n",
      "  3.47861686e-08 7.41043152e-07 2.35738611e-07 8.64054250e-09\n",
      "  7.00215423e-08 5.92644795e-08 1.15545362e-07 2.80521126e-05\n",
      "  5.09910940e-08 5.10372367e-09 1.03811777e-08 9.45234913e-09\n",
      "  1.28988077e-07 1.40023246e-07 3.75935088e-07 5.09838962e-08\n",
      "  1.02121994e-07 1.90182433e-07 9.92089610e-09 4.61566117e-07\n",
      "  2.06163762e-08 6.34421394e-06 3.19766400e-08 1.75657551e-08\n",
      "  1.43433098e-07 3.05031449e-07 1.23125146e-08 2.95155589e-09\n",
      "  1.88692884e-05 2.30540434e-04 4.28286323e-04 4.08190856e-04\n",
      "  1.78487115e-02 3.33224925e-05 1.02227626e-04 5.70329605e-03\n",
      "  4.31323388e-05 4.33167093e-04 3.27817164e-04 1.84491812e-03\n",
      "  1.79134600e-04 2.32623592e-02 4.60859737e-05 7.53987813e-03\n",
      "  1.27153983e-03 5.31698286e-04 2.60278903e-04 1.76014684e-04\n",
      "  1.43341151e-06 1.70168093e-08 3.61629063e-03 4.89422973e-08\n",
      "  3.91259382e-04 8.41946257e-06 2.49145196e-05 8.77740793e-04\n",
      "  5.84185729e-03 2.72290944e-03 8.47374788e-04 2.89502990e-04\n",
      "  1.39308139e-03 1.62103551e-03 3.52150272e-03 6.09690498e-04\n",
      "  2.55447594e-05 4.69064200e-03 5.98856423e-04 6.23750457e-05\n",
      "  5.78028616e-04 9.41868784e-05 6.68295310e-04 1.40492839e-03\n",
      "  3.49671958e-04 4.43534926e-04 4.64062556e-04 2.32775536e-04\n",
      "  1.32887131e-02 1.41209876e-02 1.23002315e-02 6.34635624e-04\n",
      "  4.02793303e-05 3.73947369e-05 1.28830303e-04 1.42374338e-04\n",
      "  7.56696146e-03 8.81435256e-03 3.21131287e-04 1.90544268e-03\n",
      "  8.81122367e-04 1.15120159e-02 7.25048012e-05 1.41632685e-04\n",
      "  3.31630334e-02 1.05184445e-04 1.30879879e-03 3.78264114e-03\n",
      "  7.32874032e-05 2.02196068e-03 2.30209366e-03 1.72533892e-05\n",
      "  3.88896995e-04 2.76964135e-03 1.96343218e-03 4.76282090e-03\n",
      "  7.54127614e-05 1.87956057e-02 1.25395283e-02 7.64192839e-04\n",
      "  6.17357111e-03 3.58400401e-04 3.76967480e-04 6.12130761e-03\n",
      "  3.39162024e-03 2.37119311e-04 9.60142445e-03 6.02416403e-04\n",
      "  2.85345614e-02 1.08631561e-03 6.03055302e-03 6.01492217e-03\n",
      "  4.77902533e-04 2.21575573e-02 1.47606677e-03 3.12276441e-03\n",
      "  6.10717616e-05 6.67820641e-05 1.28944791e-07 1.08558859e-03\n",
      "  2.70496130e-05 2.77746399e-03 2.73316749e-03 3.70748487e-04\n",
      "  1.53778112e-02 4.94991289e-03 3.61207686e-03 6.77013071e-03\n",
      "  5.92857152e-02 2.36551612e-04 5.57872001e-04 2.70209578e-03\n",
      "  2.33443701e-04 2.49215169e-03 2.07130727e-03 2.48491229e-03\n",
      "  1.88362523e-04 9.29000322e-03 5.80363208e-04 3.05424188e-03\n",
      "  1.46158971e-03 3.29011260e-03 3.77844044e-05 9.17722995e-04\n",
      "  1.82507688e-03 3.64268338e-03 1.32922307e-02 5.15635882e-04\n",
      "  2.03400739e-02 2.13902713e-05 1.65598586e-01 4.60673459e-02\n",
      "  2.90779808e-05 6.46027252e-02 4.49552527e-03 5.76689690e-02\n",
      "  6.65271655e-05 8.66554328e-04 3.14823810e-05 1.40074830e-04\n",
      "  5.04592617e-06 6.25807513e-03 4.87207944e-05 7.68089303e-05\n",
      "  8.49364596e-07 1.35477958e-08]]\n"
     ]
    }
   ],
   "source": [
    "preds = model_CNN.predict(val_scaled[0:1])\n",
    "print(preds)"
   ]
  },
  {
   "cell_type": "markdown",
   "id": "b9594498",
   "metadata": {},
   "source": [
    "# 확률 그래프"
   ]
  },
  {
   "cell_type": "code",
   "execution_count": 78,
   "id": "13c0de94",
   "metadata": {
    "ExecuteTime": {
     "end_time": "2022-09-27T07:27:08.306968Z",
     "start_time": "2022-09-27T07:27:07.816253Z"
    }
   },
   "outputs": [
    {
     "data": {
      "image/png": "[encoded data removed]",
      "text/plain": [
       "<Figure size 432x288 with 1 Axes>"
      ]
     },
     "metadata": {
      "needs_background": "light"
     },
     "output_type": "display_data"
    }
   ],
   "source": [
    "plt.bar(range(1, 259), preds[0])\n",
    "plt.xlabel('class')\n",
    "plt.ylabel('prob')\n",
    "plt.show()"
   ]
  },
  {
   "cell_type": "markdown",
   "id": "a67c5317",
   "metadata": {},
   "source": [
    "# Total target (classes) < append"
   ]
  },
  {
   "cell_type": "code",
   "execution_count": 43,
   "id": "a8d5da96",
   "metadata": {
    "ExecuteTime": {
     "end_time": "2022-09-23T05:16:10.226378Z",
     "start_time": "2022-09-23T05:16:10.207380Z"
    }
   },
   "outputs": [],
   "source": [
    "classes = []\n",
    "for i in df['category'].unique():\n",
    "    classes.append(i)"
   ]
  },
  {
   "cell_type": "code",
   "execution_count": 44,
   "id": "55c13466",
   "metadata": {
    "ExecuteTime": {
     "end_time": "2022-09-23T05:16:10.669050Z",
     "start_time": "2022-09-23T05:16:10.661050Z"
    }
   },
   "outputs": [
    {
     "data": {
      "text/plain": [
       "['3001',\n",
       " '3002',\n",
       " '3003',\n",
       " '3004',\n",
       " '3005',\n",
       " '3006',\n",
       " '3008',\n",
       " '3009',\n",
       " '3010',\n",
       " '3011',\n",
       " '3012',\n",
       " '3013',\n",
       " '3014',\n",
       " '3015',\n",
       " '3016',\n",
       " '3017',\n",
       " '3018',\n",
       " '3019',\n",
       " '3020',\n",
       " '3021',\n",
       " '3022',\n",
       " '3023',\n",
       " '3024',\n",
       " '3025',\n",
       " '3027',\n",
       " '3028',\n",
       " '3029',\n",
       " '3030',\n",
       " '3031',\n",
       " '3032',\n",
       " '3033',\n",
       " '3034',\n",
       " '3035',\n",
       " '3036',\n",
       " '3037',\n",
       " '3038',\n",
       " '3039',\n",
       " '3040',\n",
       " '3041',\n",
       " '3042',\n",
       " '3043',\n",
       " '3044',\n",
       " '3045',\n",
       " '3046',\n",
       " '3047',\n",
       " '3048',\n",
       " '3049',\n",
       " '3050',\n",
       " '3051',\n",
       " '3052',\n",
       " '3053',\n",
       " '3054',\n",
       " '3055',\n",
       " '3056',\n",
       " '3057',\n",
       " '3058',\n",
       " '3059',\n",
       " '3060',\n",
       " '3061',\n",
       " '3062',\n",
       " '3063',\n",
       " '3064',\n",
       " '3065',\n",
       " '3066',\n",
       " '3067',\n",
       " '3068',\n",
       " '3069',\n",
       " '3070',\n",
       " '3071',\n",
       " '3072',\n",
       " '3073',\n",
       " '3074',\n",
       " '3075',\n",
       " '3076',\n",
       " '3077',\n",
       " '3078',\n",
       " '3079',\n",
       " '3080',\n",
       " '3081',\n",
       " '3082',\n",
       " '3083',\n",
       " '4000',\n",
       " '4001',\n",
       " '4002',\n",
       " '4004',\n",
       " '4005',\n",
       " '4006',\n",
       " '4007',\n",
       " '4008',\n",
       " '4009',\n",
       " '4010',\n",
       " '4011',\n",
       " '4012',\n",
       " '4013',\n",
       " '4014',\n",
       " '4015',\n",
       " '4016',\n",
       " '4017',\n",
       " '4018',\n",
       " '4019',\n",
       " '4020',\n",
       " '4021',\n",
       " '4022',\n",
       " '4024',\n",
       " '4025',\n",
       " '4026',\n",
       " '4027',\n",
       " '4028',\n",
       " '4029',\n",
       " '4030',\n",
       " '4031',\n",
       " '4032',\n",
       " '4033',\n",
       " '4034',\n",
       " '4035',\n",
       " '4036',\n",
       " '4037',\n",
       " '4038',\n",
       " '4039',\n",
       " '4040',\n",
       " '4041',\n",
       " '4042',\n",
       " '4043',\n",
       " '4044',\n",
       " '4045',\n",
       " '4046',\n",
       " '4047',\n",
       " '4048',\n",
       " '4049',\n",
       " '4050',\n",
       " '4051',\n",
       " '4052',\n",
       " '4053',\n",
       " '4054',\n",
       " '4055',\n",
       " '4056',\n",
       " '4057',\n",
       " '4058',\n",
       " '4059',\n",
       " '4061',\n",
       " '4063',\n",
       " '4065',\n",
       " '4067',\n",
       " '4069',\n",
       " '4071',\n",
       " '4073',\n",
       " '4075',\n",
       " '4077',\n",
       " '4079',\n",
       " '4081',\n",
       " '4083',\n",
       " '4085',\n",
       " '4087',\n",
       " '4089',\n",
       " '4091',\n",
       " '4093',\n",
       " '4095',\n",
       " '4097',\n",
       " '4099',\n",
       " '4101',\n",
       " '4103',\n",
       " '4105',\n",
       " '4107',\n",
       " '5000',\n",
       " '5001',\n",
       " '5002',\n",
       " '5003',\n",
       " '5004',\n",
       " '5005',\n",
       " '5006',\n",
       " '5007',\n",
       " '5008',\n",
       " '5009',\n",
       " '5010',\n",
       " '5011',\n",
       " '5012',\n",
       " '5013',\n",
       " '5014',\n",
       " '5015',\n",
       " '5016',\n",
       " '5017',\n",
       " '5018',\n",
       " '5019',\n",
       " '5020',\n",
       " '5021',\n",
       " '5022',\n",
       " '5023',\n",
       " '5024',\n",
       " '5025',\n",
       " '5026',\n",
       " '5027',\n",
       " '5028',\n",
       " '5029',\n",
       " '5030',\n",
       " '5031',\n",
       " '5032',\n",
       " '5033',\n",
       " '5034',\n",
       " '5035',\n",
       " '5036',\n",
       " '5037',\n",
       " '5038',\n",
       " '5039',\n",
       " '5040',\n",
       " '5041',\n",
       " '5042',\n",
       " '5043',\n",
       " '5044',\n",
       " '5045',\n",
       " '5046',\n",
       " '5047',\n",
       " '5049',\n",
       " '5050',\n",
       " '5051',\n",
       " '5052',\n",
       " '5053',\n",
       " '5054',\n",
       " '5055',\n",
       " '5056',\n",
       " '5057',\n",
       " '5058',\n",
       " '5059',\n",
       " '5060',\n",
       " '5061',\n",
       " '5062',\n",
       " '5063',\n",
       " '5064',\n",
       " '5065',\n",
       " '5067',\n",
       " '5069',\n",
       " '5071',\n",
       " '5073',\n",
       " '5075',\n",
       " '5077',\n",
       " '5079',\n",
       " '5081',\n",
       " '6000',\n",
       " '6001',\n",
       " '6002',\n",
       " '6003',\n",
       " '6004',\n",
       " '6005',\n",
       " '6006',\n",
       " '6007',\n",
       " '6008',\n",
       " '6009',\n",
       " '6010',\n",
       " '6011',\n",
       " '6012',\n",
       " '6013',\n",
       " '6014',\n",
       " '6015',\n",
       " '6016',\n",
       " '6017',\n",
       " '6018',\n",
       " '6019',\n",
       " '6020',\n",
       " '6022']"
      ]
     },
     "execution_count": 44,
     "metadata": {},
     "output_type": "execute_result"
    }
   ],
   "source": [
    "classes"
   ]
  },
  {
   "cell_type": "markdown",
   "id": "80b96d5e",
   "metadata": {},
   "source": [
    "# 위 사진의 target"
   ]
  },
  {
   "cell_type": "code",
   "execution_count": 45,
   "id": "58f018fc",
   "metadata": {
    "ExecuteTime": {
     "end_time": "2022-09-23T05:16:11.584370Z",
     "start_time": "2022-09-23T05:16:11.581370Z"
    }
   },
   "outputs": [
    {
     "name": "stdout",
     "output_type": "stream",
     "text": [
      "5029\n"
     ]
    }
   ],
   "source": [
    "import numpy as np\n",
    "print(classes[np.argmax(preds)])"
   ]
  },
  {
   "cell_type": "code",
   "execution_count": 79,
   "id": "c674fa8d",
   "metadata": {
    "ExecuteTime": {
     "end_time": "2022-09-27T07:28:39.769639Z",
     "start_time": "2022-09-27T07:28:10.663475Z"
    }
   },
   "outputs": [
    {
     "name": "stdout",
     "output_type": "stream",
     "text": [
      "14/14 [==============================] - 29s 2s/step - loss: 4.4647 - accuracy: 0.2241\n"
     ]
    }
   ],
   "source": [
    "acc = model_CNN2.evaluate(val_scaled, val_target)"
   ]
  },
  {
   "cell_type": "code",
   "execution_count": 80,
   "id": "54f58420",
   "metadata": {
    "ExecuteTime": {
     "end_time": "2022-09-27T07:28:41.893475Z",
     "start_time": "2022-09-27T07:28:41.874473Z"
    }
   },
   "outputs": [
    {
     "name": "stdout",
     "output_type": "stream",
     "text": [
      "Accuracy : 22.41%\n"
     ]
    }
   ],
   "source": [
    "print(\"Accuracy : {:.2f}%\".format(acc[1]*100))"
   ]
  },
  {
   "cell_type": "code",
   "execution_count": null,
   "id": "a72b94b6",
   "metadata": {},
   "outputs": [],
   "source": []
  },
  {
   "cell_type": "code",
   "execution_count": null,
   "id": "0abc62be",
   "metadata": {},
   "outputs": [],
   "source": []
  }
 ],
 "metadata": {
  "kernelspec": {
   "display_name": "Python 3 (ipykernel)",
   "language": "python",
   "name": "python3"
  },
  "language_info": {
   "codemirror_mode": {
    "name": "ipython",
    "version": 3
   },
   "file_extension": ".py",
   "mimetype": "text/x-python",
   "name": "python",
   "nbconvert_exporter": "python",
   "pygments_lexer": "ipython3",
   "version": "3.9.12"
  },
  "toc": {
   "base_numbering": 1,
   "nav_menu": {},
   "number_sections": false,
   "sideBar": true,
   "skip_h1_title": false,
   "title_cell": "Table of Contents",
   "title_sidebar": "Contents",
   "toc_cell": false,
   "toc_position": {},
   "toc_section_display": true,
   "toc_window_display": false
  }
 },
 "nbformat": 4,
 "nbformat_minor": 5
}
