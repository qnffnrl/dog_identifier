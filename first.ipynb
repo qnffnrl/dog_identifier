{
 "cells": [
  {
   "cell_type": "code",
   "execution_count": 1,
   "id": "516982aa",
   "metadata": {
    "ExecuteTime": {
     "end_time": "2022-09-08T07:01:49.810769Z",
     "start_time": "2022-09-08T07:01:49.140664Z"
    }
   },
   "outputs": [],
   "source": [
    "import cv2\n",
    "import os"
   ]
  },
  {
   "cell_type": "markdown",
   "id": "5753862a",
   "metadata": {},
   "source": [
    "# Image Size Unification"
   ]
  },
  {
   "cell_type": "code",
   "execution_count": 2,
   "id": "5ea3bf0e",
   "metadata": {
    "ExecuteTime": {
     "end_time": "2022-09-08T07:01:50.413268Z",
     "start_time": "2022-09-08T07:01:50.311231Z"
    }
   },
   "outputs": [],
   "source": [
    "from PIL import Image"
   ]
  },
  {
   "cell_type": "code",
   "execution_count": 57,
   "id": "d8ff3b4b",
   "metadata": {
    "ExecuteTime": {
     "end_time": "2022-09-08T01:51:10.424555Z",
     "start_time": "2022-09-08T01:51:10.136211Z"
    }
   },
   "outputs": [],
   "source": [
    "fileList = os.listdir('./rowImages2/')\n",
    "for file in fileList:\n",
    "    fileNumber = file.split('.')[1]\n",
    "    img = Image.open('./rowImages2/' + file)\n",
    "    img_resize = img.resize((256, 256))\n",
    "    img_resize.save('./ImageSizeUnificated/resized' + fileNumber + '.png')"
   ]
  },
  {
   "cell_type": "markdown",
   "id": "f2dcb779",
   "metadata": {},
   "source": [
    "# -------------------------------------------------------------------------------------------------------"
   ]
  },
  {
   "cell_type": "markdown",
   "id": "18a7a796",
   "metadata": {},
   "source": [
    "# Image Gray Scaler"
   ]
  },
  {
   "cell_type": "code",
   "execution_count": 58,
   "id": "969257bd",
   "metadata": {
    "ExecuteTime": {
     "end_time": "2022-09-08T01:51:15.100752Z",
     "start_time": "2022-09-08T01:51:15.039876Z"
    }
   },
   "outputs": [],
   "source": [
    "fileLIst = os.listdir('./ImageSizeUnificated/')\n",
    "for file in fileList:\n",
    "    fileNumber = file.split('.')[1]\n",
    "    imageName = './ImageSizeUnificated/resized' + fileNumber + '.png'\n",
    "    image = cv2.imread(imageName, cv2.IMREAD_COLOR)\n",
    "    if image is None:\n",
    "        print('Could not open or find the Image')\n",
    "    grayImage = cv2.cvtColor(image, cv2.COLOR_BGR2GRAY)\n",
    "    cv2.imwrite(\"./grayImages/\" + fileNumber + '.png', grayImage)"
   ]
  },
  {
   "cell_type": "markdown",
   "id": "5bda0163",
   "metadata": {},
   "source": [
    "# -------------------------------------------------------------------------------------------------------"
   ]
  },
  {
   "cell_type": "code",
   "execution_count": 3,
   "id": "cede3fcd",
   "metadata": {
    "ExecuteTime": {
     "end_time": "2022-09-08T07:01:52.225430Z",
     "start_time": "2022-09-08T07:01:52.216431Z"
    }
   },
   "outputs": [],
   "source": [
    "import warnings\n",
    "warnings.filterwarnings('ignore')"
   ]
  },
  {
   "cell_type": "code",
   "execution_count": 4,
   "id": "7df3a2ff",
   "metadata": {
    "ExecuteTime": {
     "end_time": "2022-09-08T07:02:16.240799Z",
     "start_time": "2022-09-08T07:02:01.431057Z"
    }
   },
   "outputs": [],
   "source": [
    "import numpy as np\n",
    "import pandas as pd\n",
    "from keras_preprocessing.image import ImageDataGenerator, load_img\n",
    "from keras.utils import to_categorical\n",
    "from sklearn.model_selection import train_test_split\n",
    "import matplotlib.pyplot as plt\n",
    "import random"
   ]
  },
  {
   "cell_type": "code",
   "execution_count": 60,
   "id": "c0ff8f89",
   "metadata": {
    "ExecuteTime": {
     "end_time": "2022-09-08T01:51:18.273887Z",
     "start_time": "2022-09-08T01:51:18.264888Z"
    }
   },
   "outputs": [],
   "source": [
    "FAST_RUN = False\n",
    "IMAGE_WIDTH = 128\n",
    "IMAGE_HEIGHT = 128\n",
    "IMAGE_SIZE = (IMAGE_WIDTH, IMAGE_HEIGHT)\n",
    "IMAGE_CHANNELS = 3"
   ]
  },
  {
   "cell_type": "code",
   "execution_count": 61,
   "id": "393747b6",
   "metadata": {
    "ExecuteTime": {
     "end_time": "2022-09-08T01:51:20.217101Z",
     "start_time": "2022-09-08T01:51:20.199100Z"
    }
   },
   "outputs": [],
   "source": [
    "filenames = os.listdir(\"./grayImages/\")\n",
    "categories = []\n",
    "for filename in filenames:\n",
    "    category = filename.split('.')[0]\n",
    "    categories.append(category)\n",
    "        \n",
    "df = pd.DataFrame({\n",
    "    'filename' : filenames,\n",
    "    'category' : categories\n",
    "})"
   ]
  },
  {
   "cell_type": "code",
   "execution_count": 62,
   "id": "f96efa82",
   "metadata": {
    "ExecuteTime": {
     "end_time": "2022-09-08T01:51:21.134285Z",
     "start_time": "2022-09-08T01:51:21.116287Z"
    },
    "scrolled": true
   },
   "outputs": [
    {
     "data": {
      "text/html": [
       "<div>\n",
       "<style scoped>\n",
       "    .dataframe tbody tr th:only-of-type {\n",
       "        vertical-align: middle;\n",
       "    }\n",
       "\n",
       "    .dataframe tbody tr th {\n",
       "        vertical-align: top;\n",
       "    }\n",
       "\n",
       "    .dataframe thead th {\n",
       "        text-align: right;\n",
       "    }\n",
       "</style>\n",
       "<table border=\"1\" class=\"dataframe\">\n",
       "  <thead>\n",
       "    <tr style=\"text-align: right;\">\n",
       "      <th></th>\n",
       "      <th>filename</th>\n",
       "      <th>category</th>\n",
       "    </tr>\n",
       "  </thead>\n",
       "  <tbody>\n",
       "    <tr>\n",
       "      <th>0</th>\n",
       "      <td>1.png</td>\n",
       "      <td>1</td>\n",
       "    </tr>\n",
       "    <tr>\n",
       "      <th>1</th>\n",
       "      <td>10.png</td>\n",
       "      <td>10</td>\n",
       "    </tr>\n",
       "    <tr>\n",
       "      <th>2</th>\n",
       "      <td>2.png</td>\n",
       "      <td>2</td>\n",
       "    </tr>\n",
       "    <tr>\n",
       "      <th>3</th>\n",
       "      <td>3.png</td>\n",
       "      <td>3</td>\n",
       "    </tr>\n",
       "    <tr>\n",
       "      <th>4</th>\n",
       "      <td>4.png</td>\n",
       "      <td>4</td>\n",
       "    </tr>\n",
       "    <tr>\n",
       "      <th>5</th>\n",
       "      <td>5.png</td>\n",
       "      <td>5</td>\n",
       "    </tr>\n",
       "    <tr>\n",
       "      <th>6</th>\n",
       "      <td>6.png</td>\n",
       "      <td>6</td>\n",
       "    </tr>\n",
       "    <tr>\n",
       "      <th>7</th>\n",
       "      <td>7.png</td>\n",
       "      <td>7</td>\n",
       "    </tr>\n",
       "    <tr>\n",
       "      <th>8</th>\n",
       "      <td>8.png</td>\n",
       "      <td>8</td>\n",
       "    </tr>\n",
       "    <tr>\n",
       "      <th>9</th>\n",
       "      <td>9.png</td>\n",
       "      <td>9</td>\n",
       "    </tr>\n",
       "  </tbody>\n",
       "</table>\n",
       "</div>"
      ],
      "text/plain": [
       "  filename category\n",
       "0    1.png        1\n",
       "1   10.png       10\n",
       "2    2.png        2\n",
       "3    3.png        3\n",
       "4    4.png        4\n",
       "5    5.png        5\n",
       "6    6.png        6\n",
       "7    7.png        7\n",
       "8    8.png        8\n",
       "9    9.png        9"
      ]
     },
     "execution_count": 62,
     "metadata": {},
     "output_type": "execute_result"
    }
   ],
   "source": [
    "df.sort_values(by='category', ascending=True)"
   ]
  },
  {
   "cell_type": "code",
   "execution_count": 63,
   "id": "beee1c5a",
   "metadata": {
    "ExecuteTime": {
     "end_time": "2022-09-08T01:51:22.580381Z",
     "start_time": "2022-09-08T01:51:22.390125Z"
    }
   },
   "outputs": [
    {
     "name": "stdout",
     "output_type": "stream",
     "text": [
      "6.png\n"
     ]
    },
    {
     "data": {
      "text/plain": [
       "<matplotlib.image.AxesImage at 0x29398115df0>"
      ]
     },
     "execution_count": 63,
     "metadata": {},
     "output_type": "execute_result"
    },
    {
     "data": {
      "image/png": "[encoded data removed]",
      "text/plain": [
       "<Figure size 432x288 with 1 Axes>"
      ]
     },
     "metadata": {
      "needs_background": "light"
     },
     "output_type": "display_data"
    }
   ],
   "source": [
    "sample = random.choice(filenames)\n",
    "print(sample)\n",
    "image = load_img(\"./grayImages/\"+sample)\n",
    "plt.imshow(image)"
   ]
  },
  {
   "cell_type": "markdown",
   "id": "8359363d",
   "metadata": {},
   "source": [
    "# Data Augmentation"
   ]
  },
  {
   "cell_type": "code",
   "execution_count": 64,
   "id": "f6ef60d3",
   "metadata": {
    "ExecuteTime": {
     "end_time": "2022-09-08T01:51:42.028868Z",
     "start_time": "2022-09-08T01:51:42.024866Z"
    }
   },
   "outputs": [],
   "source": [
    "num_argumented_images = 1000"
   ]
  },
  {
   "cell_type": "code",
   "execution_count": 65,
   "id": "2db7415f",
   "metadata": {
    "ExecuteTime": {
     "end_time": "2022-09-08T01:51:43.760150Z",
     "start_time": "2022-09-08T01:51:43.750152Z"
    }
   },
   "outputs": [],
   "source": [
    "file_path = './grayImages/'\n",
    "file_names = os.listdir(file_path)\n",
    "total_origin_image_num = len(file_names)"
   ]
  },
  {
   "cell_type": "code",
   "execution_count": 66,
   "id": "94b5b16d",
   "metadata": {
    "ExecuteTime": {
     "end_time": "2022-09-08T01:54:53.431389Z",
     "start_time": "2022-09-08T01:51:57.520480Z"
    }
   },
   "outputs": [],
   "source": [
    "for k in range(0, 10):\n",
    "    argument_cnt = 1\n",
    "    for i in range(0, num_argumented_images):\n",
    "        file_name = file_names[k]\n",
    "\n",
    "        origin_image_path = './grayImages/' + file_name\n",
    "        image = Image.open(origin_image_path)\n",
    "        random_argument = random.randrange(1, 4)\n",
    "\n",
    "        # 좌우 반전\n",
    "        if(random_argument == 1):\n",
    "            inverted_image = image.transpose(Image.FLIP_LEFT_RIGHT)\n",
    "\n",
    "            inverted_image.save('./testData/'+ str(k+1) + '(' + str(argument_cnt) + ').png')\n",
    "\n",
    "        # 기울이기\n",
    "        elif(random_argument == 2):\n",
    "            rotated_image = image.rotate(random.randrange(-20, 20))\n",
    "\n",
    "            rotated_image.save('./testData/' + str(k+1) + '(' + str(argument_cnt) + ').png')\n",
    "\n",
    "        # 노이즈 추가\n",
    "        elif(random_argument == 3):\n",
    "            img = cv2.imread(origin_image_path)\n",
    "            row, col, ch = img.shape\n",
    "            mean = 0\n",
    "            var = 0.1\n",
    "            sigma = var ** 0.5\n",
    "            gauss = np.random.normal(mean, sigma, (row, col, ch))\n",
    "            gauss = gauss.reshape(row, col, ch)\n",
    "            noisy_array = img + gauss\n",
    "            noisy_image = Image.fromarray(np.uint8(noisy_array)).convert('RGB')\n",
    "\n",
    "            noisy_image.save('./testData/' + str(k+1) + '(' + str(argument_cnt) + ').png')\n",
    "        \n",
    "        argument_cnt += 1"
   ]
  },
  {
   "cell_type": "markdown",
   "id": "6cc34ae4",
   "metadata": {},
   "source": [
    "# Image Size Unification2"
   ]
  },
  {
   "cell_type": "code",
   "execution_count": 88,
   "id": "62930183",
   "metadata": {
    "ExecuteTime": {
     "end_time": "2022-09-08T02:44:33.615223Z",
     "start_time": "2022-09-08T02:14:18.914781Z"
    }
   },
   "outputs": [],
   "source": [
    "fileList = os.listdir('./trainArgumentedImages/')\n",
    "for file in fileList:\n",
    "    img = Image.open('./trainArgumentedImages/' + file)\n",
    "    img_resize = img.resize((256, 256))\n",
    "    img_resize.save('./trainData/' + file)"
   ]
  },
  {
   "cell_type": "code",
   "execution_count": 89,
   "id": "a3726700",
   "metadata": {
    "ExecuteTime": {
     "end_time": "2022-09-08T02:49:17.225200Z",
     "start_time": "2022-09-08T02:44:33.636511Z"
    }
   },
   "outputs": [],
   "source": [
    "fileList = os.listdir('./testArgumentedImages')\n",
    "for file in fileList:\n",
    "    img = Image.open('./testArgumentedImages/' + file)\n",
    "    img_resize = img.resize((256, 256))\n",
    "    img_resize.save('./testData/' + file)"
   ]
  },
  {
   "cell_type": "markdown",
   "id": "c949c6c0",
   "metadata": {},
   "source": [
    "# -------------------------------------------------------------------------------------------------------"
   ]
  },
  {
   "cell_type": "markdown",
   "id": "c8096117",
   "metadata": {},
   "source": [
    "# Data Labeling\n",
    "## -------------------------------------------------------\n",
    "## train target data"
   ]
  },
  {
   "cell_type": "code",
   "execution_count": 95,
   "id": "e576c4f0",
   "metadata": {
    "ExecuteTime": {
     "end_time": "2022-09-08T02:57:34.210341Z",
     "start_time": "2022-09-08T02:57:34.202342Z"
    }
   },
   "outputs": [],
   "source": [
    "train_target = []"
   ]
  },
  {
   "cell_type": "code",
   "execution_count": 96,
   "id": "a36abc95",
   "metadata": {
    "ExecuteTime": {
     "end_time": "2022-09-08T02:57:34.381899Z",
     "start_time": "2022-09-08T02:57:34.336902Z"
    }
   },
   "outputs": [],
   "source": [
    "for i in range(1, 11):\n",
    "    for k in range(1, 6001):\n",
    "        train_target.append(i)"
   ]
  },
  {
   "cell_type": "code",
   "execution_count": 97,
   "id": "ea4d86ce",
   "metadata": {
    "ExecuteTime": {
     "end_time": "2022-09-08T02:57:34.492966Z",
     "start_time": "2022-09-08T02:57:34.471963Z"
    }
   },
   "outputs": [],
   "source": [
    "train_target = np.array(train_target)"
   ]
  },
  {
   "cell_type": "code",
   "execution_count": 98,
   "id": "3c1da53b",
   "metadata": {
    "ExecuteTime": {
     "end_time": "2022-09-08T02:57:34.619368Z",
     "start_time": "2022-09-08T02:57:34.591875Z"
    }
   },
   "outputs": [],
   "source": [
    "train_target = train_target.astype('uint8')"
   ]
  },
  {
   "cell_type": "code",
   "execution_count": 99,
   "id": "222ddcc7",
   "metadata": {
    "ExecuteTime": {
     "end_time": "2022-09-08T02:57:34.743731Z",
     "start_time": "2022-09-08T02:57:34.726727Z"
    }
   },
   "outputs": [
    {
     "name": "stdout",
     "output_type": "stream",
     "text": [
      "uint8\n",
      "<class 'numpy.ndarray'>\n",
      "(60000,)\n"
     ]
    }
   ],
   "source": [
    "print(train_target.dtype)\n",
    "print(type(train_target))\n",
    "print(train_target.shape)"
   ]
  },
  {
   "cell_type": "markdown",
   "id": "e350df90",
   "metadata": {},
   "source": [
    "## -------------------------------------------------------"
   ]
  },
  {
   "cell_type": "markdown",
   "id": "482c9070",
   "metadata": {},
   "source": [
    "## test target data"
   ]
  },
  {
   "cell_type": "code",
   "execution_count": 92,
   "id": "b6167827",
   "metadata": {
    "ExecuteTime": {
     "end_time": "2022-09-08T02:49:17.288624Z",
     "start_time": "2022-09-08T02:49:17.259624Z"
    }
   },
   "outputs": [],
   "source": [
    "# test_target = []"
   ]
  },
  {
   "cell_type": "code",
   "execution_count": 68,
   "id": "38ddb994",
   "metadata": {
    "ExecuteTime": {
     "end_time": "2022-09-08T01:55:03.239776Z",
     "start_time": "2022-09-08T01:55:03.220776Z"
    }
   },
   "outputs": [],
   "source": [
    "for i in range(1, 11):\n",
    "    for k in range(1, 1001):\n",
    "        test_target.append(i)"
   ]
  },
  {
   "cell_type": "code",
   "execution_count": 69,
   "id": "b1e588b0",
   "metadata": {
    "ExecuteTime": {
     "end_time": "2022-09-08T01:55:03.632771Z",
     "start_time": "2022-09-08T01:55:03.624771Z"
    }
   },
   "outputs": [],
   "source": [
    "test_target = np.array(test_target)"
   ]
  },
  {
   "cell_type": "code",
   "execution_count": 70,
   "id": "4172d227",
   "metadata": {
    "ExecuteTime": {
     "end_time": "2022-09-08T01:55:03.998771Z",
     "start_time": "2022-09-08T01:55:03.984770Z"
    }
   },
   "outputs": [],
   "source": [
    "test_target = test_target.astype('uint8')"
   ]
  },
  {
   "cell_type": "code",
   "execution_count": 93,
   "id": "3de66b01",
   "metadata": {
    "ExecuteTime": {
     "end_time": "2022-09-08T02:57:18.326586Z",
     "start_time": "2022-09-08T02:57:18.304588Z"
    }
   },
   "outputs": [
    {
     "name": "stdout",
     "output_type": "stream",
     "text": [
      "uint8\n",
      "<class 'numpy.ndarray'>\n",
      "(10000,)\n"
     ]
    }
   ],
   "source": [
    "print(test_target.dtype)\n",
    "print(type(test_target))\n",
    "print(test_target.shape)"
   ]
  },
  {
   "cell_type": "markdown",
   "id": "029678c9",
   "metadata": {},
   "source": [
    "## -------------------------------------------------------\n",
    "# train input data"
   ]
  },
  {
   "cell_type": "code",
   "execution_count": 73,
   "id": "f9204b35",
   "metadata": {
    "ExecuteTime": {
     "end_time": "2022-09-08T01:58:47.091160Z",
     "start_time": "2022-09-08T01:58:47.082161Z"
    }
   },
   "outputs": [],
   "source": [
    "image = np.array(Image.open('./trainData/1(1).png'))"
   ]
  },
  {
   "cell_type": "code",
   "execution_count": 74,
   "id": "53cd2763",
   "metadata": {
    "ExecuteTime": {
     "end_time": "2022-09-08T01:58:58.840794Z",
     "start_time": "2022-09-08T01:58:58.825794Z"
    }
   },
   "outputs": [
    {
     "data": {
      "text/plain": [
       "numpy.ndarray"
      ]
     },
     "execution_count": 74,
     "metadata": {},
     "output_type": "execute_result"
    }
   ],
   "source": [
    "type(image)"
   ]
  },
  {
   "cell_type": "code",
   "execution_count": 6,
   "id": "33d0ddb6",
   "metadata": {
    "ExecuteTime": {
     "end_time": "2022-09-08T07:02:28.441128Z",
     "start_time": "2022-09-08T07:02:28.426130Z"
    }
   },
   "outputs": [],
   "source": [
    "train_input = []"
   ]
  },
  {
   "cell_type": "code",
   "execution_count": 7,
   "id": "bbbe0e84",
   "metadata": {
    "ExecuteTime": {
     "end_time": "2022-09-08T07:08:01.647121Z",
     "start_time": "2022-09-08T07:02:29.130972Z"
    }
   },
   "outputs": [],
   "source": [
    "filenames = os.listdir(\"./trainData/\")\n",
    "for filename in filenames:\n",
    "    train_input.append(np.array(Image.open('./trainData/' + filename)))"
   ]
  },
  {
   "cell_type": "code",
   "execution_count": 1,
   "id": "e75be519",
   "metadata": {
    "ExecuteTime": {
     "end_time": "2022-09-08T07:09:31.954102Z",
     "start_time": "2022-09-08T07:09:31.286234Z"
    }
   },
   "outputs": [
    {
     "ename": "NameError",
     "evalue": "name 'train_input' is not defined",
     "output_type": "error",
     "traceback": [
      "\u001b[1;31m---------------------------------------------------------------------------\u001b[0m",
      "\u001b[1;31mNameError\u001b[0m                                 Traceback (most recent call last)",
      "Input \u001b[1;32mIn [1]\u001b[0m, in \u001b[0;36m<cell line: 1>\u001b[1;34m()\u001b[0m\n\u001b[1;32m----> 1\u001b[0m \u001b[43mtrain_input\u001b[49m\n",
      "\u001b[1;31mNameError\u001b[0m: name 'train_input' is not defined"
     ]
    }
   ],
   "source": [
    "train_input"
   ]
  },
  {
   "cell_type": "code",
   "execution_count": 2,
   "id": "1d3ba6e5",
   "metadata": {
    "ExecuteTime": {
     "end_time": "2022-09-08T07:09:32.955856Z",
     "start_time": "2022-09-08T07:09:32.932859Z"
    }
   },
   "outputs": [
    {
     "ename": "NameError",
     "evalue": "name 'np' is not defined",
     "output_type": "error",
     "traceback": [
      "\u001b[1;31m---------------------------------------------------------------------------\u001b[0m",
      "\u001b[1;31mNameError\u001b[0m                                 Traceback (most recent call last)",
      "Input \u001b[1;32mIn [2]\u001b[0m, in \u001b[0;36m<cell line: 1>\u001b[1;34m()\u001b[0m\n\u001b[1;32m----> 1\u001b[0m train_input \u001b[38;5;241m=\u001b[39m \u001b[43mnp\u001b[49m\u001b[38;5;241m.\u001b[39marray(train_input)\n",
      "\u001b[1;31mNameError\u001b[0m: name 'np' is not defined"
     ]
    }
   ],
   "source": [
    "train_input = np.array(train_input)"
   ]
  },
  {
   "cell_type": "code",
   "execution_count": null,
   "id": "6162cbd1",
   "metadata": {},
   "outputs": [],
   "source": []
  },
  {
   "cell_type": "code",
   "execution_count": null,
   "id": "0021d276",
   "metadata": {},
   "outputs": [],
   "source": []
  },
  {
   "cell_type": "code",
   "execution_count": null,
   "id": "48b5a9ca",
   "metadata": {},
   "outputs": [],
   "source": []
  },
  {
   "cell_type": "code",
   "execution_count": null,
   "id": "2ad6dbc5",
   "metadata": {},
   "outputs": [],
   "source": []
  },
  {
   "cell_type": "code",
   "execution_count": null,
   "id": "a3405eeb",
   "metadata": {},
   "outputs": [],
   "source": []
  },
  {
   "cell_type": "code",
   "execution_count": null,
   "id": "9b7cc0f2",
   "metadata": {},
   "outputs": [],
   "source": []
  }
 ],
 "metadata": {
  "kernelspec": {
   "display_name": "Python 3 (ipykernel)",
   "language": "python",
   "name": "python3"
  },
  "language_info": {
   "codemirror_mode": {
    "name": "ipython",
    "version": 3
   },
   "file_extension": ".py",
   "mimetype": "text/x-python",
   "name": "python",
   "nbconvert_exporter": "python",
   "pygments_lexer": "ipython3",
   "version": "3.9.12"
  },
  "toc": {
   "base_numbering": 1,
   "nav_menu": {},
   "number_sections": false,
   "sideBar": true,
   "skip_h1_title": false,
   "title_cell": "Table of Contents",
   "title_sidebar": "Contents",
   "toc_cell": false,
   "toc_position": {},
   "toc_section_display": true,
   "toc_window_display": false
  }
 },
 "nbformat": 4,
 "nbformat_minor": 5
}
