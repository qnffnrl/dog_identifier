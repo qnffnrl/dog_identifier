{
 "cells": [
  {
   "cell_type": "code",
   "execution_count": 2,
   "id": "516982aa",
   "metadata": {
    "ExecuteTime": {
     "end_time": "2022-09-22T00:55:34.954050Z",
     "start_time": "2022-09-22T00:55:34.444090Z"
    }
   },
   "outputs": [],
   "source": [
    "import cv2\n",
    "import os"
   ]
  },
  {
   "cell_type": "code",
   "execution_count": 3,
   "id": "2f3a077b",
   "metadata": {
    "ExecuteTime": {
     "end_time": "2022-09-22T00:55:35.064479Z",
     "start_time": "2022-09-22T00:55:34.956052Z"
    }
   },
   "outputs": [],
   "source": [
    "from PIL import Image"
   ]
  },
  {
   "cell_type": "markdown",
   "id": "5b775655",
   "metadata": {},
   "source": [
    "# File Name Cutting & Size Unification"
   ]
  },
  {
   "cell_type": "markdown",
   "id": "478de635",
   "metadata": {
    "ExecuteTime": {
     "end_time": "2022-09-16T07:37:12.282504Z",
     "start_time": "2022-09-16T07:31:57.761862Z"
    }
   },
   "source": [
    "fileList = os.listdir('./realData/')\n",
    "count = 1\n",
    "for file in fileList:\n",
    "    fileNumber = file.split('-')[1]\n",
    "    img = Image.open('./realData/' + file)\n",
    "    img_resize = img.resize((256, 256))\n",
    "    if(file.split('-')[2] == '001.jpg') or (file.split('-')[2] == '01.jpg'):\n",
    "        count = 1\n",
    "    img_resize.save('./ImageSizeUnificated256/resized.' + fileNumber + '(' + str(count) + ').png')\n",
    "    count += 1"
   ]
  },
  {
   "cell_type": "markdown",
   "id": "f2dcb779",
   "metadata": {},
   "source": [
    "# -------------------------------------------------------------------------------------------------------"
   ]
  },
  {
   "cell_type": "markdown",
   "id": "18a7a796",
   "metadata": {},
   "source": [
    "# Image Gray Scaler"
   ]
  },
  {
   "cell_type": "markdown",
   "id": "f4b8a999",
   "metadata": {
    "ExecuteTime": {
     "end_time": "2022-09-16T07:38:08.676289Z",
     "start_time": "2022-09-16T07:38:08.659291Z"
    }
   },
   "source": [
    "fileList = os.listdir('./ImageSizeUnificated256/')"
   ]
  },
  {
   "cell_type": "markdown",
   "id": "964f886a",
   "metadata": {
    "ExecuteTime": {
     "end_time": "2022-09-16T07:39:06.753079Z",
     "start_time": "2022-09-16T07:38:53.822518Z"
    }
   },
   "source": [
    "for file in fileList:\n",
    "    fileNumber = file.split('.')[1]\n",
    "    imageName = './ImageSizeUnificated256/resized.' + fileNumber + '.png'\n",
    "    image = cv2.imread(imageName, cv2.IMREAD_COLOR)\n",
    "    if image is None:\n",
    "        print('Could not open or find the Image')\n",
    "    grayImage = cv2.cvtColor(image, cv2.COLOR_BGR2GRAY)\n",
    "    cv2.imwrite(\"./grayImages256/\" + fileNumber + '.png', grayImage)"
   ]
  },
  {
   "cell_type": "markdown",
   "id": "5bda0163",
   "metadata": {},
   "source": [
    "# -------------------------------------------------------------------------------------------------------"
   ]
  },
  {
   "cell_type": "code",
   "execution_count": 4,
   "id": "cede3fcd",
   "metadata": {
    "ExecuteTime": {
     "end_time": "2022-09-22T00:55:36.532254Z",
     "start_time": "2022-09-22T00:55:36.520254Z"
    }
   },
   "outputs": [],
   "source": [
    "import warnings\n",
    "warnings.filterwarnings('ignore')"
   ]
  },
  {
   "cell_type": "code",
   "execution_count": 5,
   "id": "7df3a2ff",
   "metadata": {
    "ExecuteTime": {
     "end_time": "2022-09-22T00:55:50.564917Z",
     "start_time": "2022-09-22T00:55:36.690258Z"
    }
   },
   "outputs": [],
   "source": [
    "import numpy as np\n",
    "import pandas as pd\n",
    "from keras_preprocessing.image import ImageDataGenerator, load_img\n",
    "from keras.utils import to_categorical\n",
    "from sklearn.model_selection import train_test_split\n",
    "import matplotlib.pyplot as plt\n",
    "import random"
   ]
  },
  {
   "cell_type": "code",
   "execution_count": 6,
   "id": "393747b6",
   "metadata": {
    "ExecuteTime": {
     "end_time": "2022-09-22T00:55:50.579806Z",
     "start_time": "2022-09-22T00:55:50.564917Z"
    }
   },
   "outputs": [],
   "source": [
    "filenames = os.listdir(\"./grayImages/\")\n",
    "categories = []\n",
    "for filename in filenames:\n",
    "    category = filename.split('.')[0][:4]\n",
    "    categories.append(category)\n",
    "    \n",
    "df = pd.DataFrame({\n",
    "    'filename' : filenames,\n",
    "    'category' : categories\n",
    "})"
   ]
  },
  {
   "cell_type": "markdown",
   "id": "c6b52174",
   "metadata": {},
   "source": [
    "# -------------------------------------------------------------------------------------------"
   ]
  },
  {
   "cell_type": "code",
   "execution_count": 7,
   "id": "f96efa82",
   "metadata": {
    "ExecuteTime": {
     "end_time": "2022-09-22T00:55:51.932006Z",
     "start_time": "2022-09-22T00:55:51.895106Z"
    },
    "scrolled": false
   },
   "outputs": [
    {
     "data": {
      "text/html": [
       "<div>\n",
       "<style scoped>\n",
       "    .dataframe tbody tr th:only-of-type {\n",
       "        vertical-align: middle;\n",
       "    }\n",
       "\n",
       "    .dataframe tbody tr th {\n",
       "        vertical-align: top;\n",
       "    }\n",
       "\n",
       "    .dataframe thead th {\n",
       "        text-align: right;\n",
       "    }\n",
       "</style>\n",
       "<table border=\"1\" class=\"dataframe\">\n",
       "  <thead>\n",
       "    <tr style=\"text-align: right;\">\n",
       "      <th></th>\n",
       "      <th>filename</th>\n",
       "      <th>category</th>\n",
       "    </tr>\n",
       "  </thead>\n",
       "  <tbody>\n",
       "    <tr>\n",
       "      <th>0</th>\n",
       "      <td>3001(1).png</td>\n",
       "      <td>3001</td>\n",
       "    </tr>\n",
       "    <tr>\n",
       "      <th>1</th>\n",
       "      <td>3001(2).png</td>\n",
       "      <td>3001</td>\n",
       "    </tr>\n",
       "    <tr>\n",
       "      <th>2</th>\n",
       "      <td>3001(3).png</td>\n",
       "      <td>3001</td>\n",
       "    </tr>\n",
       "    <tr>\n",
       "      <th>3</th>\n",
       "      <td>3001(4).png</td>\n",
       "      <td>3001</td>\n",
       "    </tr>\n",
       "    <tr>\n",
       "      <th>4</th>\n",
       "      <td>3001(5).png</td>\n",
       "      <td>3001</td>\n",
       "    </tr>\n",
       "    <tr>\n",
       "      <th>...</th>\n",
       "      <td>...</td>\n",
       "      <td>...</td>\n",
       "    </tr>\n",
       "    <tr>\n",
       "      <th>2111</th>\n",
       "      <td>6022(2).png</td>\n",
       "      <td>6022</td>\n",
       "    </tr>\n",
       "    <tr>\n",
       "      <th>2110</th>\n",
       "      <td>6022(10).png</td>\n",
       "      <td>6022</td>\n",
       "    </tr>\n",
       "    <tr>\n",
       "      <th>2109</th>\n",
       "      <td>6022(1).png</td>\n",
       "      <td>6022</td>\n",
       "    </tr>\n",
       "    <tr>\n",
       "      <th>2112</th>\n",
       "      <td>6022(3).png</td>\n",
       "      <td>6022</td>\n",
       "    </tr>\n",
       "    <tr>\n",
       "      <th>2118</th>\n",
       "      <td>6022(9).png</td>\n",
       "      <td>6022</td>\n",
       "    </tr>\n",
       "  </tbody>\n",
       "</table>\n",
       "<p>2119 rows × 2 columns</p>\n",
       "</div>"
      ],
      "text/plain": [
       "          filename category\n",
       "0      3001(1).png     3001\n",
       "1      3001(2).png     3001\n",
       "2      3001(3).png     3001\n",
       "3      3001(4).png     3001\n",
       "4      3001(5).png     3001\n",
       "...            ...      ...\n",
       "2111   6022(2).png     6022\n",
       "2110  6022(10).png     6022\n",
       "2109   6022(1).png     6022\n",
       "2112   6022(3).png     6022\n",
       "2118   6022(9).png     6022\n",
       "\n",
       "[2119 rows x 2 columns]"
      ]
     },
     "execution_count": 7,
     "metadata": {},
     "output_type": "execute_result"
    }
   ],
   "source": [
    "df.sort_values(by='category', ascending=True)"
   ]
  },
  {
   "cell_type": "markdown",
   "id": "680000b4",
   "metadata": {
    "ExecuteTime": {
     "end_time": "2022-09-21T05:46:53.173675Z",
     "start_time": "2022-09-21T05:46:53.145199Z"
    }
   },
   "source": [
    "df.to_csv('./label.csv')"
   ]
  },
  {
   "cell_type": "markdown",
   "id": "83cc07cb",
   "metadata": {},
   "source": [
    "# -------------------------------------------------------------------------------------------------------"
   ]
  },
  {
   "cell_type": "markdown",
   "id": "afa6fb96",
   "metadata": {},
   "source": [
    "# Label Count"
   ]
  },
  {
   "cell_type": "code",
   "execution_count": 8,
   "id": "4030129b",
   "metadata": {
    "ExecuteTime": {
     "end_time": "2022-09-22T00:55:55.280794Z",
     "start_time": "2022-09-22T00:55:55.274795Z"
    }
   },
   "outputs": [
    {
     "data": {
      "text/plain": [
       "258"
      ]
     },
     "execution_count": 8,
     "metadata": {},
     "output_type": "execute_result"
    }
   ],
   "source": [
    "len(df['category'].unique())"
   ]
  },
  {
   "cell_type": "markdown",
   "id": "fb826a2f",
   "metadata": {},
   "source": [
    "# -------------------------------------------------------------------------------------------------------"
   ]
  },
  {
   "cell_type": "code",
   "execution_count": 9,
   "id": "beee1c5a",
   "metadata": {
    "ExecuteTime": {
     "end_time": "2022-09-22T00:55:56.396365Z",
     "start_time": "2022-09-22T00:55:56.192389Z"
    }
   },
   "outputs": [
    {
     "name": "stdout",
     "output_type": "stream",
     "text": [
      "3062(18).png\n"
     ]
    },
    {
     "data": {
      "text/plain": [
       "<matplotlib.image.AxesImage at 0x1a9e68cef70>"
      ]
     },
     "execution_count": 9,
     "metadata": {},
     "output_type": "execute_result"
    },
    {
     "data": {
      "image/png": "[encoded data removed]",
      "text/plain": [
       "<Figure size 432x288 with 1 Axes>"
      ]
     },
     "metadata": {
      "needs_background": "light"
     },
     "output_type": "display_data"
    }
   ],
   "source": [
    "sample = random.choice(filenames)\n",
    "print(sample)\n",
    "image = load_img(\"./grayImages/\"+sample)\n",
    "plt.imshow(image)"
   ]
  },
  {
   "cell_type": "markdown",
   "id": "e7505bde",
   "metadata": {},
   "source": [
    "# -------------------------------------------------------------------------------------------------------"
   ]
  },
  {
   "cell_type": "markdown",
   "id": "3c4379e2",
   "metadata": {},
   "source": [
    "# Data Labeling\n",
    "## -------------------------------------------------------\n",
    "## train target data / size : 28x28"
   ]
  },
  {
   "cell_type": "code",
   "execution_count": 10,
   "id": "b505c8fa",
   "metadata": {
    "ExecuteTime": {
     "end_time": "2022-09-22T00:55:58.378606Z",
     "start_time": "2022-09-22T00:55:58.360556Z"
    }
   },
   "outputs": [],
   "source": [
    "train_target = np.array(df['category'])"
   ]
  },
  {
   "cell_type": "code",
   "execution_count": 11,
   "id": "84c235c9",
   "metadata": {
    "ExecuteTime": {
     "end_time": "2022-09-22T00:55:58.606346Z",
     "start_time": "2022-09-22T00:55:58.600342Z"
    },
    "scrolled": true
   },
   "outputs": [
    {
     "data": {
      "text/plain": [
       "array(['3001', '3001', '3001', ..., '6022', '6022', '6022'], dtype=object)"
      ]
     },
     "execution_count": 11,
     "metadata": {},
     "output_type": "execute_result"
    }
   ],
   "source": [
    "train_target"
   ]
  },
  {
   "cell_type": "code",
   "execution_count": 12,
   "id": "419e3eaf",
   "metadata": {
    "ExecuteTime": {
     "end_time": "2022-09-22T00:55:58.789768Z",
     "start_time": "2022-09-22T00:55:58.781152Z"
    }
   },
   "outputs": [],
   "source": [
    "train_target = train_target.astype('uint8')"
   ]
  },
  {
   "cell_type": "code",
   "execution_count": 13,
   "id": "bf28ade5",
   "metadata": {
    "ExecuteTime": {
     "end_time": "2022-09-22T00:55:59.216692Z",
     "start_time": "2022-09-22T00:55:59.206727Z"
    }
   },
   "outputs": [
    {
     "data": {
      "text/plain": [
       "array([185, 185, 185, ..., 134, 134, 134], dtype=uint8)"
      ]
     },
     "execution_count": 13,
     "metadata": {},
     "output_type": "execute_result"
    }
   ],
   "source": [
    "train_target"
   ]
  },
  {
   "cell_type": "code",
   "execution_count": 14,
   "id": "be5d7c4c",
   "metadata": {
    "ExecuteTime": {
     "end_time": "2022-09-22T00:55:59.650414Z",
     "start_time": "2022-09-22T00:55:59.634414Z"
    },
    "scrolled": true
   },
   "outputs": [
    {
     "name": "stdout",
     "output_type": "stream",
     "text": [
      "dtype :  uint8\n",
      "type :  <class 'numpy.ndarray'>\n",
      "shape :  (2119,)\n",
      "unique :  (array([  0,   1,   2,   3,   4,   5,   6,   7,   8,   9,  10,  11, 112,\n",
      "       113, 114, 115, 116, 117, 118, 119, 120, 121, 122, 123, 124, 125,\n",
      "       126, 127, 128, 129, 130, 131, 132, 134, 136, 137, 138, 139, 140,\n",
      "       141, 142, 143, 144, 145, 146, 147, 148, 149, 150, 151, 152, 153,\n",
      "       154, 155, 156, 157, 158, 159, 160, 161, 162, 163, 164, 165, 166,\n",
      "       167, 168, 169, 170, 171, 172, 173, 174, 175, 176, 177, 178, 179,\n",
      "       180, 181, 182, 183, 184, 185, 186, 187, 188, 189, 190, 191, 192,\n",
      "       193, 194, 195, 196, 197, 198, 199, 200, 201, 202, 203, 204, 205,\n",
      "       206, 207, 208, 209, 210, 211, 212, 213, 214, 215, 216, 217, 218,\n",
      "       219, 220, 221, 222, 223, 224, 225, 226, 227, 228, 229, 230, 231,\n",
      "       232, 233, 234, 235, 236, 237, 238, 239, 240, 241, 242, 243, 244,\n",
      "       245, 246, 247, 248, 249, 250, 251, 252, 253, 254, 255], dtype=uint8), array([ 9, 35, 10, 24,  6, 15,  4, 17, 18, 15,  3, 13,  6,  5, 10, 17, 25,\n",
      "       23, 17, 10,  4,  8,  7, 16,  3, 18, 16, 31, 16,  8, 20,  3,  6, 10,\n",
      "        9,  5,  6,  4,  7,  9, 12,  7,  5,  9, 13,  5,  7, 10,  8,  9, 12,\n",
      "        8, 15,  8, 12,  8, 14, 11, 15, 14, 23,  6, 11,  7, 23, 13, 16, 14,\n",
      "       20,  8, 23, 12, 15, 18, 15, 14, 16, 14, 22, 13, 13,  2, 11, 19, 27,\n",
      "       18, 26, 13, 28, 13, 24, 17, 19, 15, 18, 13, 25, 16, 29, 12, 10, 15,\n",
      "       10, 22, 12, 18,  5, 11,  2, 14,  7, 11, 10, 19, 16, 25, 11, 15,  8,\n",
      "       10,  8, 20,  7, 16, 10, 14,  7, 18,  8, 10,  9, 11,  8, 21,  3, 32,\n",
      "       14, 28, 13, 22, 30, 23, 20, 24, 28, 21, 10, 21,  9, 12,  5, 12,  7,\n",
      "       16], dtype=int64))\n"
     ]
    }
   ],
   "source": [
    "print('dtype : ' ,train_target.dtype)\n",
    "print('type : ', type(train_target))\n",
    "print('shape : ', train_target.shape)\n",
    "print('unique : ', np.unique(train_target, return_counts=True))"
   ]
  },
  {
   "cell_type": "markdown",
   "id": "f3b7a5a9",
   "metadata": {},
   "source": [
    "# -------------------------------------------------------------------------------------------------------"
   ]
  },
  {
   "cell_type": "markdown",
   "id": "4bf96578",
   "metadata": {},
   "source": [
    "# 1개 짜리 데이터 삭제\n",
    "## 삭제 대상"
   ]
  },
  {
   "cell_type": "markdown",
   "id": "37462894",
   "metadata": {
    "ExecuteTime": {
     "end_time": "2022-09-21T05:47:14.766009Z",
     "start_time": "2022-09-21T05:47:14.749011Z"
    }
   },
   "source": [
    "deleteTarget = []\n",
    "\n",
    "targetNumber = (np.unique(train_target, return_counts=True))[0]\n",
    "countes = (np.unique(train_target, return_counts=True))[1]\n",
    "\n",
    "for i in range(0, len(countes)):\n",
    "    if countes[i] == 1:\n",
    "        deleteTarget.append(targetNumber[i])\n",
    "\n",
    "print(deleteTarget)"
   ]
  },
  {
   "cell_type": "markdown",
   "id": "7aa3eaa1",
   "metadata": {},
   "source": [
    "## 삭제"
   ]
  },
  {
   "cell_type": "markdown",
   "id": "6589063f",
   "metadata": {
    "ExecuteTime": {
     "end_time": "2022-09-21T05:47:16.664085Z",
     "start_time": "2022-09-21T05:47:16.648087Z"
    }
   },
   "source": [
    "for i in range(0, len(countes)):\n",
    "    if countes[i] == 1:\n",
    "        if os.path.isfile('./grayImages/' + targetNumber[i] + '(1).png'):\n",
    "            os.remove('./grayImages/' + targetNumber[i] + '(1).png')"
   ]
  },
  {
   "cell_type": "markdown",
   "id": "ccf208e0",
   "metadata": {
    "ExecuteTime": {
     "end_time": "2022-09-21T05:47:16.977742Z",
     "start_time": "2022-09-21T05:47:16.955768Z"
    }
   },
   "source": [
    "fileList = os.listdir('./grayImages/')\n",
    "totalFileCount = 0\n",
    "for file in fileList:\n",
    "    totalFileCount += 1\n",
    "    \n",
    "print(totalFileCount)"
   ]
  },
  {
   "cell_type": "markdown",
   "id": "052cb214",
   "metadata": {},
   "source": [
    "# -------------------------------------------------------------------------------------------------------"
   ]
  },
  {
   "cell_type": "markdown",
   "id": "09e6ba79",
   "metadata": {},
   "source": [
    "# train input data"
   ]
  },
  {
   "cell_type": "code",
   "execution_count": 15,
   "id": "71e2f5f0",
   "metadata": {
    "ExecuteTime": {
     "end_time": "2022-09-22T00:56:02.383688Z",
     "start_time": "2022-09-22T00:56:02.371687Z"
    }
   },
   "outputs": [],
   "source": [
    "train_input = []"
   ]
  },
  {
   "cell_type": "code",
   "execution_count": 16,
   "id": "ab642d0a",
   "metadata": {
    "ExecuteTime": {
     "end_time": "2022-09-22T00:56:05.389340Z",
     "start_time": "2022-09-22T00:56:02.697300Z"
    }
   },
   "outputs": [],
   "source": [
    "filenames = os.listdir(\"./grayImages/\")\n",
    "for filename in filenames:\n",
    "    train_input.append( np.array(Image.open('./grayImages/' + filename)) )"
   ]
  },
  {
   "cell_type": "code",
   "execution_count": 17,
   "id": "3cd452db",
   "metadata": {
    "ExecuteTime": {
     "end_time": "2022-09-22T00:56:05.908801Z",
     "start_time": "2022-09-22T00:56:05.890800Z"
    }
   },
   "outputs": [],
   "source": [
    "train_input = np.array(train_input)"
   ]
  },
  {
   "cell_type": "code",
   "execution_count": 18,
   "id": "ab36ffd3",
   "metadata": {
    "ExecuteTime": {
     "end_time": "2022-09-22T00:56:06.081637Z",
     "start_time": "2022-09-22T00:56:06.075638Z"
    },
    "scrolled": true
   },
   "outputs": [
    {
     "data": {
      "text/plain": [
       "array([[[ 63,  68,  70, ...,  93,  95, 102],\n",
       "        [ 69,  70,  75, ...,  83,  86, 101],\n",
       "        [ 70,  72,  73, ...,  81,  77,  84],\n",
       "        ...,\n",
       "        [ 95,  92,  81, ..., 122,  85,  80],\n",
       "        [122, 117, 114, ..., 111,  81,  85],\n",
       "        [189, 187, 186, ..., 100,  81,  86]],\n",
       "\n",
       "       [[ 63,  68,  70, ...,  93,  95, 102],\n",
       "        [ 69,  70,  75, ...,  83,  86, 101],\n",
       "        [ 70,  72,  73, ...,  81,  77,  84],\n",
       "        ...,\n",
       "        [ 95,  92,  81, ..., 122,  85,  80],\n",
       "        [122, 117, 114, ..., 111,  81,  85],\n",
       "        [189, 187, 186, ..., 100,  81,  86]],\n",
       "\n",
       "       [[ 49,  54,  58, ...,  89,  75,  72],\n",
       "        [ 48,  52,  61, ...,  99,  93,  85],\n",
       "        [ 54,  55,  62, ...,  88,  88,  89],\n",
       "        ...,\n",
       "        [174, 182, 186, ..., 145, 146, 147],\n",
       "        [133, 145, 157, ..., 138, 139, 137],\n",
       "        [ 93,  92,  88, ..., 124, 129, 126]],\n",
       "\n",
       "       ...,\n",
       "\n",
       "       [[ 44,  38,  43, ...,  96,  89, 106],\n",
       "        [ 88,  79,  79, ..., 121,  99, 118],\n",
       "        [ 95,  97,  99, ..., 141, 110, 126],\n",
       "        ...,\n",
       "        [121, 145, 100, ...,  91,  94,  84],\n",
       "        [123, 134, 112, ...,  57,  41,  58],\n",
       "        [114, 126, 135, ...,  43,  32,  31]],\n",
       "\n",
       "       [[ 47,  40,  42, ..., 104,  90, 108],\n",
       "        [ 82,  71,  74, ..., 128, 101, 118],\n",
       "        [ 97,  99, 101, ..., 150, 112, 125],\n",
       "        ...,\n",
       "        [115, 143, 118, ...,  92,  88,  93],\n",
       "        [121, 131, 133, ...,  65,  34,  46],\n",
       "        [104, 125, 135, ...,  45,  40,  30]],\n",
       "\n",
       "       [[ 43,  37,  42, ..., 100,  89, 107],\n",
       "        [ 87,  79,  79, ..., 125,  99, 118],\n",
       "        [ 95,  97,  99, ..., 144, 111, 124],\n",
       "        ...,\n",
       "        [122, 144,  93, ...,  90,  93,  86],\n",
       "        [125, 137, 124, ...,  54,  39,  55],\n",
       "        [113, 132, 143, ...,  44,  33,  31]]], dtype=uint8)"
      ]
     },
     "execution_count": 18,
     "metadata": {},
     "output_type": "execute_result"
    }
   ],
   "source": [
    "train_input"
   ]
  },
  {
   "cell_type": "code",
   "execution_count": 19,
   "id": "40ecbccd",
   "metadata": {
    "ExecuteTime": {
     "end_time": "2022-09-22T00:56:06.876445Z",
     "start_time": "2022-09-22T00:56:06.858447Z"
    }
   },
   "outputs": [
    {
     "name": "stdout",
     "output_type": "stream",
     "text": [
      "(2119, 28, 28)\n"
     ]
    }
   ],
   "source": [
    "print(train_input.shape)"
   ]
  },
  {
   "cell_type": "markdown",
   "id": "a2d2add8",
   "metadata": {},
   "source": [
    "# -------------------------------------------------------------------------------------------------------"
   ]
  },
  {
   "cell_type": "markdown",
   "id": "1bcc0945",
   "metadata": {},
   "source": [
    "# Data Normalization "
   ]
  },
  {
   "cell_type": "code",
   "execution_count": 20,
   "id": "2e5da0da",
   "metadata": {
    "ExecuteTime": {
     "end_time": "2022-09-22T00:56:07.972376Z",
     "start_time": "2022-09-22T00:56:07.962378Z"
    }
   },
   "outputs": [],
   "source": [
    "train_scaled = train_input.reshape(-1, 28, 28, 1) / 255.0"
   ]
  },
  {
   "cell_type": "code",
   "execution_count": 21,
   "id": "1c7f070e",
   "metadata": {
    "ExecuteTime": {
     "end_time": "2022-09-22T00:56:08.129104Z",
     "start_time": "2022-09-22T00:56:08.123106Z"
    }
   },
   "outputs": [
    {
     "name": "stdout",
     "output_type": "stream",
     "text": [
      "(2119, 28, 28, 1)\n"
     ]
    }
   ],
   "source": [
    "print(train_scaled.shape)"
   ]
  },
  {
   "cell_type": "markdown",
   "id": "a6ea2eac",
   "metadata": {},
   "source": [
    "# Data Split"
   ]
  },
  {
   "cell_type": "code",
   "execution_count": 22,
   "id": "3aa92711",
   "metadata": {
    "ExecuteTime": {
     "end_time": "2022-09-22T00:56:08.939009Z",
     "start_time": "2022-09-22T00:56:08.915329Z"
    }
   },
   "outputs": [],
   "source": [
    "train_scaled, val_scaled, train_target, val_target = train_test_split(train_scaled, train_target, test_size=0.2, random_state=42)"
   ]
  },
  {
   "cell_type": "code",
   "execution_count": 23,
   "id": "2b71701f",
   "metadata": {
    "ExecuteTime": {
     "end_time": "2022-09-22T00:56:09.064611Z",
     "start_time": "2022-09-22T00:56:09.050109Z"
    },
    "scrolled": true
   },
   "outputs": [
    {
     "name": "stdout",
     "output_type": "stream",
     "text": [
      "(1695, 28, 28, 1) (1695,)\n",
      "(424, 28, 28, 1) (424,)\n"
     ]
    }
   ],
   "source": [
    "print(train_scaled.shape, train_target.shape)\n",
    "print(val_scaled.shape, val_target.shape)"
   ]
  },
  {
   "cell_type": "markdown",
   "id": "604df35d",
   "metadata": {},
   "source": [
    "# CNN"
   ]
  },
  {
   "cell_type": "code",
   "execution_count": 73,
   "id": "9799cf44",
   "metadata": {
    "ExecuteTime": {
     "end_time": "2022-09-22T00:59:11.760886Z",
     "start_time": "2022-09-22T00:59:11.742886Z"
    }
   },
   "outputs": [],
   "source": [
    "from tensorflow import keras"
   ]
  },
  {
   "cell_type": "code",
   "execution_count": 74,
   "id": "8e4675e3",
   "metadata": {
    "ExecuteTime": {
     "end_time": "2022-09-22T00:59:11.967348Z",
     "start_time": "2022-09-22T00:59:11.957347Z"
    }
   },
   "outputs": [],
   "source": [
    "model_CNN = keras.Sequential()"
   ]
  },
  {
   "cell_type": "markdown",
   "id": "8f6d8f6e",
   "metadata": {
    "ExecuteTime": {
     "end_time": "2022-09-15T03:06:39.892337Z",
     "start_time": "2022-09-15T03:06:39.892337Z"
    }
   },
   "source": [
    "model.evaluate(val_scaled, val_target)"
   ]
  },
  {
   "cell_type": "markdown",
   "id": "bb55b2c4",
   "metadata": {},
   "source": [
    "# ************ breakpoint ************"
   ]
  },
  {
   "cell_type": "markdown",
   "id": "0d112707",
   "metadata": {},
   "source": [
    "# Feature Extraction"
   ]
  },
  {
   "cell_type": "code",
   "execution_count": 75,
   "id": "419999d7",
   "metadata": {
    "ExecuteTime": {
     "end_time": "2022-09-22T00:59:13.635918Z",
     "start_time": "2022-09-22T00:59:13.588580Z"
    }
   },
   "outputs": [],
   "source": [
    "model_CNN.add(keras.layers.Conv2D(filters=32, kernel_size=3, activation='relu', padding='same', input_shape=(28, 28, 1)))\n",
    "model_CNN.add(keras.layers.MaxPooling2D(2))\n",
    "model_CNN.add(keras.layers.Conv2D(filters=64, kernel_size=3, activation='relu', padding='same'))\n",
    "model_CNN.add(keras.layers.MaxPooling2D(2))"
   ]
  },
  {
   "cell_type": "markdown",
   "id": "22e98b7d",
   "metadata": {},
   "source": [
    "# Classifier"
   ]
  },
  {
   "cell_type": "code",
   "execution_count": 76,
   "id": "54cc678c",
   "metadata": {
    "ExecuteTime": {
     "end_time": "2022-09-22T00:59:14.265487Z",
     "start_time": "2022-09-22T00:59:14.219648Z"
    }
   },
   "outputs": [],
   "source": [
    "model_CNN.add(keras.layers.Flatten())\n",
    "model_CNN.add(keras.layers.Dense(100, activation='relu'))\n",
    "model_CNN.add(keras.layers.Dropout(0.4))\n",
    "model_CNN.add(keras.layers.Dense(258, activation='softmax'))"
   ]
  },
  {
   "cell_type": "markdown",
   "id": "357ba6a4",
   "metadata": {},
   "source": [
    "# ************ breakpoint ************"
   ]
  },
  {
   "cell_type": "markdown",
   "id": "53fe1209",
   "metadata": {},
   "source": [
    "# -------------------------------------------------------------------------------------------------------"
   ]
  },
  {
   "cell_type": "markdown",
   "id": "609573d1",
   "metadata": {},
   "source": [
    "# Data Split"
   ]
  },
  {
   "cell_type": "code",
   "execution_count": 77,
   "id": "f260cdca",
   "metadata": {
    "ExecuteTime": {
     "end_time": "2022-09-22T00:59:15.543584Z",
     "start_time": "2022-09-22T00:59:15.528585Z"
    }
   },
   "outputs": [],
   "source": [
    "train_scaled, val_scaled, train_target, val_target = train_test_split(train_scaled, train_target, test_size=0.2, random_state=42)"
   ]
  },
  {
   "cell_type": "code",
   "execution_count": 78,
   "id": "47be20dc",
   "metadata": {
    "ExecuteTime": {
     "end_time": "2022-09-22T00:59:15.776557Z",
     "start_time": "2022-09-22T00:59:15.763161Z"
    },
    "scrolled": true
   },
   "outputs": [
    {
     "name": "stdout",
     "output_type": "stream",
     "text": [
      "(1084, 28, 28, 1) (1084,)\n",
      "(272, 28, 28, 1) (272,)\n"
     ]
    }
   ],
   "source": [
    "print(train_scaled.shape, train_target.shape)\n",
    "print(val_scaled.shape, val_target.shape)"
   ]
  },
  {
   "cell_type": "code",
   "execution_count": 79,
   "id": "5525ae63",
   "metadata": {
    "ExecuteTime": {
     "end_time": "2022-09-22T00:59:16.027234Z",
     "start_time": "2022-09-22T00:59:15.998365Z"
    }
   },
   "outputs": [
    {
     "name": "stdout",
     "output_type": "stream",
     "text": [
      "Model: \"sequential_1\"\n",
      "_________________________________________________________________\n",
      " Layer (type)                Output Shape              Param #   \n",
      "=================================================================\n",
      " conv2d_2 (Conv2D)           (None, 28, 28, 32)        320       \n",
      "                                                                 \n",
      " max_pooling2d_2 (MaxPooling  (None, 14, 14, 32)       0         \n",
      " 2D)                                                             \n",
      "                                                                 \n",
      " conv2d_3 (Conv2D)           (None, 14, 14, 64)        18496     \n",
      "                                                                 \n",
      " max_pooling2d_3 (MaxPooling  (None, 7, 7, 64)         0         \n",
      " 2D)                                                             \n",
      "                                                                 \n",
      " flatten_1 (Flatten)         (None, 3136)              0         \n",
      "                                                                 \n",
      " dense_2 (Dense)             (None, 100)               313700    \n",
      "                                                                 \n",
      " dropout_1 (Dropout)         (None, 100)               0         \n",
      "                                                                 \n",
      " dense_3 (Dense)             (None, 258)               26058     \n",
      "                                                                 \n",
      "=================================================================\n",
      "Total params: 358,574\n",
      "Trainable params: 358,574\n",
      "Non-trainable params: 0\n",
      "_________________________________________________________________\n"
     ]
    }
   ],
   "source": [
    "model_CNN.summary()"
   ]
  },
  {
   "cell_type": "code",
   "execution_count": 80,
   "id": "233ce0a4",
   "metadata": {
    "ExecuteTime": {
     "end_time": "2022-09-22T00:59:16.392557Z",
     "start_time": "2022-09-22T00:59:16.216287Z"
    },
    "scrolled": true
   },
   "outputs": [
    {
     "data": {
      "image/png": "[encoded data removed]",
      "text/plain": [
       "<IPython.core.display.Image object>"
      ]
     },
     "execution_count": 80,
     "metadata": {},
     "output_type": "execute_result"
    }
   ],
   "source": [
    "keras.utils.plot_model(model_CNN)"
   ]
  },
  {
   "cell_type": "code",
   "execution_count": 81,
   "id": "efecbcbe",
   "metadata": {
    "ExecuteTime": {
     "end_time": "2022-09-22T00:59:16.633997Z",
     "start_time": "2022-09-22T00:59:16.431350Z"
    },
    "scrolled": true
   },
   "outputs": [
    {
     "data": {
      "image/png": "[encoded data removed]",
      "text/plain": [
       "<IPython.core.display.Image object>"
      ]
     },
     "execution_count": 81,
     "metadata": {},
     "output_type": "execute_result"
    }
   ],
   "source": [
    "keras.utils.plot_model(model_CNN, show_shapes=True)"
   ]
  },
  {
   "cell_type": "code",
   "execution_count": 82,
   "id": "f94a8b60",
   "metadata": {
    "ExecuteTime": {
     "end_time": "2022-09-22T00:59:33.864546Z",
     "start_time": "2022-09-22T00:59:16.636789Z"
    },
    "scrolled": false
   },
   "outputs": [
    {
     "name": "stdout",
     "output_type": "stream",
     "text": [
      "Epoch 1/30\n",
      "34/34 [==============================] - 1s 24ms/step - loss: 5.4857 - accuracy: 0.0074 - val_loss: 5.3339 - val_accuracy: 0.0000e+00\n",
      "Epoch 2/30\n",
      "34/34 [==============================] - 1s 17ms/step - loss: 5.2242 - accuracy: 0.0129 - val_loss: 5.1180 - val_accuracy: 0.0000e+00\n",
      "Epoch 3/30\n",
      "34/34 [==============================] - 1s 19ms/step - loss: 5.0806 - accuracy: 0.0157 - val_loss: 5.0256 - val_accuracy: 0.0074\n",
      "Epoch 4/30\n",
      "34/34 [==============================] - 1s 17ms/step - loss: 5.0008 - accuracy: 0.0203 - val_loss: 4.9775 - val_accuracy: 0.0257\n",
      "Epoch 5/30\n",
      "34/34 [==============================] - 1s 19ms/step - loss: 4.9057 - accuracy: 0.0277 - val_loss: 4.8712 - val_accuracy: 0.0368\n",
      "Epoch 6/30\n",
      "34/34 [==============================] - 1s 17ms/step - loss: 4.7154 - accuracy: 0.0498 - val_loss: 4.7662 - val_accuracy: 0.0772\n",
      "Epoch 7/30\n",
      "34/34 [==============================] - 1s 17ms/step - loss: 4.5184 - accuracy: 0.0839 - val_loss: 4.5875 - val_accuracy: 0.0882\n",
      "Epoch 8/30\n",
      "34/34 [==============================] - 1s 17ms/step - loss: 4.3649 - accuracy: 0.0904 - val_loss: 4.4282 - val_accuracy: 0.1176\n",
      "Epoch 9/30\n",
      "34/34 [==============================] - 1s 19ms/step - loss: 4.1459 - accuracy: 0.1181 - val_loss: 4.2929 - val_accuracy: 0.1397\n",
      "Epoch 10/30\n",
      "34/34 [==============================] - 1s 18ms/step - loss: 3.9206 - accuracy: 0.1624 - val_loss: 4.0902 - val_accuracy: 0.1728\n",
      "Epoch 11/30\n",
      "34/34 [==============================] - 1s 19ms/step - loss: 3.7579 - accuracy: 0.1891 - val_loss: 3.9428 - val_accuracy: 0.2206\n",
      "Epoch 12/30\n",
      "34/34 [==============================] - 1s 17ms/step - loss: 3.5137 - accuracy: 0.2279 - val_loss: 3.8403 - val_accuracy: 0.2426\n",
      "Epoch 13/30\n",
      "34/34 [==============================] - 1s 17ms/step - loss: 3.3487 - accuracy: 0.2399 - val_loss: 3.7148 - val_accuracy: 0.2684\n",
      "Epoch 14/30\n",
      "34/34 [==============================] - 1s 17ms/step - loss: 3.1691 - accuracy: 0.2574 - val_loss: 3.6013 - val_accuracy: 0.3235\n",
      "Epoch 15/30\n",
      "34/34 [==============================] - 1s 18ms/step - loss: 3.0065 - accuracy: 0.3054 - val_loss: 3.5035 - val_accuracy: 0.3272\n",
      "Epoch 16/30\n",
      "34/34 [==============================] - 1s 19ms/step - loss: 2.8552 - accuracy: 0.3284 - val_loss: 3.3946 - val_accuracy: 0.3382\n",
      "Epoch 17/30\n",
      "34/34 [==============================] - 1s 18ms/step - loss: 2.7563 - accuracy: 0.3312 - val_loss: 3.3763 - val_accuracy: 0.3640\n",
      "Epoch 18/30\n",
      "34/34 [==============================] - 1s 18ms/step - loss: 2.5419 - accuracy: 0.3828 - val_loss: 3.3304 - val_accuracy: 0.3640\n",
      "Epoch 19/30\n",
      "34/34 [==============================] - 1s 18ms/step - loss: 2.4555 - accuracy: 0.3884 - val_loss: 3.3179 - val_accuracy: 0.3493\n",
      "Epoch 20/30\n",
      "34/34 [==============================] - 1s 17ms/step - loss: 2.3946 - accuracy: 0.4004 - val_loss: 3.2400 - val_accuracy: 0.3713\n",
      "Epoch 21/30\n",
      "34/34 [==============================] - 1s 18ms/step - loss: 2.3362 - accuracy: 0.4105 - val_loss: 3.2577 - val_accuracy: 0.3971\n",
      "Epoch 22/30\n",
      "34/34 [==============================] - 1s 19ms/step - loss: 2.1941 - accuracy: 0.4363 - val_loss: 3.2244 - val_accuracy: 0.3860\n",
      "Epoch 23/30\n",
      "34/34 [==============================] - 1s 18ms/step - loss: 2.1028 - accuracy: 0.4622 - val_loss: 3.1918 - val_accuracy: 0.3971\n",
      "Epoch 24/30\n",
      "34/34 [==============================] - 1s 17ms/step - loss: 2.0602 - accuracy: 0.4502 - val_loss: 3.2319 - val_accuracy: 0.4044\n",
      "Epoch 25/30\n",
      "34/34 [==============================] - 1s 18ms/step - loss: 1.9798 - accuracy: 0.4760 - val_loss: 3.1466 - val_accuracy: 0.4228\n",
      "Epoch 26/30\n",
      "34/34 [==============================] - 1s 17ms/step - loss: 1.8805 - accuracy: 0.4862 - val_loss: 3.1676 - val_accuracy: 0.4007\n",
      "Epoch 27/30\n",
      "34/34 [==============================] - 1s 18ms/step - loss: 1.8016 - accuracy: 0.5092 - val_loss: 3.1778 - val_accuracy: 0.4154\n"
     ]
    }
   ],
   "source": [
    "model_CNN.compile(optimizer='adam', loss='sparse_categorical_crossentropy', metrics='accuracy')\n",
    "checkpoint_cb = keras.callbacks.ModelCheckpoint('best-cnn-model.h5')\n",
    "early_stopping_cb = keras.callbacks.EarlyStopping(patience=2, restore_best_weights=True)\n",
    "history = model_CNN.fit(train_scaled, train_target, epochs=30, validation_data=(val_scaled, val_target), callbacks=[checkpoint_cb, early_stopping_cb])"
   ]
  },
  {
   "cell_type": "code",
   "execution_count": 87,
   "id": "69cbe907",
   "metadata": {
    "ExecuteTime": {
     "end_time": "2022-09-22T00:59:45.398503Z",
     "start_time": "2022-09-22T00:59:45.254254Z"
    }
   },
   "outputs": [
    {
     "data": {
      "image/png": "[encoded data removed]",
      "text/plain": [
       "<Figure size 432x288 with 1 Axes>"
      ]
     },
     "metadata": {
      "needs_background": "light"
     },
     "output_type": "display_data"
    }
   ],
   "source": [
    "import matplotlib.pyplot as plt\n",
    "plt.plot(history.history['loss'])\n",
    "plt.plot(history.history['val_loss'])\n",
    "plt.xlabel('epoch')\n",
    "plt.ylabel('loss')\n",
    "plt.legend(['train', 'val'])\n",
    "plt.show()"
   ]
  },
  {
   "cell_type": "code",
   "execution_count": 88,
   "id": "932e20d6",
   "metadata": {
    "ExecuteTime": {
     "end_time": "2022-09-22T00:59:46.111070Z",
     "start_time": "2022-09-22T00:59:45.731066Z"
    }
   },
   "outputs": [
    {
     "name": "stdout",
     "output_type": "stream",
     "text": [
      "9/9 [==============================] - 0s 5ms/step - loss: 3.1778 - accuracy: 0.4154\n"
     ]
    },
    {
     "data": {
      "text/plain": [
       "[3.1778404712677, 0.4154411852359772]"
      ]
     },
     "execution_count": 88,
     "metadata": {},
     "output_type": "execute_result"
    }
   ],
   "source": [
    "model_CNN2 = keras.models.load_model('./best-cnn-model.h5')\n",
    "model_CNN2.evaluate(val_scaled, val_target)"
   ]
  },
  {
   "cell_type": "markdown",
   "id": "3d2f1b0e",
   "metadata": {},
   "source": [
    "# Test\n",
    "## y_train first data ↓↓↓"
   ]
  },
  {
   "cell_type": "code",
   "execution_count": 89,
   "id": "b3cca6ab",
   "metadata": {
    "ExecuteTime": {
     "end_time": "2022-09-22T00:59:46.825852Z",
     "start_time": "2022-09-22T00:59:46.716938Z"
    }
   },
   "outputs": [
    {
     "data": {
      "image/png": "[encoded data removed]",
      "text/plain": [
       "<Figure size 432x288 with 1 Axes>"
      ]
     },
     "metadata": {
      "needs_background": "light"
     },
     "output_type": "display_data"
    }
   ],
   "source": [
    "plt.imshow(val_scaled[0].reshape(28, 28), cmap='gray_r')\n",
    "plt.show()"
   ]
  },
  {
   "cell_type": "markdown",
   "id": "adc85655",
   "metadata": {},
   "source": [
    "# Performance"
   ]
  },
  {
   "cell_type": "markdown",
   "id": "c4128e1c",
   "metadata": {},
   "source": [
    "# 위 사진에 대한 258개 확률 출력"
   ]
  },
  {
   "cell_type": "code",
   "execution_count": 90,
   "id": "3c71669a",
   "metadata": {
    "ExecuteTime": {
     "end_time": "2022-09-22T00:59:48.066950Z",
     "start_time": "2022-09-22T00:59:47.770422Z"
    },
    "scrolled": true
   },
   "outputs": [
    {
     "name": "stdout",
     "output_type": "stream",
     "text": [
      "1/1 [==============================] - 0s 14ms/step\n",
      "[[4.64540608e-02 1.15427945e-04 6.33789314e-05 3.80390411e-04\n",
      "  1.67412873e-06 3.00888461e-03 3.38131867e-05 4.03962657e-02\n",
      "  1.66890404e-05 3.70733906e-05 6.53819052e-06 3.32059513e-04\n",
      "  1.25618023e-08 2.63323656e-08 2.91792657e-09 2.80212902e-07\n",
      "  7.65753398e-08 1.42597694e-08 1.60997065e-08 1.25315480e-09\n",
      "  7.24138705e-09 3.83013976e-09 4.15224993e-10 2.94670368e-08\n",
      "  1.52931303e-08 1.25608379e-09 3.61440954e-07 1.47807067e-09\n",
      "  3.37485595e-09 8.18761450e-08 6.44084386e-09 2.12824016e-08\n",
      "  3.17314388e-08 1.07228546e-08 3.86386839e-10 7.79168658e-08\n",
      "  4.59077976e-09 3.75736064e-08 1.88892155e-08 2.64084548e-07\n",
      "  1.49028931e-08 4.29515516e-08 1.96456362e-09 6.88492207e-07\n",
      "  3.11791723e-07 3.71233995e-08 5.21154853e-09 5.30428146e-09\n",
      "  3.42899620e-09 5.34840006e-10 3.76209552e-09 6.38629727e-09\n",
      "  3.39295170e-08 2.59972044e-08 9.96210225e-09 6.28083852e-09\n",
      "  4.94730621e-08 1.24853656e-08 1.68159231e-09 6.01216428e-08\n",
      "  2.06639669e-07 1.91355483e-08 5.85507500e-08 9.78918502e-10\n",
      "  6.10173334e-09 1.77714998e-08 1.25601254e-08 5.75040922e-08\n",
      "  2.46852849e-08 1.55153668e-08 1.95451349e-07 6.57906174e-09\n",
      "  2.07547957e-09 5.86942406e-07 6.59236790e-08 1.57485886e-07\n",
      "  7.37900097e-09 9.75094636e-08 4.86107110e-09 1.74908310e-09\n",
      "  5.98906738e-08 3.00150553e-08 1.25628404e-07 5.65102187e-09\n",
      "  8.94555274e-09 4.15491428e-07 1.68164682e-09 1.28717970e-08\n",
      "  3.90946120e-09 5.68446410e-07 1.57868263e-09 2.63015192e-08\n",
      "  1.06437117e-08 2.52258325e-09 3.67674318e-08 1.00753091e-07\n",
      "  1.31774698e-08 2.58120707e-08 1.01743716e-08 7.51983276e-09\n",
      "  4.18194794e-08 7.00743996e-08 1.12775220e-08 4.13194012e-09\n",
      "  2.41954119e-08 2.75771495e-09 4.48084521e-08 2.00218238e-07\n",
      "  1.69434564e-08 7.77745868e-09 1.06889331e-09 1.13820209e-09\n",
      "  2.27106909e-07 3.70877497e-05 2.81762586e-05 5.65743130e-06\n",
      "  3.03252982e-05 3.91023150e-06 7.82503605e-07 1.17635087e-03\n",
      "  2.65577200e-05 1.11375300e-06 6.16919206e-05 2.46996406e-05\n",
      "  1.46615093e-06 8.77772365e-03 7.01766911e-09 1.81987076e-07\n",
      "  8.11107224e-04 1.12911162e-04 2.42389615e-05 9.64514220e-06\n",
      "  1.62057440e-05 1.19848139e-07 5.13245678e-03 3.92355748e-09\n",
      "  5.22334230e-05 3.79916019e-05 5.16792852e-06 1.12674199e-03\n",
      "  4.87564535e-07 2.74489546e-04 3.02392826e-03 7.19980628e-04\n",
      "  1.23712925e-05 2.09073420e-03 2.38463923e-04 3.34205083e-06\n",
      "  1.69137784e-05 1.98450359e-03 7.68496902e-05 2.46878807e-03\n",
      "  6.95559138e-04 1.85647459e-05 1.25335169e-03 1.50963286e-04\n",
      "  2.21424445e-04 9.22261178e-03 3.18843871e-04 1.60282652e-03\n",
      "  7.89906248e-04 2.55857140e-06 5.71741862e-03 6.17900165e-04\n",
      "  8.79601284e-05 5.54702571e-03 2.90390799e-05 1.94272306e-02\n",
      "  8.94750410e-04 5.93302422e-04 4.10321634e-03 2.70276261e-03\n",
      "  1.40357076e-03 8.45472368e-06 3.39262369e-05 1.19488368e-06\n",
      "  2.62065195e-02 6.64700696e-04 5.60212320e-05 1.29924202e-03\n",
      "  5.98215811e-05 1.34664162e-06 8.87908228e-03 1.07873675e-05\n",
      "  9.93600188e-05 2.17206730e-03 1.22559932e-03 2.45393417e-03\n",
      "  4.81631747e-03 1.36701361e-04 2.86065005e-02 1.23174279e-03\n",
      "  2.21638773e-02 8.59499050e-05 8.14573013e-06 1.61563456e-02\n",
      "  7.41312979e-04 4.05034880e-05 2.55511986e-05 5.29461466e-02\n",
      "  3.15496475e-02 2.47351080e-02 3.98548764e-06 8.72831879e-05\n",
      "  2.31552316e-04 1.74440332e-02 2.29852106e-02 1.25497827e-04\n",
      "  4.13621393e-07 1.30744920e-05 9.47758167e-07 3.07940390e-05\n",
      "  8.65102187e-03 4.16957540e-04 5.99900319e-04 2.15250939e-01\n",
      "  1.20276093e-06 1.18417321e-02 4.30898421e-04 5.21889096e-03\n",
      "  1.31203455e-03 3.01663331e-05 5.30355668e-04 3.38351856e-05\n",
      "  1.90561952e-03 1.66345548e-04 1.85743179e-02 2.39220113e-02\n",
      "  1.72493783e-05 1.29312312e-03 2.30314545e-02 1.01506373e-06\n",
      "  1.53519344e-04 1.12181886e-04 2.86092163e-05 7.97246525e-04\n",
      "  2.40545864e-06 1.38552234e-04 4.75438806e-04 4.71459816e-06\n",
      "  3.43715400e-03 5.70702367e-04 9.41161939e-04 2.08168058e-05\n",
      "  2.70241969e-07 7.55342469e-03 1.91734925e-01 4.14351642e-04\n",
      "  2.72822287e-03 3.21005064e-04 1.96033725e-04 3.74088377e-05\n",
      "  2.43415907e-02 2.74149864e-03 2.03254051e-04 7.80883245e-03\n",
      "  1.22528176e-09 3.87259682e-08]]\n"
     ]
    }
   ],
   "source": [
    "preds = model_CNN.predict(val_scaled[0:1])\n",
    "print(preds)"
   ]
  },
  {
   "cell_type": "markdown",
   "id": "b9594498",
   "metadata": {},
   "source": [
    "# 확률 그래프"
   ]
  },
  {
   "cell_type": "code",
   "execution_count": 91,
   "id": "13c0de94",
   "metadata": {
    "ExecuteTime": {
     "end_time": "2022-09-22T00:59:49.396863Z",
     "start_time": "2022-09-22T00:59:48.955741Z"
    }
   },
   "outputs": [
    {
     "data": {
      "image/png": "[encoded data removed]",
      "text/plain": [
       "<Figure size 432x288 with 1 Axes>"
      ]
     },
     "metadata": {
      "needs_background": "light"
     },
     "output_type": "display_data"
    }
   ],
   "source": [
    "plt.bar(range(1, 259), preds[0])\n",
    "plt.xlabel('class')\n",
    "plt.ylabel('prob')\n",
    "plt.show()"
   ]
  },
  {
   "cell_type": "markdown",
   "id": "a67c5317",
   "metadata": {},
   "source": [
    "# Total target (classes) < append"
   ]
  },
  {
   "cell_type": "code",
   "execution_count": 92,
   "id": "a8d5da96",
   "metadata": {
    "ExecuteTime": {
     "end_time": "2022-09-22T00:59:49.760437Z",
     "start_time": "2022-09-22T00:59:49.745133Z"
    }
   },
   "outputs": [],
   "source": [
    "classes = []\n",
    "for i in df['category'].unique():\n",
    "    classes.append(i)"
   ]
  },
  {
   "cell_type": "code",
   "execution_count": 93,
   "id": "55c13466",
   "metadata": {
    "ExecuteTime": {
     "end_time": "2022-09-22T00:59:50.369387Z",
     "start_time": "2022-09-22T00:59:50.348660Z"
    }
   },
   "outputs": [
    {
     "data": {
      "text/plain": [
       "['3001',\n",
       " '3002',\n",
       " '3003',\n",
       " '3004',\n",
       " '3005',\n",
       " '3006',\n",
       " '3008',\n",
       " '3009',\n",
       " '3010',\n",
       " '3011',\n",
       " '3012',\n",
       " '3013',\n",
       " '3014',\n",
       " '3015',\n",
       " '3016',\n",
       " '3017',\n",
       " '3018',\n",
       " '3019',\n",
       " '3020',\n",
       " '3021',\n",
       " '3022',\n",
       " '3023',\n",
       " '3024',\n",
       " '3025',\n",
       " '3027',\n",
       " '3028',\n",
       " '3029',\n",
       " '3030',\n",
       " '3031',\n",
       " '3032',\n",
       " '3033',\n",
       " '3034',\n",
       " '3035',\n",
       " '3036',\n",
       " '3037',\n",
       " '3038',\n",
       " '3039',\n",
       " '3040',\n",
       " '3041',\n",
       " '3042',\n",
       " '3043',\n",
       " '3044',\n",
       " '3045',\n",
       " '3046',\n",
       " '3047',\n",
       " '3048',\n",
       " '3049',\n",
       " '3050',\n",
       " '3051',\n",
       " '3052',\n",
       " '3053',\n",
       " '3054',\n",
       " '3055',\n",
       " '3056',\n",
       " '3057',\n",
       " '3058',\n",
       " '3059',\n",
       " '3060',\n",
       " '3061',\n",
       " '3062',\n",
       " '3063',\n",
       " '3064',\n",
       " '3065',\n",
       " '3066',\n",
       " '3067',\n",
       " '3068',\n",
       " '3069',\n",
       " '3070',\n",
       " '3071',\n",
       " '3072',\n",
       " '3073',\n",
       " '3074',\n",
       " '3075',\n",
       " '3076',\n",
       " '3077',\n",
       " '3078',\n",
       " '3079',\n",
       " '3080',\n",
       " '3081',\n",
       " '3082',\n",
       " '3083',\n",
       " '4000',\n",
       " '4001',\n",
       " '4002',\n",
       " '4004',\n",
       " '4005',\n",
       " '4006',\n",
       " '4007',\n",
       " '4008',\n",
       " '4009',\n",
       " '4010',\n",
       " '4011',\n",
       " '4012',\n",
       " '4013',\n",
       " '4014',\n",
       " '4015',\n",
       " '4016',\n",
       " '4017',\n",
       " '4018',\n",
       " '4019',\n",
       " '4020',\n",
       " '4021',\n",
       " '4022',\n",
       " '4024',\n",
       " '4025',\n",
       " '4026',\n",
       " '4027',\n",
       " '4028',\n",
       " '4029',\n",
       " '4030',\n",
       " '4031',\n",
       " '4032',\n",
       " '4033',\n",
       " '4034',\n",
       " '4035',\n",
       " '4036',\n",
       " '4037',\n",
       " '4038',\n",
       " '4039',\n",
       " '4040',\n",
       " '4041',\n",
       " '4042',\n",
       " '4043',\n",
       " '4044',\n",
       " '4045',\n",
       " '4046',\n",
       " '4047',\n",
       " '4048',\n",
       " '4049',\n",
       " '4050',\n",
       " '4051',\n",
       " '4052',\n",
       " '4053',\n",
       " '4054',\n",
       " '4055',\n",
       " '4056',\n",
       " '4057',\n",
       " '4058',\n",
       " '4059',\n",
       " '4061',\n",
       " '4063',\n",
       " '4065',\n",
       " '4067',\n",
       " '4069',\n",
       " '4071',\n",
       " '4073',\n",
       " '4075',\n",
       " '4077',\n",
       " '4079',\n",
       " '4081',\n",
       " '4083',\n",
       " '4085',\n",
       " '4087',\n",
       " '4089',\n",
       " '4091',\n",
       " '4093',\n",
       " '4095',\n",
       " '4097',\n",
       " '4099',\n",
       " '4101',\n",
       " '4103',\n",
       " '4105',\n",
       " '4107',\n",
       " '5000',\n",
       " '5001',\n",
       " '5002',\n",
       " '5003',\n",
       " '5004',\n",
       " '5005',\n",
       " '5006',\n",
       " '5007',\n",
       " '5008',\n",
       " '5009',\n",
       " '5010',\n",
       " '5011',\n",
       " '5012',\n",
       " '5013',\n",
       " '5014',\n",
       " '5015',\n",
       " '5016',\n",
       " '5017',\n",
       " '5018',\n",
       " '5019',\n",
       " '5020',\n",
       " '5021',\n",
       " '5022',\n",
       " '5023',\n",
       " '5024',\n",
       " '5025',\n",
       " '5026',\n",
       " '5027',\n",
       " '5028',\n",
       " '5029',\n",
       " '5030',\n",
       " '5031',\n",
       " '5032',\n",
       " '5033',\n",
       " '5034',\n",
       " '5035',\n",
       " '5036',\n",
       " '5037',\n",
       " '5038',\n",
       " '5039',\n",
       " '5040',\n",
       " '5041',\n",
       " '5042',\n",
       " '5043',\n",
       " '5044',\n",
       " '5045',\n",
       " '5046',\n",
       " '5047',\n",
       " '5049',\n",
       " '5050',\n",
       " '5051',\n",
       " '5052',\n",
       " '5053',\n",
       " '5054',\n",
       " '5055',\n",
       " '5056',\n",
       " '5057',\n",
       " '5058',\n",
       " '5059',\n",
       " '5060',\n",
       " '5061',\n",
       " '5062',\n",
       " '5063',\n",
       " '5064',\n",
       " '5065',\n",
       " '5067',\n",
       " '5069',\n",
       " '5071',\n",
       " '5073',\n",
       " '5075',\n",
       " '5077',\n",
       " '5079',\n",
       " '5081',\n",
       " '6000',\n",
       " '6001',\n",
       " '6002',\n",
       " '6003',\n",
       " '6004',\n",
       " '6005',\n",
       " '6006',\n",
       " '6007',\n",
       " '6008',\n",
       " '6009',\n",
       " '6010',\n",
       " '6011',\n",
       " '6012',\n",
       " '6013',\n",
       " '6014',\n",
       " '6015',\n",
       " '6016',\n",
       " '6017',\n",
       " '6018',\n",
       " '6019',\n",
       " '6020',\n",
       " '6022']"
      ]
     },
     "execution_count": 93,
     "metadata": {},
     "output_type": "execute_result"
    }
   ],
   "source": [
    "classes"
   ]
  },
  {
   "cell_type": "markdown",
   "id": "80b96d5e",
   "metadata": {},
   "source": [
    "# 위 사진의 target"
   ]
  },
  {
   "cell_type": "code",
   "execution_count": 94,
   "id": "58f018fc",
   "metadata": {
    "ExecuteTime": {
     "end_time": "2022-09-22T00:59:51.152723Z",
     "start_time": "2022-09-22T00:59:51.141725Z"
    }
   },
   "outputs": [
    {
     "name": "stdout",
     "output_type": "stream",
     "text": [
      "5053\n"
     ]
    }
   ],
   "source": [
    "import numpy as np\n",
    "print(classes[np.argmax(preds)])"
   ]
  },
  {
   "cell_type": "code",
   "execution_count": 95,
   "id": "c674fa8d",
   "metadata": {
    "ExecuteTime": {
     "end_time": "2022-09-22T00:59:51.465819Z",
     "start_time": "2022-09-22T00:59:51.344191Z"
    }
   },
   "outputs": [
    {
     "name": "stdout",
     "output_type": "stream",
     "text": [
      "9/9 [==============================] - 0s 5ms/step - loss: 3.1778 - accuracy: 0.4154\n"
     ]
    }
   ],
   "source": [
    "acc = model_CNN2.evaluate(val_scaled, val_target)"
   ]
  },
  {
   "cell_type": "code",
   "execution_count": 96,
   "id": "54f58420",
   "metadata": {
    "ExecuteTime": {
     "end_time": "2022-09-22T00:59:51.526526Z",
     "start_time": "2022-09-22T00:59:51.511357Z"
    }
   },
   "outputs": [
    {
     "name": "stdout",
     "output_type": "stream",
     "text": [
      "Accuracy : 41.54%\n"
     ]
    }
   ],
   "source": [
    "print(\"Accuracy : {:.2f}%\".format(acc[1]*100))"
   ]
  },
  {
   "cell_type": "code",
   "execution_count": null,
   "id": "a72b94b6",
   "metadata": {},
   "outputs": [],
   "source": []
  },
  {
   "cell_type": "code",
   "execution_count": null,
   "id": "0abc62be",
   "metadata": {},
   "outputs": [],
   "source": []
  }
 ],
 "metadata": {
  "kernelspec": {
   "display_name": "Python 3 (ipykernel)",
   "language": "python",
   "name": "python3"
  },
  "language_info": {
   "codemirror_mode": {
    "name": "ipython",
    "version": 3
   },
   "file_extension": ".py",
   "mimetype": "text/x-python",
   "name": "python",
   "nbconvert_exporter": "python",
   "pygments_lexer": "ipython3",
   "version": "3.9.12"
  },
  "toc": {
   "base_numbering": 1,
   "nav_menu": {},
   "number_sections": false,
   "sideBar": true,
   "skip_h1_title": false,
   "title_cell": "Table of Contents",
   "title_sidebar": "Contents",
   "toc_cell": false,
   "toc_position": {},
   "toc_section_display": true,
   "toc_window_display": false
  }
 },
 "nbformat": 4,
 "nbformat_minor": 5
}
