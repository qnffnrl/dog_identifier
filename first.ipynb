{
 "cells": [
  {
   "cell_type": "code",
   "execution_count": 1,
   "id": "516982aa",
   "metadata": {
    "ExecuteTime": {
     "end_time": "2022-09-20T08:06:04.797539Z",
     "start_time": "2022-09-20T08:06:04.261528Z"
    }
   },
   "outputs": [],
   "source": [
    "import cv2\n",
    "import os"
   ]
  },
  {
   "cell_type": "code",
   "execution_count": 2,
   "id": "2f3a077b",
   "metadata": {
    "ExecuteTime": {
     "end_time": "2022-09-20T08:06:04.877545Z",
     "start_time": "2022-09-20T08:06:04.799545Z"
    }
   },
   "outputs": [],
   "source": [
    "from PIL import Image"
   ]
  },
  {
   "cell_type": "markdown",
   "id": "5b775655",
   "metadata": {},
   "source": [
    "# File Name Cutting & Size Unification"
   ]
  },
  {
   "cell_type": "markdown",
   "id": "35fefda8",
   "metadata": {
    "ExecuteTime": {
     "end_time": "2022-09-16T07:37:12.282504Z",
     "start_time": "2022-09-16T07:31:57.761862Z"
    }
   },
   "source": [
    "fileList = os.listdir('./realData/')\n",
    "count = 1\n",
    "for file in fileList:\n",
    "    fileNumber = file.split('-')[1]\n",
    "    img = Image.open('./realData/' + file)\n",
    "    img_resize = img.resize((256, 256))\n",
    "    if(file.split('-')[2] == '001.jpg') or (file.split('-')[2] == '01.jpg'):\n",
    "        count = 1\n",
    "    img_resize.save('./ImageSizeUnificated256/resized.' + fileNumber + '(' + str(count) + ').png')\n",
    "    count += 1"
   ]
  },
  {
   "cell_type": "markdown",
   "id": "f2dcb779",
   "metadata": {},
   "source": [
    "# -------------------------------------------------------------------------------------------------------"
   ]
  },
  {
   "cell_type": "markdown",
   "id": "18a7a796",
   "metadata": {},
   "source": [
    "# Image Gray Scaler"
   ]
  },
  {
   "cell_type": "markdown",
   "id": "15051893",
   "metadata": {
    "ExecuteTime": {
     "end_time": "2022-09-16T07:38:08.676289Z",
     "start_time": "2022-09-16T07:38:08.659291Z"
    }
   },
   "source": [
    "fileList = os.listdir('./ImageSizeUnificated256/')"
   ]
  },
  {
   "cell_type": "markdown",
   "id": "b1aa6e94",
   "metadata": {
    "ExecuteTime": {
     "end_time": "2022-09-16T07:39:06.753079Z",
     "start_time": "2022-09-16T07:38:53.822518Z"
    }
   },
   "source": [
    "for file in fileList:\n",
    "    fileNumber = file.split('.')[1]\n",
    "    imageName = './ImageSizeUnificated256/resized.' + fileNumber + '.png'\n",
    "    image = cv2.imread(imageName, cv2.IMREAD_COLOR)\n",
    "    if image is None:\n",
    "        print('Could not open or find the Image')\n",
    "    grayImage = cv2.cvtColor(image, cv2.COLOR_BGR2GRAY)\n",
    "    cv2.imwrite(\"./grayImages256/\" + fileNumber + '.png', grayImage)"
   ]
  },
  {
   "cell_type": "markdown",
   "id": "5bda0163",
   "metadata": {},
   "source": [
    "# -------------------------------------------------------------------------------------------------------"
   ]
  },
  {
   "cell_type": "code",
   "execution_count": 3,
   "id": "cede3fcd",
   "metadata": {
    "ExecuteTime": {
     "end_time": "2022-09-20T08:06:06.685192Z",
     "start_time": "2022-09-20T08:06:06.667192Z"
    }
   },
   "outputs": [],
   "source": [
    "import warnings\n",
    "warnings.filterwarnings('ignore')"
   ]
  },
  {
   "cell_type": "code",
   "execution_count": 4,
   "id": "7df3a2ff",
   "metadata": {
    "ExecuteTime": {
     "end_time": "2022-09-20T08:06:17.636330Z",
     "start_time": "2022-09-20T08:06:06.834681Z"
    }
   },
   "outputs": [],
   "source": [
    "import numpy as np\n",
    "import pandas as pd\n",
    "from keras_preprocessing.image import ImageDataGenerator, load_img\n",
    "from keras.utils import to_categorical\n",
    "from sklearn.model_selection import train_test_split\n",
    "import matplotlib.pyplot as plt\n",
    "import random"
   ]
  },
  {
   "cell_type": "code",
   "execution_count": 5,
   "id": "393747b6",
   "metadata": {
    "ExecuteTime": {
     "end_time": "2022-09-20T08:06:17.652329Z",
     "start_time": "2022-09-20T08:06:17.638332Z"
    }
   },
   "outputs": [],
   "source": [
    "filenames = os.listdir(\"./grayImages256/\")\n",
    "categories = []\n",
    "for filename in filenames:\n",
    "    category = filename.split('.')[0][:4]\n",
    "    categories.append(category)\n",
    "        \n",
    "df = pd.DataFrame({\n",
    "    'filename' : filenames,\n",
    "    'category' : categories\n",
    "})"
   ]
  },
  {
   "cell_type": "code",
   "execution_count": 6,
   "id": "f96efa82",
   "metadata": {
    "ExecuteTime": {
     "end_time": "2022-09-20T08:06:17.684331Z",
     "start_time": "2022-09-20T08:06:17.653333Z"
    },
    "scrolled": true
   },
   "outputs": [
    {
     "data": {
      "text/html": [
       "<div>\n",
       "<style scoped>\n",
       "    .dataframe tbody tr th:only-of-type {\n",
       "        vertical-align: middle;\n",
       "    }\n",
       "\n",
       "    .dataframe tbody tr th {\n",
       "        vertical-align: top;\n",
       "    }\n",
       "\n",
       "    .dataframe thead th {\n",
       "        text-align: right;\n",
       "    }\n",
       "</style>\n",
       "<table border=\"1\" class=\"dataframe\">\n",
       "  <thead>\n",
       "    <tr style=\"text-align: right;\">\n",
       "      <th></th>\n",
       "      <th>filename</th>\n",
       "      <th>category</th>\n",
       "    </tr>\n",
       "  </thead>\n",
       "  <tbody>\n",
       "    <tr>\n",
       "      <th>0</th>\n",
       "      <td>3001(1).png</td>\n",
       "      <td>3001</td>\n",
       "    </tr>\n",
       "    <tr>\n",
       "      <th>1</th>\n",
       "      <td>3001(2).png</td>\n",
       "      <td>3001</td>\n",
       "    </tr>\n",
       "    <tr>\n",
       "      <th>2</th>\n",
       "      <td>3001(3).png</td>\n",
       "      <td>3001</td>\n",
       "    </tr>\n",
       "    <tr>\n",
       "      <th>3</th>\n",
       "      <td>3001(4).png</td>\n",
       "      <td>3001</td>\n",
       "    </tr>\n",
       "    <tr>\n",
       "      <th>4</th>\n",
       "      <td>3001(5).png</td>\n",
       "      <td>3001</td>\n",
       "    </tr>\n",
       "    <tr>\n",
       "      <th>...</th>\n",
       "      <td>...</td>\n",
       "      <td>...</td>\n",
       "    </tr>\n",
       "    <tr>\n",
       "      <th>2111</th>\n",
       "      <td>6022(2).png</td>\n",
       "      <td>6022</td>\n",
       "    </tr>\n",
       "    <tr>\n",
       "      <th>2110</th>\n",
       "      <td>6022(10).png</td>\n",
       "      <td>6022</td>\n",
       "    </tr>\n",
       "    <tr>\n",
       "      <th>2109</th>\n",
       "      <td>6022(1).png</td>\n",
       "      <td>6022</td>\n",
       "    </tr>\n",
       "    <tr>\n",
       "      <th>2112</th>\n",
       "      <td>6022(3).png</td>\n",
       "      <td>6022</td>\n",
       "    </tr>\n",
       "    <tr>\n",
       "      <th>2118</th>\n",
       "      <td>6022(9).png</td>\n",
       "      <td>6022</td>\n",
       "    </tr>\n",
       "  </tbody>\n",
       "</table>\n",
       "<p>2119 rows × 2 columns</p>\n",
       "</div>"
      ],
      "text/plain": [
       "          filename category\n",
       "0      3001(1).png     3001\n",
       "1      3001(2).png     3001\n",
       "2      3001(3).png     3001\n",
       "3      3001(4).png     3001\n",
       "4      3001(5).png     3001\n",
       "...            ...      ...\n",
       "2111   6022(2).png     6022\n",
       "2110  6022(10).png     6022\n",
       "2109   6022(1).png     6022\n",
       "2112   6022(3).png     6022\n",
       "2118   6022(9).png     6022\n",
       "\n",
       "[2119 rows x 2 columns]"
      ]
     },
     "execution_count": 6,
     "metadata": {},
     "output_type": "execute_result"
    }
   ],
   "source": [
    "df.sort_values(by='category', ascending=True)"
   ]
  },
  {
   "cell_type": "markdown",
   "id": "83cc07cb",
   "metadata": {},
   "source": [
    "# -------------------------------------------------------------------------------------------------------"
   ]
  },
  {
   "cell_type": "markdown",
   "id": "afa6fb96",
   "metadata": {},
   "source": [
    "# Label Count"
   ]
  },
  {
   "cell_type": "code",
   "execution_count": 40,
   "id": "4030129b",
   "metadata": {
    "ExecuteTime": {
     "end_time": "2022-09-20T08:20:17.899692Z",
     "start_time": "2022-09-20T08:20:17.880692Z"
    }
   },
   "outputs": [
    {
     "data": {
      "text/plain": [
       "258"
      ]
     },
     "execution_count": 40,
     "metadata": {},
     "output_type": "execute_result"
    }
   ],
   "source": [
    "len(df['category'].unique())"
   ]
  },
  {
   "cell_type": "markdown",
   "id": "fb826a2f",
   "metadata": {},
   "source": [
    "# -------------------------------------------------------------------------------------------------------"
   ]
  },
  {
   "cell_type": "code",
   "execution_count": 7,
   "id": "beee1c5a",
   "metadata": {
    "ExecuteTime": {
     "end_time": "2022-09-20T08:06:17.875332Z",
     "start_time": "2022-09-20T08:06:17.687332Z"
    }
   },
   "outputs": [
    {
     "name": "stdout",
     "output_type": "stream",
     "text": [
      "5023(5).png\n"
     ]
    },
    {
     "data": {
      "text/plain": [
       "<matplotlib.image.AxesImage at 0x15d4e807ee0>"
      ]
     },
     "execution_count": 7,
     "metadata": {},
     "output_type": "execute_result"
    },
    {
     "data": {
      "image/png": "[encoded data removed]",
      "text/plain": [
       "<Figure size 432x288 with 1 Axes>"
      ]
     },
     "metadata": {
      "needs_background": "light"
     },
     "output_type": "display_data"
    }
   ],
   "source": [
    "sample = random.choice(filenames)\n",
    "print(sample)\n",
    "image = load_img(\"./grayImages256/\"+sample)\n",
    "plt.imshow(image)"
   ]
  },
  {
   "cell_type": "markdown",
   "id": "e7505bde",
   "metadata": {},
   "source": [
    "# -------------------------------------------------------------------------------------------------------"
   ]
  },
  {
   "cell_type": "markdown",
   "id": "3c4379e2",
   "metadata": {},
   "source": [
    "# Data Labeling\n",
    "## -------------------------------------------------------\n",
    "## train target data"
   ]
  },
  {
   "cell_type": "code",
   "execution_count": 8,
   "id": "b505c8fa",
   "metadata": {
    "ExecuteTime": {
     "end_time": "2022-09-20T08:06:20.719841Z",
     "start_time": "2022-09-20T08:06:20.701840Z"
    }
   },
   "outputs": [],
   "source": [
    "train_target = np.array(df['category'])"
   ]
  },
  {
   "cell_type": "code",
   "execution_count": 9,
   "id": "84c235c9",
   "metadata": {
    "ExecuteTime": {
     "end_time": "2022-09-20T08:06:21.228781Z",
     "start_time": "2022-09-20T08:06:21.219782Z"
    }
   },
   "outputs": [
    {
     "data": {
      "text/plain": [
       "array(['3001', '3001', '3001', ..., '6022', '6022', '6022'], dtype=object)"
      ]
     },
     "execution_count": 9,
     "metadata": {},
     "output_type": "execute_result"
    }
   ],
   "source": [
    "train_target"
   ]
  },
  {
   "cell_type": "code",
   "execution_count": 10,
   "id": "419e3eaf",
   "metadata": {
    "ExecuteTime": {
     "end_time": "2022-09-20T08:06:22.663090Z",
     "start_time": "2022-09-20T08:06:22.646090Z"
    }
   },
   "outputs": [],
   "source": [
    "train_target = train_target.astype('uint8')"
   ]
  },
  {
   "cell_type": "code",
   "execution_count": 11,
   "id": "bf28ade5",
   "metadata": {
    "ExecuteTime": {
     "end_time": "2022-09-20T08:06:23.389814Z",
     "start_time": "2022-09-20T08:06:23.372815Z"
    }
   },
   "outputs": [
    {
     "data": {
      "text/plain": [
       "array([185, 185, 185, ..., 134, 134, 134], dtype=uint8)"
      ]
     },
     "execution_count": 11,
     "metadata": {},
     "output_type": "execute_result"
    }
   ],
   "source": [
    "train_target"
   ]
  },
  {
   "cell_type": "code",
   "execution_count": 12,
   "id": "be5d7c4c",
   "metadata": {
    "ExecuteTime": {
     "end_time": "2022-09-20T08:06:32.411096Z",
     "start_time": "2022-09-20T08:06:32.395097Z"
    },
    "scrolled": false
   },
   "outputs": [
    {
     "name": "stdout",
     "output_type": "stream",
     "text": [
      "dtype :  uint8\n",
      "type :  <class 'numpy.ndarray'>\n",
      "shape :  (2119,)\n",
      "unique :  (array([  0,   1,   2,   3,   4,   5,   6,   7,   8,   9,  10,  11, 112,\n",
      "       113, 114, 115, 116, 117, 118, 119, 120, 121, 122, 123, 124, 125,\n",
      "       126, 127, 128, 129, 130, 131, 132, 134, 136, 137, 138, 139, 140,\n",
      "       141, 142, 143, 144, 145, 146, 147, 148, 149, 150, 151, 152, 153,\n",
      "       154, 155, 156, 157, 158, 159, 160, 161, 162, 163, 164, 165, 166,\n",
      "       167, 168, 169, 170, 171, 172, 173, 174, 175, 176, 177, 178, 179,\n",
      "       180, 181, 182, 183, 184, 185, 186, 187, 188, 189, 190, 191, 192,\n",
      "       193, 194, 195, 196, 197, 198, 199, 200, 201, 202, 203, 204, 205,\n",
      "       206, 207, 208, 209, 210, 211, 212, 213, 214, 215, 216, 217, 218,\n",
      "       219, 220, 221, 222, 223, 224, 225, 226, 227, 228, 229, 230, 231,\n",
      "       232, 233, 234, 235, 236, 237, 238, 239, 240, 241, 242, 243, 244,\n",
      "       245, 246, 247, 248, 249, 250, 251, 252, 253, 254, 255], dtype=uint8), array([ 9, 35, 10, 24,  6, 15,  4, 17, 18, 15,  3, 13,  6,  5, 10, 17, 25,\n",
      "       23, 17, 10,  4,  8,  7, 16,  3, 18, 16, 31, 16,  8, 20,  3,  6, 10,\n",
      "        9,  5,  6,  4,  7,  9, 12,  7,  5,  9, 13,  5,  7, 10,  8,  9, 12,\n",
      "        8, 15,  8, 12,  8, 14, 11, 15, 14, 23,  6, 11,  7, 23, 13, 16, 14,\n",
      "       20,  8, 23, 12, 15, 18, 15, 14, 16, 14, 22, 13, 13,  2, 11, 19, 27,\n",
      "       18, 26, 13, 28, 13, 24, 17, 19, 15, 18, 13, 25, 16, 29, 12, 10, 15,\n",
      "       10, 22, 12, 18,  5, 11,  2, 14,  7, 11, 10, 19, 16, 25, 11, 15,  8,\n",
      "       10,  8, 20,  7, 16, 10, 14,  7, 18,  8, 10,  9, 11,  8, 21,  3, 32,\n",
      "       14, 28, 13, 22, 30, 23, 20, 24, 28, 21, 10, 21,  9, 12,  5, 12,  7,\n",
      "       16], dtype=int64))\n"
     ]
    }
   ],
   "source": [
    "print('dtype : ' ,train_target.dtype)\n",
    "print('type : ', type(train_target))\n",
    "print('shape : ', train_target.shape)\n",
    "print('unique : ', np.unique(train_target, return_counts=True))"
   ]
  },
  {
   "cell_type": "markdown",
   "id": "f3b7a5a9",
   "metadata": {},
   "source": [
    "# -------------------------------------------------------------------------------------------------------"
   ]
  },
  {
   "cell_type": "markdown",
   "id": "4bf96578",
   "metadata": {},
   "source": [
    "# 1개 짜리 데이터 삭제\n",
    "## 삭제 대상"
   ]
  },
  {
   "cell_type": "code",
   "execution_count": null,
   "id": "9f5ce83a",
   "metadata": {
    "ExecuteTime": {
     "end_time": "2022-09-16T07:39:25.605314Z",
     "start_time": "2022-09-16T07:39:25.591316Z"
    }
   },
   "outputs": [],
   "source": [
    "deleteTarget = []\n",
    "\n",
    "targetNumber = (np.unique(train_target, return_counts=True))[0]\n",
    "countes = (np.unique(train_target, return_counts=True))[1]\n",
    "\n",
    "for i in range(0, len(countes)):\n",
    "    if countes[i] == 1:\n",
    "        deleteTarget.append(targetNumber[i])\n",
    "\n",
    "print(deleteTarget)"
   ]
  },
  {
   "cell_type": "markdown",
   "id": "7aa3eaa1",
   "metadata": {},
   "source": [
    "## 삭제"
   ]
  },
  {
   "cell_type": "code",
   "execution_count": null,
   "id": "5ad22bad",
   "metadata": {
    "ExecuteTime": {
     "end_time": "2022-09-16T07:39:33.698624Z",
     "start_time": "2022-09-16T07:39:33.680627Z"
    }
   },
   "outputs": [],
   "source": [
    "for i in range(0, len(countes)):\n",
    "    if countes[i] == 1:\n",
    "        if os.path.isfile('./grayImages256/' + targetNumber[i] + '(1).png'):\n",
    "            os.remove('./grayImages256/' + targetNumber[i] + '(1).png')"
   ]
  },
  {
   "cell_type": "code",
   "execution_count": 33,
   "id": "a792bb84",
   "metadata": {
    "ExecuteTime": {
     "end_time": "2022-09-20T08:17:32.533195Z",
     "start_time": "2022-09-20T08:17:32.519197Z"
    }
   },
   "outputs": [
    {
     "name": "stdout",
     "output_type": "stream",
     "text": [
      "2119\n"
     ]
    }
   ],
   "source": [
    "fileList = os.listdir('./grayImages256/')\n",
    "totalFileCount = 0\n",
    "for file in fileList:\n",
    "    totalFileCount += 1\n",
    "    \n",
    "print(totalFileCount)"
   ]
  },
  {
   "cell_type": "markdown",
   "id": "052cb214",
   "metadata": {},
   "source": [
    "# -------------------------------------------------------------------------------------------------------"
   ]
  },
  {
   "cell_type": "markdown",
   "id": "09e6ba79",
   "metadata": {},
   "source": [
    "# train input data"
   ]
  },
  {
   "cell_type": "code",
   "execution_count": 13,
   "id": "71e2f5f0",
   "metadata": {
    "ExecuteTime": {
     "end_time": "2022-09-20T08:06:34.712954Z",
     "start_time": "2022-09-20T08:06:34.697956Z"
    }
   },
   "outputs": [],
   "source": [
    "train_input = []"
   ]
  },
  {
   "cell_type": "code",
   "execution_count": 14,
   "id": "ab642d0a",
   "metadata": {
    "ExecuteTime": {
     "end_time": "2022-09-20T08:06:37.927332Z",
     "start_time": "2022-09-20T08:06:35.070134Z"
    }
   },
   "outputs": [],
   "source": [
    "filenames = os.listdir(\"./grayImages256/\")\n",
    "for filename in filenames:\n",
    "#     plt.imshow(np.array(Image.open('./trainData/' + filename)))\n",
    "    train_input.append( np.array(Image.open('./grayImages256/' + filename)) )"
   ]
  },
  {
   "cell_type": "code",
   "execution_count": 15,
   "id": "3cd452db",
   "metadata": {
    "ExecuteTime": {
     "end_time": "2022-09-20T08:06:37.990532Z",
     "start_time": "2022-09-20T08:06:37.928845Z"
    }
   },
   "outputs": [],
   "source": [
    "train_input = np.array(train_input)"
   ]
  },
  {
   "cell_type": "code",
   "execution_count": 16,
   "id": "ab36ffd3",
   "metadata": {
    "ExecuteTime": {
     "end_time": "2022-09-20T08:06:38.010536Z",
     "start_time": "2022-09-20T08:06:37.992535Z"
    },
    "scrolled": true
   },
   "outputs": [
    {
     "data": {
      "text/plain": [
       "array([[[ 58,  56,  59, ...,  68,  71,  70],\n",
       "        [ 58,  58,  59, ...,  70,  72,  73],\n",
       "        [ 57,  59,  60, ...,  71,  72,  73],\n",
       "        ...,\n",
       "        [199, 204, 206, ...,  86,  83,  84],\n",
       "        [150, 155, 166, ...,  86,  86,  83],\n",
       "        [215, 203, 188, ...,  86,  86,  87]],\n",
       "\n",
       "       [[ 58,  56,  59, ...,  68,  71,  70],\n",
       "        [ 58,  58,  59, ...,  70,  72,  73],\n",
       "        [ 57,  59,  60, ...,  71,  72,  73],\n",
       "        ...,\n",
       "        [199, 204, 206, ...,  86,  83,  84],\n",
       "        [150, 155, 166, ...,  86,  86,  83],\n",
       "        [215, 203, 188, ...,  86,  86,  87]],\n",
       "\n",
       "       [[ 54,  53,  53, ...,  68,  70,  72],\n",
       "        [ 54,  53,  52, ...,  71,  71,  72],\n",
       "        [ 54,  53,  53, ...,  72,  72,  73],\n",
       "        ...,\n",
       "        [ 99,  99, 100, ..., 120, 124, 126],\n",
       "        [ 97,  96,  97, ..., 118, 118, 118],\n",
       "        [109, 102, 101, ..., 114, 115, 111]],\n",
       "\n",
       "       ...,\n",
       "\n",
       "       [[ 90,  90,  92, ...,  93,  94,  97],\n",
       "        [ 85,  92,  77, ...,  94,  94,  97],\n",
       "        [ 60,  50,  40, ...,  95,  94,  97],\n",
       "        ...,\n",
       "        [ 79,  90, 103, ...,  41,  43,  44],\n",
       "        [ 43,  44,  47, ...,  40,  42,  44],\n",
       "        [ 46,  45,  45, ...,  41,  42,  44]],\n",
       "\n",
       "       [[ 83,  78,  87, ...,  95,  94,  96],\n",
       "        [ 90,  86,  95, ...,  97,  94,  96],\n",
       "        [ 87,  92,  79, ..., 101,  96,  97],\n",
       "        ...,\n",
       "        [ 88,  60,  43, ...,  39,  39,  39],\n",
       "        [ 81,  66,  52, ...,  38,  39,  40],\n",
       "        [ 74,  62,  56, ...,  38,  39,  41]],\n",
       "\n",
       "       [[ 91,  88,  95, ...,  96,  93,  95],\n",
       "        [ 88,  89,  75, ...,  98,  93,  94],\n",
       "        [ 55,  45,  36, ..., 102,  96,  94],\n",
       "        ...,\n",
       "        [ 42,  42,  42, ...,  40,  43,  44],\n",
       "        [ 46,  43,  51, ...,  41,  42,  43],\n",
       "        [ 49,  49,  54, ...,  42,  42,  43]]], dtype=uint8)"
      ]
     },
     "execution_count": 16,
     "metadata": {},
     "output_type": "execute_result"
    }
   ],
   "source": [
    "train_input"
   ]
  },
  {
   "cell_type": "code",
   "execution_count": 17,
   "id": "40ecbccd",
   "metadata": {
    "ExecuteTime": {
     "end_time": "2022-09-20T08:06:38.022536Z",
     "start_time": "2022-09-20T08:06:38.014536Z"
    }
   },
   "outputs": [
    {
     "name": "stdout",
     "output_type": "stream",
     "text": [
      "(2119, 256, 256)\n"
     ]
    }
   ],
   "source": [
    "print(train_input.shape)"
   ]
  },
  {
   "cell_type": "markdown",
   "id": "a2d2add8",
   "metadata": {},
   "source": [
    "# -------------------------------------------------------------------------------------------------------"
   ]
  },
  {
   "cell_type": "markdown",
   "id": "1bcc0945",
   "metadata": {},
   "source": [
    "# Data Normalization"
   ]
  },
  {
   "cell_type": "markdown",
   "id": "57ddff09",
   "metadata": {},
   "source": [
    "# ********************************"
   ]
  },
  {
   "cell_type": "code",
   "execution_count": 18,
   "id": "2e5da0da",
   "metadata": {
    "ExecuteTime": {
     "end_time": "2022-09-20T08:06:40.640657Z",
     "start_time": "2022-09-20T08:06:40.318662Z"
    }
   },
   "outputs": [],
   "source": [
    "train_scaled = train_input.reshape(-1, 256, 256, 1) / 255.0"
   ]
  },
  {
   "cell_type": "code",
   "execution_count": 19,
   "id": "1c7f070e",
   "metadata": {
    "ExecuteTime": {
     "end_time": "2022-09-20T08:06:41.233828Z",
     "start_time": "2022-09-20T08:06:41.224829Z"
    }
   },
   "outputs": [
    {
     "name": "stdout",
     "output_type": "stream",
     "text": [
      "(2119, 256, 256, 1)\n"
     ]
    }
   ],
   "source": [
    "print(train_scaled.shape)"
   ]
  },
  {
   "cell_type": "markdown",
   "id": "cce736df",
   "metadata": {},
   "source": [
    "# CV"
   ]
  },
  {
   "cell_type": "markdown",
   "id": "3d34f535",
   "metadata": {
    "ExecuteTime": {
     "end_time": "2022-09-15T03:06:38.617324Z",
     "start_time": "2022-09-15T03:06:27.713683Z"
    }
   },
   "source": [
    "from sklearn.model_selection import cross_validate\n",
    "from sklearn.linear_model import SGDClassifier # 확률적 경사 하강법\n",
    "sc = SGDClassifier(loss='log', max_iter=5, random_state=42)\n",
    "scores = cross_validate(sc, train_scaled, train_target, n_jobs=-1)\n",
    "print('성능 : {:.2f}%'.format(np.mean(scores['test_score']*100)))"
   ]
  },
  {
   "cell_type": "markdown",
   "id": "a6ea2eac",
   "metadata": {},
   "source": [
    "# Data Split"
   ]
  },
  {
   "cell_type": "code",
   "execution_count": 20,
   "id": "3aa92711",
   "metadata": {
    "ExecuteTime": {
     "end_time": "2022-09-20T08:06:43.590749Z",
     "start_time": "2022-09-20T08:06:43.289748Z"
    }
   },
   "outputs": [],
   "source": [
    "train_scaled, val_scaled, train_target, val_target = train_test_split(train_scaled, train_target, test_size=0.2, random_state=42)"
   ]
  },
  {
   "cell_type": "code",
   "execution_count": 21,
   "id": "2b71701f",
   "metadata": {
    "ExecuteTime": {
     "end_time": "2022-09-20T08:06:43.606748Z",
     "start_time": "2022-09-20T08:06:43.593751Z"
    }
   },
   "outputs": [
    {
     "name": "stdout",
     "output_type": "stream",
     "text": [
      "(1695, 256, 256, 1) (1695,)\n",
      "(424, 256, 256, 1) (424,)\n"
     ]
    }
   ],
   "source": [
    "print(train_scaled.shape, train_target.shape)\n",
    "print(val_scaled.shape, val_target.shape)"
   ]
  },
  {
   "cell_type": "markdown",
   "id": "53fe1209",
   "metadata": {},
   "source": [
    "# -------------------------------------------------------------------------------------------------------"
   ]
  },
  {
   "cell_type": "markdown",
   "id": "2d890015",
   "metadata": {},
   "source": [
    "# Learn"
   ]
  },
  {
   "cell_type": "markdown",
   "id": "dc2d9cbf",
   "metadata": {
    "ExecuteTime": {
     "end_time": "2022-09-15T03:06:38.697323Z",
     "start_time": "2022-09-15T03:06:38.683327Z"
    }
   },
   "source": [
    "import tensorflow as tf\n",
    "from tensorflow import keras"
   ]
  },
  {
   "cell_type": "markdown",
   "id": "95231cd8",
   "metadata": {
    "ExecuteTime": {
     "end_time": "2022-09-15T03:06:38.887356Z",
     "start_time": "2022-09-15T03:06:38.698323Z"
    }
   },
   "source": [
    "dense = keras.layers.Dense(units=1, activation='softmax', input_shape=(784,))"
   ]
  },
  {
   "cell_type": "markdown",
   "id": "7bfc63e6",
   "metadata": {
    "ExecuteTime": {
     "end_time": "2022-09-15T03:06:38.966359Z",
     "start_time": "2022-09-15T03:06:38.888361Z"
    }
   },
   "source": [
    "model = keras.Sequential(dense)"
   ]
  },
  {
   "cell_type": "markdown",
   "id": "eb975168",
   "metadata": {
    "ExecuteTime": {
     "end_time": "2022-09-15T03:06:38.982360Z",
     "start_time": "2022-09-15T03:06:38.967360Z"
    }
   },
   "source": [
    "model.compile(loss='categoraical_crossentropy', metrics='accuracy')"
   ]
  },
  {
   "cell_type": "markdown",
   "id": "3722c1c2",
   "metadata": {
    "ExecuteTime": {
     "end_time": "2022-09-15T03:06:38.998362Z",
     "start_time": "2022-09-15T03:06:38.983361Z"
    }
   },
   "source": [
    "print(train_scaled.shape)\n",
    "print(train_target.shape)"
   ]
  },
  {
   "cell_type": "markdown",
   "id": "b4e62fe4",
   "metadata": {
    "ExecuteTime": {
     "end_time": "2022-09-15T03:06:39.890336Z",
     "start_time": "2022-09-15T03:06:38.999363Z"
    },
    "scrolled": true
   },
   "source": [
    "model.fit(train_scaled, train_target, epochs=10)"
   ]
  },
  {
   "cell_type": "markdown",
   "id": "adc85655",
   "metadata": {},
   "source": [
    "# Performance"
   ]
  },
  {
   "cell_type": "markdown",
   "id": "8f6d8f6e",
   "metadata": {
    "ExecuteTime": {
     "end_time": "2022-09-15T03:06:39.892337Z",
     "start_time": "2022-09-15T03:06:39.892337Z"
    }
   },
   "source": [
    "model.evaluate(val_scaled, val_target)"
   ]
  },
  {
   "cell_type": "markdown",
   "id": "604df35d",
   "metadata": {},
   "source": [
    "# CNN"
   ]
  },
  {
   "cell_type": "code",
   "execution_count": 22,
   "id": "9799cf44",
   "metadata": {
    "ExecuteTime": {
     "end_time": "2022-09-20T08:06:45.649109Z",
     "start_time": "2022-09-20T08:06:45.631110Z"
    }
   },
   "outputs": [],
   "source": [
    "from tensorflow import keras"
   ]
  },
  {
   "cell_type": "code",
   "execution_count": 41,
   "id": "8e4675e3",
   "metadata": {
    "ExecuteTime": {
     "end_time": "2022-09-20T08:21:18.689221Z",
     "start_time": "2022-09-20T08:21:18.676223Z"
    }
   },
   "outputs": [],
   "source": [
    "model_CNN = keras.Sequential()"
   ]
  },
  {
   "cell_type": "markdown",
   "id": "bb55b2c4",
   "metadata": {},
   "source": [
    "# ************ breakpoint ************"
   ]
  },
  {
   "cell_type": "code",
   "execution_count": 42,
   "id": "419999d7",
   "metadata": {
    "ExecuteTime": {
     "end_time": "2022-09-20T08:21:19.292838Z",
     "start_time": "2022-09-20T08:21:19.273876Z"
    }
   },
   "outputs": [],
   "source": [
    "model_CNN.add(keras.layers.Conv2D(32, kernel_size=3, activation='relu', padding='same', input_shape=(256, 256, 1)))"
   ]
  },
  {
   "cell_type": "code",
   "execution_count": 43,
   "id": "df82af22",
   "metadata": {
    "ExecuteTime": {
     "end_time": "2022-09-20T08:21:19.467872Z",
     "start_time": "2022-09-20T08:21:19.456874Z"
    }
   },
   "outputs": [],
   "source": [
    "model_CNN.add(keras.layers.MaxPooling2D(2))"
   ]
  },
  {
   "cell_type": "code",
   "execution_count": 44,
   "id": "df10eeb3",
   "metadata": {
    "ExecuteTime": {
     "end_time": "2022-09-20T08:21:19.690877Z",
     "start_time": "2022-09-20T08:21:19.662873Z"
    }
   },
   "outputs": [],
   "source": [
    "model_CNN.add(keras.layers.Conv2D(64, kernel_size=3, activation='relu', padding='same'))"
   ]
  },
  {
   "cell_type": "code",
   "execution_count": 45,
   "id": "75e40c3a",
   "metadata": {
    "ExecuteTime": {
     "end_time": "2022-09-20T08:21:19.864970Z",
     "start_time": "2022-09-20T08:21:19.849970Z"
    }
   },
   "outputs": [],
   "source": [
    "model_CNN.add(keras.layers.MaxPooling2D(2))"
   ]
  },
  {
   "cell_type": "code",
   "execution_count": 46,
   "id": "54cc678c",
   "metadata": {
    "ExecuteTime": {
     "end_time": "2022-09-20T08:21:20.308969Z",
     "start_time": "2022-09-20T08:21:20.033968Z"
    }
   },
   "outputs": [],
   "source": [
    "model_CNN.add(keras.layers.Flatten())\n",
    "model_CNN.add(keras.layers.Dense(100, activation='relu'))\n",
    "model_CNN.add(keras.layers.Dropout(0.4))\n",
    "model_CNN.add(keras.layers.Dense(258, activation='softmax'))"
   ]
  },
  {
   "cell_type": "markdown",
   "id": "357ba6a4",
   "metadata": {},
   "source": [
    "# ************ breakpoint ************"
   ]
  },
  {
   "cell_type": "code",
   "execution_count": 47,
   "id": "5525ae63",
   "metadata": {
    "ExecuteTime": {
     "end_time": "2022-09-20T08:21:21.116620Z",
     "start_time": "2022-09-20T08:21:21.094621Z"
    }
   },
   "outputs": [
    {
     "name": "stdout",
     "output_type": "stream",
     "text": [
      "Model: \"sequential_1\"\n",
      "_________________________________________________________________\n",
      " Layer (type)                Output Shape              Param #   \n",
      "=================================================================\n",
      " conv2d_2 (Conv2D)           (None, 256, 256, 32)      320       \n",
      "                                                                 \n",
      " max_pooling2d_2 (MaxPooling  (None, 128, 128, 32)     0         \n",
      " 2D)                                                             \n",
      "                                                                 \n",
      " conv2d_3 (Conv2D)           (None, 128, 128, 64)      18496     \n",
      "                                                                 \n",
      " max_pooling2d_3 (MaxPooling  (None, 64, 64, 64)       0         \n",
      " 2D)                                                             \n",
      "                                                                 \n",
      " flatten_1 (Flatten)         (None, 262144)            0         \n",
      "                                                                 \n",
      " dense_2 (Dense)             (None, 100)               26214500  \n",
      "                                                                 \n",
      " dropout_1 (Dropout)         (None, 100)               0         \n",
      "                                                                 \n",
      " dense_3 (Dense)             (None, 258)               26058     \n",
      "                                                                 \n",
      "=================================================================\n",
      "Total params: 26,259,374\n",
      "Trainable params: 26,259,374\n",
      "Non-trainable params: 0\n",
      "_________________________________________________________________\n"
     ]
    }
   ],
   "source": [
    "model_CNN.summary()"
   ]
  },
  {
   "cell_type": "code",
   "execution_count": 51,
   "id": "f94a8b60",
   "metadata": {
    "ExecuteTime": {
     "end_time": "2022-09-20T08:31:55.375997Z",
     "start_time": "2022-09-20T08:23:46.256580Z"
    },
    "scrolled": false
   },
   "outputs": [
    {
     "name": "stdout",
     "output_type": "stream",
     "text": [
      "Epoch 1/20\n",
      "53/53 [==============================] - 65s 1s/step - loss: 5.1953 - accuracy: 0.0171 - val_loss: 5.0300 - val_accuracy: 0.0189\n",
      "Epoch 2/20\n",
      "53/53 [==============================] - 59s 1s/step - loss: 4.7490 - accuracy: 0.0490 - val_loss: 4.7132 - val_accuracy: 0.1108\n",
      "Epoch 3/20\n",
      "53/53 [==============================] - 64s 1s/step - loss: 4.1068 - accuracy: 0.1221 - val_loss: 4.3998 - val_accuracy: 0.1675\n",
      "Epoch 4/20\n",
      "53/53 [==============================] - 61s 1s/step - loss: 3.4814 - accuracy: 0.1994 - val_loss: 4.2034 - val_accuracy: 0.2170\n",
      "Epoch 5/20\n",
      "53/53 [==============================] - 60s 1s/step - loss: 2.8218 - accuracy: 0.2926 - val_loss: 4.1209 - val_accuracy: 0.2524\n",
      "Epoch 6/20\n",
      "53/53 [==============================] - 61s 1s/step - loss: 2.3689 - accuracy: 0.3994 - val_loss: 4.0176 - val_accuracy: 0.2642\n",
      "Epoch 7/20\n",
      "53/53 [==============================] - 60s 1s/step - loss: 2.1245 - accuracy: 0.4319 - val_loss: 4.5132 - val_accuracy: 0.2476\n",
      "Epoch 8/20\n",
      "53/53 [==============================] - 60s 1s/step - loss: 1.9273 - accuracy: 0.4749 - val_loss: 4.1661 - val_accuracy: 0.2689\n"
     ]
    }
   ],
   "source": [
    "model_CNN.compile(optimizer='adam', loss='sparse_categorical_crossentropy', metrics='accuracy')\n",
    "checkpoint_cb = keras.callbacks.ModelCheckpoint('best-cnn-model.h5')\n",
    "early_stopping_cb = keras.callbacks.EarlyStopping(patience=2, restore_best_weights=True)\n",
    "history = model_CNN.fit(train_scaled, train_target, epochs=20, validation_data=(val_scaled, val_target), callbacks=[checkpoint_cb, early_stopping_cb])"
   ]
  },
  {
   "cell_type": "code",
   "execution_count": 52,
   "id": "69cbe907",
   "metadata": {
    "ExecuteTime": {
     "end_time": "2022-09-20T08:42:01.718650Z",
     "start_time": "2022-09-20T08:42:01.583282Z"
    }
   },
   "outputs": [
    {
     "data": {
      "image/png": "[encoded data removed]",
      "text/plain": [
       "<Figure size 432x288 with 1 Axes>"
      ]
     },
     "metadata": {
      "needs_background": "light"
     },
     "output_type": "display_data"
    }
   ],
   "source": [
    "import matplotlib.pyplot as plt\n",
    "plt.plot(history.history['loss'])\n",
    "plt.plot(history.history['val_loss'])\n",
    "plt.xlabel('epoch')\n",
    "plt.ylabel('loss')\n",
    "plt.legend(['train', 'val'])\n",
    "plt.show()"
   ]
  },
  {
   "cell_type": "code",
   "execution_count": 55,
   "id": "932e20d6",
   "metadata": {
    "ExecuteTime": {
     "end_time": "2022-09-20T08:43:12.152275Z",
     "start_time": "2022-09-20T08:43:08.618313Z"
    }
   },
   "outputs": [
    {
     "name": "stdout",
     "output_type": "stream",
     "text": [
      "14/14 [==============================] - 3s 245ms/step - loss: 4.0176 - accuracy: 0.2642\n"
     ]
    },
    {
     "data": {
      "text/plain": [
       "[4.017634391784668, 0.2641509473323822]"
      ]
     },
     "execution_count": 55,
     "metadata": {},
     "output_type": "execute_result"
    }
   ],
   "source": [
    "model_CNN.evaluate(val_scaled, val_target)"
   ]
  }
 ],
 "metadata": {
  "kernelspec": {
   "display_name": "Python 3 (ipykernel)",
   "language": "python",
   "name": "python3"
  },
  "language_info": {
   "codemirror_mode": {
    "name": "ipython",
    "version": 3
   },
   "file_extension": ".py",
   "mimetype": "text/x-python",
   "name": "python",
   "nbconvert_exporter": "python",
   "pygments_lexer": "ipython3",
   "version": "3.9.12"
  },
  "toc": {
   "base_numbering": 1,
   "nav_menu": {},
   "number_sections": false,
   "sideBar": true,
   "skip_h1_title": false,
   "title_cell": "Table of Contents",
   "title_sidebar": "Contents",
   "toc_cell": false,
   "toc_position": {},
   "toc_section_display": true,
   "toc_window_display": false
  }
 },
 "nbformat": 4,
 "nbformat_minor": 5
}
