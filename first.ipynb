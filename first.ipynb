{
 "cells": [
  {
   "cell_type": "code",
   "execution_count": 1,
   "id": "516982aa",
   "metadata": {
    "ExecuteTime": {
     "end_time": "2022-10-01T12:19:58.505052Z",
     "start_time": "2022-10-01T12:19:50.856371Z"
    }
   },
   "outputs": [],
   "source": [
    "import cv2\n",
    "import os\n",
    "import warnings\n",
    "warnings.filterwarnings('ignore')\n",
    "import numpy as np\n",
    "import pandas as pd\n",
    "from keras_preprocessing.image import ImageDataGenerator, load_img\n",
    "from keras.utils import to_categorical\n",
    "from sklearn.model_selection import train_test_split\n",
    "import matplotlib.pyplot as plt\n",
    "import random\n",
    "from PIL import Image"
   ]
  },
  {
   "cell_type": "markdown",
   "id": "1e362b2c",
   "metadata": {},
   "source": [
    "# File Name Cutting & Size Unification"
   ]
  },
  {
   "cell_type": "markdown",
   "id": "0823e2c6",
   "metadata": {
    "ExecuteTime": {
     "end_time": "2022-09-27T05:38:50.343056Z",
     "start_time": "2022-09-27T05:29:17.526465Z"
    }
   },
   "source": [
    "fileList = os.listdir('./realData/')\n",
    "count = 1\n",
    "for file in fileList:\n",
    "    fileNumber = file.split('-')[1]\n",
    "    img = Image.open('./realData/' + file)\n",
    "    img_resize = img.resize((600, 600))\n",
    "    if(file.split('-')[2] == '001.jpg') or (file.split('-')[2] == '01.jpg'):\n",
    "        count = 1\n",
    "    img_resize.save('./ImageSizeUnificated600/resized.' + fileNumber + '(' + str(count) + ').png')\n",
    "    count += 1"
   ]
  },
  {
   "cell_type": "markdown",
   "id": "f2dcb779",
   "metadata": {},
   "source": [
    "# -------------------------------------------------------------------------------------------------------"
   ]
  },
  {
   "cell_type": "markdown",
   "id": "18a7a796",
   "metadata": {},
   "source": [
    "# Image Gray Scaler"
   ]
  },
  {
   "cell_type": "markdown",
   "id": "b7aa3ff5",
   "metadata": {
    "ExecuteTime": {
     "end_time": "2022-10-01T12:20:51.528839Z",
     "start_time": "2022-10-01T12:20:15.832426Z"
    },
    "code_folding": []
   },
   "source": [
    "fileList = os.listdir('./ImageSizeUnificated600/')\n",
    "for file in fileList:\n",
    "    fileNumber = file.split('.')[1]\n",
    "    imageName = './ImageSizeUnificated600/resized.' + fileNumber + '.png'\n",
    "    image = cv2.imread(imageName, cv2.IMREAD_COLOR)\n",
    "    if image is None:\n",
    "        print('Could not open or find the Image')\n",
    "    grayImage = cv2.cvtColor(image, cv2.COLOR_BGR2GRAY)\n",
    "    cv2.imwrite(\"./grayImages600/\" + fileNumber + '.png', grayImage)"
   ]
  },
  {
   "cell_type": "markdown",
   "id": "88ce4494",
   "metadata": {},
   "source": [
    "# -------------------------------------------------------------------------------------------------------"
   ]
  },
  {
   "cell_type": "markdown",
   "id": "0287c0e6",
   "metadata": {},
   "source": [
    "# Image Rotate Unification"
   ]
  },
  {
   "cell_type": "markdown",
   "id": "040c79fd",
   "metadata": {
    "ExecuteTime": {
     "end_time": "2022-09-27T01:05:51.510146Z",
     "start_time": "2022-09-27T01:03:47.034615Z"
    }
   },
   "source": [
    "filenames = os.listdir(\"./grayImages1024/\")\n",
    "\n",
    "for filename in filenames:\n",
    "    fileNumber = filename.split('.')[0]\n",
    "    willStoreFileFullName = \"./grayImages1024RotateUnification/\" + fileNumber + \".png\"\n",
    "    \n",
    "    img = cv2.imread(\"./grayImages1024/\"+filename)\n",
    "    h, w, c = img.shape\n",
    "    if h == 1024:\n",
    "        imageRotated = cv2.rotate(img, cv2.ROTATE_90_CLOCKWISE)\n",
    "        cv2.imwrite(willStoreFileFullName, imageRotated)\n",
    "    else:\n",
    "        cv2.imwrite(willStoreFileFullName, img)"
   ]
  },
  {
   "cell_type": "markdown",
   "id": "5d0198e6",
   "metadata": {},
   "source": [
    "# Check"
   ]
  },
  {
   "cell_type": "markdown",
   "id": "e9323428",
   "metadata": {
    "ExecuteTime": {
     "end_time": "2022-09-27T01:12:40.570732Z",
     "start_time": "2022-09-27T01:12:02.306843Z"
    }
   },
   "source": [
    "filenames = os.listdir(\"./grayImages1024RotateUnification/\")\n",
    "\n",
    "for filename in filenames:\n",
    "    img = cv2.imread(\"./grayImages1024RotateUnification/\" + filename)\n",
    "    h, w, c = img.shape\n",
    "    if h != 768:\n",
    "        print(\"!!\")"
   ]
  },
  {
   "cell_type": "markdown",
   "id": "5bda0163",
   "metadata": {},
   "source": [
    "# -------------------------------------------------------------------------------------------------------"
   ]
  },
  {
   "cell_type": "code",
   "execution_count": 99,
   "id": "393747b6",
   "metadata": {
    "ExecuteTime": {
     "end_time": "2022-10-01T12:29:23.128068Z",
     "start_time": "2022-10-01T12:29:23.118069Z"
    }
   },
   "outputs": [],
   "source": [
    "filenames = os.listdir(\"./grayImages600/\")\n",
    "categories = []\n",
    "for filename in filenames:\n",
    "    category = filename.split('.')[0][:4]\n",
    "    categories.append(category)\n",
    "    \n",
    "df = pd.DataFrame({\n",
    "    'filename' : filenames,\n",
    "    'category' : categories\n",
    "})"
   ]
  },
  {
   "cell_type": "markdown",
   "id": "c6b52174",
   "metadata": {},
   "source": [
    "# -------------------------------------------------------------------------------------------"
   ]
  },
  {
   "cell_type": "code",
   "execution_count": 100,
   "id": "f96efa82",
   "metadata": {
    "ExecuteTime": {
     "end_time": "2022-10-01T12:29:23.914166Z",
     "start_time": "2022-10-01T12:29:23.893699Z"
    },
    "scrolled": false
   },
   "outputs": [
    {
     "data": {
      "text/html": [
       "<div>\n",
       "<style scoped>\n",
       "    .dataframe tbody tr th:only-of-type {\n",
       "        vertical-align: middle;\n",
       "    }\n",
       "\n",
       "    .dataframe tbody tr th {\n",
       "        vertical-align: top;\n",
       "    }\n",
       "\n",
       "    .dataframe thead th {\n",
       "        text-align: right;\n",
       "    }\n",
       "</style>\n",
       "<table border=\"1\" class=\"dataframe\">\n",
       "  <thead>\n",
       "    <tr style=\"text-align: right;\">\n",
       "      <th></th>\n",
       "      <th>filename</th>\n",
       "      <th>category</th>\n",
       "    </tr>\n",
       "  </thead>\n",
       "  <tbody>\n",
       "    <tr>\n",
       "      <th>0</th>\n",
       "      <td>3001(1).png</td>\n",
       "      <td>3001</td>\n",
       "    </tr>\n",
       "    <tr>\n",
       "      <th>1</th>\n",
       "      <td>3001(2).png</td>\n",
       "      <td>3001</td>\n",
       "    </tr>\n",
       "    <tr>\n",
       "      <th>2</th>\n",
       "      <td>3001(3).png</td>\n",
       "      <td>3001</td>\n",
       "    </tr>\n",
       "    <tr>\n",
       "      <th>3</th>\n",
       "      <td>3001(4).png</td>\n",
       "      <td>3001</td>\n",
       "    </tr>\n",
       "    <tr>\n",
       "      <th>4</th>\n",
       "      <td>3001(5).png</td>\n",
       "      <td>3001</td>\n",
       "    </tr>\n",
       "    <tr>\n",
       "      <th>...</th>\n",
       "      <td>...</td>\n",
       "      <td>...</td>\n",
       "    </tr>\n",
       "    <tr>\n",
       "      <th>2111</th>\n",
       "      <td>6022(2).png</td>\n",
       "      <td>6022</td>\n",
       "    </tr>\n",
       "    <tr>\n",
       "      <th>2110</th>\n",
       "      <td>6022(10).png</td>\n",
       "      <td>6022</td>\n",
       "    </tr>\n",
       "    <tr>\n",
       "      <th>2109</th>\n",
       "      <td>6022(1).png</td>\n",
       "      <td>6022</td>\n",
       "    </tr>\n",
       "    <tr>\n",
       "      <th>2112</th>\n",
       "      <td>6022(3).png</td>\n",
       "      <td>6022</td>\n",
       "    </tr>\n",
       "    <tr>\n",
       "      <th>2118</th>\n",
       "      <td>6022(9).png</td>\n",
       "      <td>6022</td>\n",
       "    </tr>\n",
       "  </tbody>\n",
       "</table>\n",
       "<p>2119 rows × 2 columns</p>\n",
       "</div>"
      ],
      "text/plain": [
       "          filename category\n",
       "0      3001(1).png     3001\n",
       "1      3001(2).png     3001\n",
       "2      3001(3).png     3001\n",
       "3      3001(4).png     3001\n",
       "4      3001(5).png     3001\n",
       "...            ...      ...\n",
       "2111   6022(2).png     6022\n",
       "2110  6022(10).png     6022\n",
       "2109   6022(1).png     6022\n",
       "2112   6022(3).png     6022\n",
       "2118   6022(9).png     6022\n",
       "\n",
       "[2119 rows x 2 columns]"
      ]
     },
     "execution_count": 100,
     "metadata": {},
     "output_type": "execute_result"
    }
   ],
   "source": [
    "df.sort_values(by='category', ascending=True)"
   ]
  },
  {
   "cell_type": "markdown",
   "id": "99c6cde5",
   "metadata": {
    "ExecuteTime": {
     "end_time": "2022-09-27T07:34:50.141692Z",
     "start_time": "2022-09-27T07:34:50.038415Z"
    }
   },
   "source": [
    "df.to_csv('./label.csv')"
   ]
  },
  {
   "cell_type": "markdown",
   "id": "83cc07cb",
   "metadata": {},
   "source": [
    "# -------------------------------------------------------------------------------------------------------"
   ]
  },
  {
   "cell_type": "markdown",
   "id": "afa6fb96",
   "metadata": {},
   "source": [
    "# Label Count"
   ]
  },
  {
   "cell_type": "code",
   "execution_count": 101,
   "id": "4030129b",
   "metadata": {
    "ExecuteTime": {
     "end_time": "2022-10-01T12:29:24.933552Z",
     "start_time": "2022-10-01T12:29:24.916197Z"
    }
   },
   "outputs": [
    {
     "data": {
      "text/plain": [
       "258"
      ]
     },
     "execution_count": 101,
     "metadata": {},
     "output_type": "execute_result"
    }
   ],
   "source": [
    "len(df['category'].unique())"
   ]
  },
  {
   "cell_type": "markdown",
   "id": "fb826a2f",
   "metadata": {},
   "source": [
    "# -------------------------------------------------------------------------------------------------------"
   ]
  },
  {
   "cell_type": "code",
   "execution_count": 102,
   "id": "beee1c5a",
   "metadata": {
    "ExecuteTime": {
     "end_time": "2022-10-01T12:29:25.371488Z",
     "start_time": "2022-10-01T12:29:25.242264Z"
    }
   },
   "outputs": [
    {
     "name": "stdout",
     "output_type": "stream",
     "text": [
      "3041(2).png\n"
     ]
    },
    {
     "data": {
      "text/plain": [
       "<matplotlib.image.AxesImage at 0x16e1bfc76a0>"
      ]
     },
     "execution_count": 102,
     "metadata": {},
     "output_type": "execute_result"
    },
    {
     "data": {
      "image/png": "[encoded data removed]",
      "text/plain": [
       "<Figure size 432x288 with 1 Axes>"
      ]
     },
     "metadata": {
      "needs_background": "light"
     },
     "output_type": "display_data"
    }
   ],
   "source": [
    "sample = random.choice(filenames)\n",
    "print(sample)\n",
    "image = load_img(\"./grayImages600/\"+sample)\n",
    "plt.imshow(image)"
   ]
  },
  {
   "cell_type": "markdown",
   "id": "e7505bde",
   "metadata": {},
   "source": [
    "# -------------------------------------------------------------------------------------------------------"
   ]
  },
  {
   "cell_type": "markdown",
   "id": "3c4379e2",
   "metadata": {},
   "source": [
    "# Data Labeling\n",
    "## -------------------------------------------------------\n",
    "## train target data / size : 28x28"
   ]
  },
  {
   "cell_type": "code",
   "execution_count": 103,
   "id": "b505c8fa",
   "metadata": {
    "ExecuteTime": {
     "end_time": "2022-10-01T12:29:26.236739Z",
     "start_time": "2022-10-01T12:29:26.232739Z"
    }
   },
   "outputs": [],
   "source": [
    "train_target = np.array(df['category'])"
   ]
  },
  {
   "cell_type": "code",
   "execution_count": 104,
   "id": "84c235c9",
   "metadata": {
    "ExecuteTime": {
     "end_time": "2022-10-01T12:29:26.418875Z",
     "start_time": "2022-10-01T12:29:26.411876Z"
    },
    "scrolled": true
   },
   "outputs": [
    {
     "data": {
      "text/plain": [
       "array(['3001', '3001', '3001', ..., '6022', '6022', '6022'], dtype=object)"
      ]
     },
     "execution_count": 104,
     "metadata": {},
     "output_type": "execute_result"
    }
   ],
   "source": [
    "train_target"
   ]
  },
  {
   "cell_type": "code",
   "execution_count": 105,
   "id": "419e3eaf",
   "metadata": {
    "ExecuteTime": {
     "end_time": "2022-10-01T12:29:26.585216Z",
     "start_time": "2022-10-01T12:29:26.581216Z"
    }
   },
   "outputs": [],
   "source": [
    "train_target = train_target.astype('uint8')"
   ]
  },
  {
   "cell_type": "code",
   "execution_count": 106,
   "id": "bf28ade5",
   "metadata": {
    "ExecuteTime": {
     "end_time": "2022-10-01T12:29:26.888884Z",
     "start_time": "2022-10-01T12:29:26.873554Z"
    }
   },
   "outputs": [
    {
     "data": {
      "text/plain": [
       "array([185, 185, 185, ..., 134, 134, 134], dtype=uint8)"
      ]
     },
     "execution_count": 106,
     "metadata": {},
     "output_type": "execute_result"
    }
   ],
   "source": [
    "train_target"
   ]
  },
  {
   "cell_type": "code",
   "execution_count": 107,
   "id": "be5d7c4c",
   "metadata": {
    "ExecuteTime": {
     "end_time": "2022-10-01T12:29:27.130428Z",
     "start_time": "2022-10-01T12:29:27.121941Z"
    },
    "scrolled": true
   },
   "outputs": [
    {
     "name": "stdout",
     "output_type": "stream",
     "text": [
      "dtype :  uint8\n",
      "type :  <class 'numpy.ndarray'>\n",
      "shape :  (2119,)\n",
      "unique :  (array([  0,   1,   2,   3,   4,   5,   6,   7,   8,   9,  10,  11, 112,\n",
      "       113, 114, 115, 116, 117, 118, 119, 120, 121, 122, 123, 124, 125,\n",
      "       126, 127, 128, 129, 130, 131, 132, 134, 136, 137, 138, 139, 140,\n",
      "       141, 142, 143, 144, 145, 146, 147, 148, 149, 150, 151, 152, 153,\n",
      "       154, 155, 156, 157, 158, 159, 160, 161, 162, 163, 164, 165, 166,\n",
      "       167, 168, 169, 170, 171, 172, 173, 174, 175, 176, 177, 178, 179,\n",
      "       180, 181, 182, 183, 184, 185, 186, 187, 188, 189, 190, 191, 192,\n",
      "       193, 194, 195, 196, 197, 198, 199, 200, 201, 202, 203, 204, 205,\n",
      "       206, 207, 208, 209, 210, 211, 212, 213, 214, 215, 216, 217, 218,\n",
      "       219, 220, 221, 222, 223, 224, 225, 226, 227, 228, 229, 230, 231,\n",
      "       232, 233, 234, 235, 236, 237, 238, 239, 240, 241, 242, 243, 244,\n",
      "       245, 246, 247, 248, 249, 250, 251, 252, 253, 254, 255], dtype=uint8), array([ 9, 35, 10, 24,  6, 15,  4, 17, 18, 15,  3, 13,  6,  5, 10, 17, 25,\n",
      "       23, 17, 10,  4,  8,  7, 16,  3, 18, 16, 31, 16,  8, 20,  3,  6, 10,\n",
      "        9,  5,  6,  4,  7,  9, 12,  7,  5,  9, 13,  5,  7, 10,  8,  9, 12,\n",
      "        8, 15,  8, 12,  8, 14, 11, 15, 14, 23,  6, 11,  7, 23, 13, 16, 14,\n",
      "       20,  8, 23, 12, 15, 18, 15, 14, 16, 14, 22, 13, 13,  2, 11, 19, 27,\n",
      "       18, 26, 13, 28, 13, 24, 17, 19, 15, 18, 13, 25, 16, 29, 12, 10, 15,\n",
      "       10, 22, 12, 18,  5, 11,  2, 14,  7, 11, 10, 19, 16, 25, 11, 15,  8,\n",
      "       10,  8, 20,  7, 16, 10, 14,  7, 18,  8, 10,  9, 11,  8, 21,  3, 32,\n",
      "       14, 28, 13, 22, 30, 23, 20, 24, 28, 21, 10, 21,  9, 12,  5, 12,  7,\n",
      "       16], dtype=int64))\n"
     ]
    }
   ],
   "source": [
    "print('dtype : ' ,train_target.dtype)\n",
    "print('type : ', type(train_target))\n",
    "print('shape : ', train_target.shape)\n",
    "print('unique : ', np.unique(train_target, return_counts=True))"
   ]
  },
  {
   "cell_type": "markdown",
   "id": "f3b7a5a9",
   "metadata": {},
   "source": [
    "# -------------------------------------------------------------------------------------------------------"
   ]
  },
  {
   "cell_type": "markdown",
   "id": "4bf96578",
   "metadata": {},
   "source": [
    "# 1개 짜리 데이터 삭제\n",
    "## 삭제 대상"
   ]
  },
  {
   "cell_type": "markdown",
   "id": "4b430652",
   "metadata": {
    "ExecuteTime": {
     "end_time": "2022-10-01T12:28:36.937965Z",
     "start_time": "2022-10-01T12:28:36.927963Z"
    }
   },
   "source": [
    "deleteTarget = []\n",
    "\n",
    "targetNumber = (np.unique(train_target, return_counts=True))[0]\n",
    "countes = (np.unique(train_target, return_counts=True))[1]\n",
    "\n",
    "for i in range(0, len(countes)):\n",
    "    if countes[i] == 1:\n",
    "        deleteTarget.append(targetNumber[i])\n",
    "\n",
    "print(deleteTarget)"
   ]
  },
  {
   "cell_type": "markdown",
   "id": "7aa3eaa1",
   "metadata": {},
   "source": [
    "## 삭제"
   ]
  },
  {
   "cell_type": "markdown",
   "id": "88203b56",
   "metadata": {
    "ExecuteTime": {
     "end_time": "2022-10-01T12:28:38.466021Z",
     "start_time": "2022-10-01T12:28:38.444746Z"
    }
   },
   "source": [
    "for i in range(0, len(countes)):\n",
    "    if countes[i] == 1:\n",
    "        if os.path.isfile('./grayImages600/' + targetNumber[i] + '(1).png'):\n",
    "            os.remove('./grayImages600/' + targetNumber[i] + '(1).png')"
   ]
  },
  {
   "cell_type": "markdown",
   "id": "31864d60",
   "metadata": {
    "ExecuteTime": {
     "end_time": "2022-10-01T12:28:38.890561Z",
     "start_time": "2022-10-01T12:28:38.873565Z"
    }
   },
   "source": [
    "fileList = os.listdir('./grayImages600/')\n",
    "totalFileCount = 0\n",
    "for file in fileList:\n",
    "    totalFileCount += 1\n",
    "    \n",
    "print(totalFileCount)"
   ]
  },
  {
   "cell_type": "markdown",
   "id": "052cb214",
   "metadata": {},
   "source": [
    "# -------------------------------------------------------------------------------------------------------"
   ]
  },
  {
   "cell_type": "markdown",
   "id": "09e6ba79",
   "metadata": {},
   "source": [
    "# train input data"
   ]
  },
  {
   "cell_type": "code",
   "execution_count": 108,
   "id": "71e2f5f0",
   "metadata": {
    "ExecuteTime": {
     "end_time": "2022-10-01T12:29:30.038759Z",
     "start_time": "2022-10-01T12:29:30.024849Z"
    }
   },
   "outputs": [],
   "source": [
    "train_input = []"
   ]
  },
  {
   "cell_type": "code",
   "execution_count": 109,
   "id": "ab642d0a",
   "metadata": {
    "ExecuteTime": {
     "end_time": "2022-10-01T12:29:36.805513Z",
     "start_time": "2022-10-01T12:29:30.270233Z"
    }
   },
   "outputs": [],
   "source": [
    "filenames = os.listdir(\"./grayImages600/\")\n",
    "for filename in filenames:\n",
    "    train_input.append( np.array(Image.open('./grayImages600/' + filename)) )"
   ]
  },
  {
   "cell_type": "code",
   "execution_count": 110,
   "id": "3cd452db",
   "metadata": {
    "ExecuteTime": {
     "end_time": "2022-10-01T12:29:37.258252Z",
     "start_time": "2022-10-01T12:29:37.048509Z"
    }
   },
   "outputs": [],
   "source": [
    "train_input = np.array(train_input)"
   ]
  },
  {
   "cell_type": "code",
   "execution_count": 111,
   "id": "ab36ffd3",
   "metadata": {
    "ExecuteTime": {
     "end_time": "2022-10-01T12:29:37.288250Z",
     "start_time": "2022-10-01T12:29:37.274251Z"
    },
    "scrolled": true
   },
   "outputs": [
    {
     "data": {
      "text/plain": [
       "array([[[ 58,  57,  57, ...,  70,  69,  71],\n",
       "        [ 61,  57,  56, ...,  73,  69,  68],\n",
       "        [ 60,  59,  57, ...,  72,  72,  72],\n",
       "        ...,\n",
       "        [150, 142, 139, ...,  85,  81,  81],\n",
       "        [223, 215, 207, ...,  87,  89,  87],\n",
       "        [245, 250, 251, ...,  84,  89,  90]],\n",
       "\n",
       "       [[ 58,  57,  57, ...,  70,  69,  71],\n",
       "        [ 61,  57,  56, ...,  73,  69,  68],\n",
       "        [ 60,  59,  57, ...,  72,  72,  72],\n",
       "        ...,\n",
       "        [150, 142, 139, ...,  85,  81,  81],\n",
       "        [223, 215, 207, ...,  87,  89,  87],\n",
       "        [245, 250, 251, ...,  84,  89,  90]],\n",
       "\n",
       "       [[ 53,  53,  53, ...,  73,  72,  71],\n",
       "        [ 55,  54,  54, ...,  71,  71,  72],\n",
       "        [ 55,  55,  55, ...,  73,  73,  72],\n",
       "        ...,\n",
       "        [ 98,  97,  95, ..., 116, 115, 113],\n",
       "        [113, 108, 103, ..., 118, 113, 107],\n",
       "        [115, 114, 111, ..., 113, 109, 107]],\n",
       "\n",
       "       ...,\n",
       "\n",
       "       [[ 86,  88,  91, ...,  96,  97,  98],\n",
       "        [ 91,  91,  99, ...,  95,  97,  99],\n",
       "        [ 83,  83,  92, ...,  94,  97,  99],\n",
       "        ...,\n",
       "        [ 45,  45,  45, ...,  43,  44,  44],\n",
       "        [ 46,  45,  45, ...,  43,  44,  45],\n",
       "        [ 49,  46,  46, ...,  43,  44,  45]],\n",
       "\n",
       "       [[ 98,  82,  76, ...,  94,  95,  95],\n",
       "        [ 88,  83,  69, ...,  95,  96,  96],\n",
       "        [ 81,  83,  80, ...,  95,  96,  96],\n",
       "        ...,\n",
       "        [ 77,  76,  74, ...,  40,  40,  40],\n",
       "        [ 77,  77,  71, ...,  40,  41,  41],\n",
       "        [ 76,  73,  61, ...,  41,  42,  42]],\n",
       "\n",
       "       [[ 92,  91,  89, ...,  94,  95,  95],\n",
       "        [ 86,  95, 101, ...,  94,  95,  96],\n",
       "        [ 79,  84, 101, ...,  94,  95,  96],\n",
       "        ...,\n",
       "        [ 54,  46,  44, ...,  42,  43,  44],\n",
       "        [ 54,  50,  46, ...,  42,  42,  43],\n",
       "        [ 43,  49,  50, ...,  43,  44,  44]]], dtype=uint8)"
      ]
     },
     "execution_count": 111,
     "metadata": {},
     "output_type": "execute_result"
    }
   ],
   "source": [
    "train_input"
   ]
  },
  {
   "cell_type": "code",
   "execution_count": 112,
   "id": "40ecbccd",
   "metadata": {
    "ExecuteTime": {
     "end_time": "2022-10-01T12:29:37.318314Z",
     "start_time": "2022-10-01T12:29:37.304250Z"
    }
   },
   "outputs": [
    {
     "name": "stdout",
     "output_type": "stream",
     "text": [
      "(2119, 600, 600)\n"
     ]
    }
   ],
   "source": [
    "print(train_input.shape)"
   ]
  },
  {
   "cell_type": "markdown",
   "id": "a2d2add8",
   "metadata": {},
   "source": [
    "# -------------------------------------------------------------------------------------------------------"
   ]
  },
  {
   "cell_type": "markdown",
   "id": "1bcc0945",
   "metadata": {},
   "source": [
    "# Data Normalization "
   ]
  },
  {
   "cell_type": "code",
   "execution_count": 113,
   "id": "4070c996",
   "metadata": {
    "ExecuteTime": {
     "end_time": "2022-10-01T12:29:37.348355Z",
     "start_time": "2022-10-01T12:29:37.334421Z"
    }
   },
   "outputs": [],
   "source": [
    "train_scaled = ()"
   ]
  },
  {
   "cell_type": "code",
   "execution_count": 114,
   "id": "2e5da0da",
   "metadata": {
    "ExecuteTime": {
     "end_time": "2022-10-01T12:29:39.076928Z",
     "start_time": "2022-10-01T12:29:37.364329Z"
    }
   },
   "outputs": [],
   "source": [
    "train_scaled = train_input.reshape(-1, 600, 600, 1) / 255.0"
   ]
  },
  {
   "cell_type": "code",
   "execution_count": 115,
   "id": "49d51370",
   "metadata": {
    "ExecuteTime": {
     "end_time": "2022-10-01T12:29:39.106967Z",
     "start_time": "2022-10-01T12:29:39.093951Z"
    }
   },
   "outputs": [
    {
     "name": "stdout",
     "output_type": "stream",
     "text": [
      "[[[[0.22745098]\n",
      "   [0.22352941]\n",
      "   [0.22352941]\n",
      "   ...\n",
      "   [0.2745098 ]\n",
      "   [0.27058824]\n",
      "   [0.27843137]]\n",
      "\n",
      "  [[0.23921569]\n",
      "   [0.22352941]\n",
      "   [0.21960784]\n",
      "   ...\n",
      "   [0.28627451]\n",
      "   [0.27058824]\n",
      "   [0.26666667]]\n",
      "\n",
      "  [[0.23529412]\n",
      "   [0.23137255]\n",
      "   [0.22352941]\n",
      "   ...\n",
      "   [0.28235294]\n",
      "   [0.28235294]\n",
      "   [0.28235294]]\n",
      "\n",
      "  ...\n",
      "\n",
      "  [[0.58823529]\n",
      "   [0.55686275]\n",
      "   [0.54509804]\n",
      "   ...\n",
      "   [0.33333333]\n",
      "   [0.31764706]\n",
      "   [0.31764706]]\n",
      "\n",
      "  [[0.8745098 ]\n",
      "   [0.84313725]\n",
      "   [0.81176471]\n",
      "   ...\n",
      "   [0.34117647]\n",
      "   [0.34901961]\n",
      "   [0.34117647]]\n",
      "\n",
      "  [[0.96078431]\n",
      "   [0.98039216]\n",
      "   [0.98431373]\n",
      "   ...\n",
      "   [0.32941176]\n",
      "   [0.34901961]\n",
      "   [0.35294118]]]\n",
      "\n",
      "\n",
      " [[[0.22745098]\n",
      "   [0.22352941]\n",
      "   [0.22352941]\n",
      "   ...\n",
      "   [0.2745098 ]\n",
      "   [0.27058824]\n",
      "   [0.27843137]]\n",
      "\n",
      "  [[0.23921569]\n",
      "   [0.22352941]\n",
      "   [0.21960784]\n",
      "   ...\n",
      "   [0.28627451]\n",
      "   [0.27058824]\n",
      "   [0.26666667]]\n",
      "\n",
      "  [[0.23529412]\n",
      "   [0.23137255]\n",
      "   [0.22352941]\n",
      "   ...\n",
      "   [0.28235294]\n",
      "   [0.28235294]\n",
      "   [0.28235294]]\n",
      "\n",
      "  ...\n",
      "\n",
      "  [[0.58823529]\n",
      "   [0.55686275]\n",
      "   [0.54509804]\n",
      "   ...\n",
      "   [0.33333333]\n",
      "   [0.31764706]\n",
      "   [0.31764706]]\n",
      "\n",
      "  [[0.8745098 ]\n",
      "   [0.84313725]\n",
      "   [0.81176471]\n",
      "   ...\n",
      "   [0.34117647]\n",
      "   [0.34901961]\n",
      "   [0.34117647]]\n",
      "\n",
      "  [[0.96078431]\n",
      "   [0.98039216]\n",
      "   [0.98431373]\n",
      "   ...\n",
      "   [0.32941176]\n",
      "   [0.34901961]\n",
      "   [0.35294118]]]\n",
      "\n",
      "\n",
      " [[[0.20784314]\n",
      "   [0.20784314]\n",
      "   [0.20784314]\n",
      "   ...\n",
      "   [0.28627451]\n",
      "   [0.28235294]\n",
      "   [0.27843137]]\n",
      "\n",
      "  [[0.21568627]\n",
      "   [0.21176471]\n",
      "   [0.21176471]\n",
      "   ...\n",
      "   [0.27843137]\n",
      "   [0.27843137]\n",
      "   [0.28235294]]\n",
      "\n",
      "  [[0.21568627]\n",
      "   [0.21568627]\n",
      "   [0.21568627]\n",
      "   ...\n",
      "   [0.28627451]\n",
      "   [0.28627451]\n",
      "   [0.28235294]]\n",
      "\n",
      "  ...\n",
      "\n",
      "  [[0.38431373]\n",
      "   [0.38039216]\n",
      "   [0.37254902]\n",
      "   ...\n",
      "   [0.45490196]\n",
      "   [0.45098039]\n",
      "   [0.44313725]]\n",
      "\n",
      "  [[0.44313725]\n",
      "   [0.42352941]\n",
      "   [0.40392157]\n",
      "   ...\n",
      "   [0.4627451 ]\n",
      "   [0.44313725]\n",
      "   [0.41960784]]\n",
      "\n",
      "  [[0.45098039]\n",
      "   [0.44705882]\n",
      "   [0.43529412]\n",
      "   ...\n",
      "   [0.44313725]\n",
      "   [0.42745098]\n",
      "   [0.41960784]]]\n",
      "\n",
      "\n",
      " ...\n",
      "\n",
      "\n",
      " [[[0.3372549 ]\n",
      "   [0.34509804]\n",
      "   [0.35686275]\n",
      "   ...\n",
      "   [0.37647059]\n",
      "   [0.38039216]\n",
      "   [0.38431373]]\n",
      "\n",
      "  [[0.35686275]\n",
      "   [0.35686275]\n",
      "   [0.38823529]\n",
      "   ...\n",
      "   [0.37254902]\n",
      "   [0.38039216]\n",
      "   [0.38823529]]\n",
      "\n",
      "  [[0.3254902 ]\n",
      "   [0.3254902 ]\n",
      "   [0.36078431]\n",
      "   ...\n",
      "   [0.36862745]\n",
      "   [0.38039216]\n",
      "   [0.38823529]]\n",
      "\n",
      "  ...\n",
      "\n",
      "  [[0.17647059]\n",
      "   [0.17647059]\n",
      "   [0.17647059]\n",
      "   ...\n",
      "   [0.16862745]\n",
      "   [0.17254902]\n",
      "   [0.17254902]]\n",
      "\n",
      "  [[0.18039216]\n",
      "   [0.17647059]\n",
      "   [0.17647059]\n",
      "   ...\n",
      "   [0.16862745]\n",
      "   [0.17254902]\n",
      "   [0.17647059]]\n",
      "\n",
      "  [[0.19215686]\n",
      "   [0.18039216]\n",
      "   [0.18039216]\n",
      "   ...\n",
      "   [0.16862745]\n",
      "   [0.17254902]\n",
      "   [0.17647059]]]\n",
      "\n",
      "\n",
      " [[[0.38431373]\n",
      "   [0.32156863]\n",
      "   [0.29803922]\n",
      "   ...\n",
      "   [0.36862745]\n",
      "   [0.37254902]\n",
      "   [0.37254902]]\n",
      "\n",
      "  [[0.34509804]\n",
      "   [0.3254902 ]\n",
      "   [0.27058824]\n",
      "   ...\n",
      "   [0.37254902]\n",
      "   [0.37647059]\n",
      "   [0.37647059]]\n",
      "\n",
      "  [[0.31764706]\n",
      "   [0.3254902 ]\n",
      "   [0.31372549]\n",
      "   ...\n",
      "   [0.37254902]\n",
      "   [0.37647059]\n",
      "   [0.37647059]]\n",
      "\n",
      "  ...\n",
      "\n",
      "  [[0.30196078]\n",
      "   [0.29803922]\n",
      "   [0.29019608]\n",
      "   ...\n",
      "   [0.15686275]\n",
      "   [0.15686275]\n",
      "   [0.15686275]]\n",
      "\n",
      "  [[0.30196078]\n",
      "   [0.30196078]\n",
      "   [0.27843137]\n",
      "   ...\n",
      "   [0.15686275]\n",
      "   [0.16078431]\n",
      "   [0.16078431]]\n",
      "\n",
      "  [[0.29803922]\n",
      "   [0.28627451]\n",
      "   [0.23921569]\n",
      "   ...\n",
      "   [0.16078431]\n",
      "   [0.16470588]\n",
      "   [0.16470588]]]\n",
      "\n",
      "\n",
      " [[[0.36078431]\n",
      "   [0.35686275]\n",
      "   [0.34901961]\n",
      "   ...\n",
      "   [0.36862745]\n",
      "   [0.37254902]\n",
      "   [0.37254902]]\n",
      "\n",
      "  [[0.3372549 ]\n",
      "   [0.37254902]\n",
      "   [0.39607843]\n",
      "   ...\n",
      "   [0.36862745]\n",
      "   [0.37254902]\n",
      "   [0.37647059]]\n",
      "\n",
      "  [[0.30980392]\n",
      "   [0.32941176]\n",
      "   [0.39607843]\n",
      "   ...\n",
      "   [0.36862745]\n",
      "   [0.37254902]\n",
      "   [0.37647059]]\n",
      "\n",
      "  ...\n",
      "\n",
      "  [[0.21176471]\n",
      "   [0.18039216]\n",
      "   [0.17254902]\n",
      "   ...\n",
      "   [0.16470588]\n",
      "   [0.16862745]\n",
      "   [0.17254902]]\n",
      "\n",
      "  [[0.21176471]\n",
      "   [0.19607843]\n",
      "   [0.18039216]\n",
      "   ...\n",
      "   [0.16470588]\n",
      "   [0.16470588]\n",
      "   [0.16862745]]\n",
      "\n",
      "  [[0.16862745]\n",
      "   [0.19215686]\n",
      "   [0.19607843]\n",
      "   ...\n",
      "   [0.16862745]\n",
      "   [0.17254902]\n",
      "   [0.17254902]]]]\n"
     ]
    }
   ],
   "source": [
    "print(train_scaled)"
   ]
  },
  {
   "cell_type": "code",
   "execution_count": 116,
   "id": "1c7f070e",
   "metadata": {
    "ExecuteTime": {
     "end_time": "2022-10-01T12:29:39.137416Z",
     "start_time": "2022-10-01T12:29:39.123837Z"
    },
    "scrolled": true
   },
   "outputs": [
    {
     "name": "stdout",
     "output_type": "stream",
     "text": [
      "(2119, 600, 600, 1)\n"
     ]
    }
   ],
   "source": [
    "print(train_scaled.shape)"
   ]
  },
  {
   "cell_type": "markdown",
   "id": "a6ea2eac",
   "metadata": {},
   "source": [
    "# Data Split"
   ]
  },
  {
   "cell_type": "code",
   "execution_count": 117,
   "id": "3aa92711",
   "metadata": {
    "ExecuteTime": {
     "end_time": "2022-10-01T12:29:42.627108Z",
     "start_time": "2022-10-01T12:29:40.451120Z"
    }
   },
   "outputs": [],
   "source": [
    "train_scaled, val_scaled, train_target, val_target = train_test_split(train_scaled, train_target, test_size=0.2, random_state=42)"
   ]
  },
  {
   "cell_type": "code",
   "execution_count": 118,
   "id": "2b71701f",
   "metadata": {
    "ExecuteTime": {
     "end_time": "2022-10-01T12:29:42.657254Z",
     "start_time": "2022-10-01T12:29:42.643100Z"
    },
    "scrolled": true
   },
   "outputs": [
    {
     "name": "stdout",
     "output_type": "stream",
     "text": [
      "(1695, 600, 600, 1) (1695,)\n",
      "(424, 600, 600, 1) (424,)\n"
     ]
    }
   ],
   "source": [
    "print(train_scaled.shape, train_target.shape)\n",
    "print(val_scaled.shape, val_target.shape)"
   ]
  },
  {
   "cell_type": "markdown",
   "id": "604df35d",
   "metadata": {},
   "source": [
    "# CNN"
   ]
  },
  {
   "cell_type": "code",
   "execution_count": 119,
   "id": "9799cf44",
   "metadata": {
    "ExecuteTime": {
     "end_time": "2022-10-01T12:29:43.916392Z",
     "start_time": "2022-10-01T12:29:43.905384Z"
    }
   },
   "outputs": [],
   "source": [
    "from tensorflow import keras"
   ]
  },
  {
   "cell_type": "code",
   "execution_count": 120,
   "id": "8e4675e3",
   "metadata": {
    "ExecuteTime": {
     "end_time": "2022-10-01T12:29:44.401611Z",
     "start_time": "2022-10-01T12:29:44.310779Z"
    }
   },
   "outputs": [],
   "source": [
    "model_CNN = keras.Sequential()"
   ]
  },
  {
   "cell_type": "markdown",
   "id": "8f6d8f6e",
   "metadata": {
    "ExecuteTime": {
     "end_time": "2022-09-15T03:06:39.892337Z",
     "start_time": "2022-09-15T03:06:39.892337Z"
    }
   },
   "source": [
    "model.evaluate(val_scaled, val_target)"
   ]
  },
  {
   "cell_type": "markdown",
   "id": "bb55b2c4",
   "metadata": {},
   "source": [
    "# ************ breakpoint ************"
   ]
  },
  {
   "cell_type": "markdown",
   "id": "0d112707",
   "metadata": {},
   "source": [
    "# Feature Extraction"
   ]
  },
  {
   "cell_type": "code",
   "execution_count": 121,
   "id": "419999d7",
   "metadata": {
    "ExecuteTime": {
     "end_time": "2022-10-01T12:29:48.092251Z",
     "start_time": "2022-10-01T12:29:48.010872Z"
    }
   },
   "outputs": [],
   "source": [
    "model_CNN.add(keras.layers.Conv2D(filters=32, kernel_size=3, activation='relu', padding='same', input_shape=(600, 600, 1)))\n",
    "model_CNN.add(keras.layers.MaxPooling2D(2))\n",
    "model_CNN.add(keras.layers.Conv2D(filters=64, kernel_size=3, activation='relu', padding='same'))\n",
    "model_CNN.add(keras.layers.MaxPooling2D(2))\n",
    "model_CNN.add(keras.layers.Conv2D(filters=128, kernel_size=3, activation='relu', padding='same'))\n",
    "model_CNN.add(keras.layers.MaxPooling2D(2))\n",
    "model_CNN.add(keras.layers.Conv2D(filters=256, kernel_size=3, activation='relu', padding='same'))\n",
    "model_CNN.add(keras.layers.MaxPooling2D(2))"
   ]
  },
  {
   "cell_type": "markdown",
   "id": "22e98b7d",
   "metadata": {},
   "source": [
    "# Classifier"
   ]
  },
  {
   "cell_type": "code",
   "execution_count": 122,
   "id": "54cc678c",
   "metadata": {
    "ExecuteTime": {
     "end_time": "2022-10-01T12:29:48.775807Z",
     "start_time": "2022-10-01T12:29:48.629740Z"
    }
   },
   "outputs": [],
   "source": [
    "model_CNN.add(keras.layers.Flatten())\n",
    "model_CNN.add(keras.layers.Dense(100, activation='relu'))\n",
    "model_CNN.add(keras.layers.Dropout(0.4))\n",
    "model_CNN.add(keras.layers.Dense(258, activation='softmax'))"
   ]
  },
  {
   "cell_type": "markdown",
   "id": "357ba6a4",
   "metadata": {},
   "source": [
    "# ************ breakpoint ************"
   ]
  },
  {
   "cell_type": "markdown",
   "id": "53fe1209",
   "metadata": {},
   "source": [
    "# -------------------------------------------------------------------------------------------------------"
   ]
  },
  {
   "cell_type": "code",
   "execution_count": 123,
   "id": "5525ae63",
   "metadata": {
    "ExecuteTime": {
     "end_time": "2022-10-01T12:29:50.960411Z",
     "start_time": "2022-10-01T12:29:50.934294Z"
    },
    "scrolled": true
   },
   "outputs": [
    {
     "name": "stdout",
     "output_type": "stream",
     "text": [
      "Model: \"sequential\"\n",
      "_________________________________________________________________\n",
      " Layer (type)                Output Shape              Param #   \n",
      "=================================================================\n",
      " conv2d (Conv2D)             (None, 600, 600, 32)      320       \n",
      "                                                                 \n",
      " max_pooling2d (MaxPooling2D  (None, 300, 300, 32)     0         \n",
      " )                                                               \n",
      "                                                                 \n",
      " conv2d_1 (Conv2D)           (None, 300, 300, 64)      18496     \n",
      "                                                                 \n",
      " max_pooling2d_1 (MaxPooling  (None, 150, 150, 64)     0         \n",
      " 2D)                                                             \n",
      "                                                                 \n",
      " conv2d_2 (Conv2D)           (None, 150, 150, 128)     73856     \n",
      "                                                                 \n",
      " max_pooling2d_2 (MaxPooling  (None, 75, 75, 128)      0         \n",
      " 2D)                                                             \n",
      "                                                                 \n",
      " conv2d_3 (Conv2D)           (None, 75, 75, 256)       295168    \n",
      "                                                                 \n",
      " max_pooling2d_3 (MaxPooling  (None, 37, 37, 256)      0         \n",
      " 2D)                                                             \n",
      "                                                                 \n",
      " flatten (Flatten)           (None, 350464)            0         \n",
      "                                                                 \n",
      " dense (Dense)               (None, 100)               35046500  \n",
      "                                                                 \n",
      " dropout (Dropout)           (None, 100)               0         \n",
      "                                                                 \n",
      " dense_1 (Dense)             (None, 258)               26058     \n",
      "                                                                 \n",
      "=================================================================\n",
      "Total params: 35,460,398\n",
      "Trainable params: 35,460,398\n",
      "Non-trainable params: 0\n",
      "_________________________________________________________________\n"
     ]
    }
   ],
   "source": [
    "model_CNN.summary()"
   ]
  },
  {
   "cell_type": "code",
   "execution_count": 70,
   "id": "233ce0a4",
   "metadata": {
    "ExecuteTime": {
     "end_time": "2022-09-27T05:50:18.625904Z",
     "start_time": "2022-09-27T05:50:18.284771Z"
    },
    "collapsed": true
   },
   "outputs": [
    {
     "data": {
      "image/png": "[encoded data removed]",
      "text/plain": [
       "<IPython.core.display.Image object>"
      ]
     },
     "execution_count": 70,
     "metadata": {},
     "output_type": "execute_result"
    }
   ],
   "source": [
    "keras.utils.plot_model(model_CNN)"
   ]
  },
  {
   "cell_type": "code",
   "execution_count": 71,
   "id": "efecbcbe",
   "metadata": {
    "ExecuteTime": {
     "end_time": "2022-09-27T05:50:18.832099Z",
     "start_time": "2022-09-27T05:50:18.627906Z"
    },
    "collapsed": true
   },
   "outputs": [
    {
     "data": {
      "image/png": "[encoded data removed]",
      "text/plain": [
       "<IPython.core.display.Image object>"
      ]
     },
     "execution_count": 71,
     "metadata": {},
     "output_type": "execute_result"
    }
   ],
   "source": [
    "keras.utils.plot_model(model_CNN, show_shapes=True)"
   ]
  },
  {
   "cell_type": "markdown",
   "id": "137bfbfd",
   "metadata": {
    "ExecuteTime": {
     "end_time": "2022-09-27T07:25:23.075039Z",
     "start_time": "2022-09-27T05:50:18.834098Z"
    },
    "scrolled": false
   },
   "source": [
    "model_CNN.compile(optimizer='adam', loss='sparse_categorical_crossentropy', metrics='accuracy')\n",
    "checkpoint_cb = keras.callbacks.ModelCheckpoint('best-cnn-model.h5')\n",
    "early_stopping_cb = keras.callbacks.EarlyStopping(patience=2, restore_best_weights=True)\n",
    "history = model_CNN.fit(train_scaled, train_target, epochs=30, validation_data=(val_scaled, val_target), callbacks=[checkpoint_cb, early_stopping_cb])"
   ]
  },
  {
   "cell_type": "markdown",
   "id": "5a4c8a1b",
   "metadata": {
    "ExecuteTime": {
     "end_time": "2022-10-01T12:29:58.926212Z",
     "start_time": "2022-10-01T12:29:58.911200Z"
    }
   },
   "source": [
    "import matplotlib.pyplot as plt\n",
    "plt.plot(history.history['loss'])\n",
    "plt.plot(history.history['val_loss'])\n",
    "plt.xlabel('epoch')\n",
    "plt.ylabel('loss')\n",
    "plt.legend(['train', 'val'])\n",
    "plt.show()"
   ]
  },
  {
   "cell_type": "code",
   "execution_count": 126,
   "id": "932e20d6",
   "metadata": {
    "ExecuteTime": {
     "end_time": "2022-10-01T12:33:43.293724Z",
     "start_time": "2022-10-01T12:33:26.305108Z"
    },
    "scrolled": true
   },
   "outputs": [
    {
     "name": "stdout",
     "output_type": "stream",
     "text": [
      "14/14 [==============================] - 16s 1s/step - loss: 4.4647 - accuracy: 0.2241\n"
     ]
    },
    {
     "data": {
      "text/plain": [
       "[4.4646897315979, 0.22405660152435303]"
      ]
     },
     "execution_count": 126,
     "metadata": {},
     "output_type": "execute_result"
    }
   ],
   "source": [
    "model_CNN2 = keras.models.load_model('./best-cnn-model.h5')\n",
    "model_CNN2.evaluate(val_scaled, val_target)"
   ]
  },
  {
   "cell_type": "markdown",
   "id": "3d2f1b0e",
   "metadata": {},
   "source": [
    "# Test\n",
    "## y_train first data ↓↓↓"
   ]
  },
  {
   "cell_type": "code",
   "execution_count": 127,
   "id": "b3cca6ab",
   "metadata": {
    "ExecuteTime": {
     "end_time": "2022-10-01T12:33:47.483224Z",
     "start_time": "2022-10-01T12:33:47.362870Z"
    }
   },
   "outputs": [
    {
     "data": {
      "image/png": "[encoded data removed]",
      "text/plain": [
       "<Figure size 432x288 with 1 Axes>"
      ]
     },
     "metadata": {
      "needs_background": "light"
     },
     "output_type": "display_data"
    }
   ],
   "source": [
    "plt.imshow(val_scaled[0].reshape(600, 600), cmap='gray_r')\n",
    "plt.show()"
   ]
  },
  {
   "cell_type": "markdown",
   "id": "adc85655",
   "metadata": {},
   "source": [
    "# Performance"
   ]
  },
  {
   "cell_type": "markdown",
   "id": "c4128e1c",
   "metadata": {},
   "source": [
    "# 위 사진에 대한 258개 확률 출력"
   ]
  },
  {
   "cell_type": "code",
   "execution_count": 133,
   "id": "3c71669a",
   "metadata": {
    "ExecuteTime": {
     "end_time": "2022-10-01T12:34:21.161142Z",
     "start_time": "2022-10-01T12:34:20.999709Z"
    },
    "scrolled": true
   },
   "outputs": [
    {
     "name": "stdout",
     "output_type": "stream",
     "text": [
      "1/1 [==============================] - 0s 119ms/step\n",
      "[[3.27624002e-05 2.86907842e-03 1.58034163e-05 1.64902944e-03\n",
      "  1.39079397e-08 1.95926847e-03 1.46263963e-04 1.04743121e-02\n",
      "  1.06661528e-01 1.36345552e-04 3.57547748e-07 9.73505608e-04\n",
      "  7.28059800e-12 3.72895492e-09 6.50729609e-11 1.96105709e-08\n",
      "  3.50349298e-11 1.16379280e-12 2.96570685e-11 2.01723371e-09\n",
      "  7.87798559e-12 7.77234613e-12 3.42816726e-12 5.16126786e-09\n",
      "  9.18327220e-11 7.44762862e-11 4.10511833e-11 9.88143942e-11\n",
      "  1.67690497e-11 7.55919546e-12 5.47944756e-09 4.55299730e-12\n",
      "  4.97910935e-10 2.82291368e-09 1.30424482e-11 3.31122525e-11\n",
      "  1.13842703e-11 8.63602689e-10 7.40303706e-13 1.04789831e-11\n",
      "  5.68047887e-10 5.54838286e-10 2.33296932e-12 1.28267147e-10\n",
      "  2.19156047e-11 7.23193554e-12 3.64860780e-10 7.88890689e-11\n",
      "  1.16189613e-09 1.50967802e-12 1.92572736e-10 1.09336986e-12\n",
      "  1.77585561e-12 5.49470087e-11 8.97516728e-10 1.02679096e-12\n",
      "  6.61437661e-14 9.78380571e-11 4.05414715e-13 3.11181442e-10\n",
      "  5.36294446e-11 5.06960533e-12 1.01636798e-13 9.06766676e-11\n",
      "  9.92227134e-11 3.47101625e-10 1.21162648e-05 1.23044841e-09\n",
      "  3.59106473e-12 5.06992004e-10 5.81609110e-12 4.83946172e-09\n",
      "  1.48916994e-08 7.86508879e-12 1.69778460e-12 1.65521308e-12\n",
      "  1.01706915e-11 4.13284077e-12 1.29625241e-10 3.06113884e-11\n",
      "  1.48279826e-12 2.86795457e-12 1.12088203e-11 1.40004336e-11\n",
      "  3.12443300e-11 2.79505907e-09 4.31442215e-10 4.59567887e-12\n",
      "  8.74098918e-11 1.00327427e-10 3.23658350e-10 1.55860874e-07\n",
      "  8.36974587e-11 2.12523423e-12 5.29610557e-12 6.11898509e-12\n",
      "  2.66135614e-10 1.51808219e-10 5.84271520e-10 7.73561354e-11\n",
      "  1.29873709e-10 3.47808782e-10 4.75309722e-12 1.02076647e-09\n",
      "  1.21074019e-11 8.08031331e-08 3.92208765e-11 1.61197496e-11\n",
      "  2.90440533e-10 7.41340600e-10 8.82750383e-12 1.05006249e-12\n",
      "  5.36041398e-07 2.73100486e-05 5.25845935e-05 3.29701143e-05\n",
      "  3.00227408e-03 5.14302371e-07 4.01498482e-06 6.08220324e-03\n",
      "  3.12116208e-06 3.78469194e-05 3.25984947e-05 1.08353025e-03\n",
      "  6.81792744e-06 8.85848422e-03 1.00503075e-06 4.37400863e-03\n",
      "  1.01034378e-03 3.46729976e-05 7.46134674e-06 4.87891630e-05\n",
      "  1.20045422e-08 1.12301774e-11 2.47102958e-04 3.72501335e-11\n",
      "  2.44895109e-05 2.61298283e-07 1.02365163e-06 9.56835574e-05\n",
      "  1.90634141e-03 8.01202084e-04 4.48898390e-05 6.43510793e-06\n",
      "  2.36716674e-04 1.55616639e-04 7.72285566e-04 5.60090084e-05\n",
      "  2.95285531e-07 2.16002669e-03 1.53594854e-04 1.87878027e-06\n",
      "  1.27870289e-05 4.42751571e-06 1.74728284e-05 5.33493527e-04\n",
      "  1.09607154e-05 8.30552381e-05 2.83777863e-05 9.93576214e-06\n",
      "  8.48907512e-03 3.44252610e-03 8.35764408e-03 2.23882344e-05\n",
      "  8.86780924e-07 1.41322550e-06 1.24455855e-05 1.71229003e-05\n",
      "  3.67088988e-03 3.02660163e-03 5.18085617e-05 7.23987352e-04\n",
      "  1.04041566e-04 4.05775337e-03 1.22822041e-06 4.19760408e-06\n",
      "  1.73697490e-02 3.33647199e-06 1.67897597e-04 1.01842044e-03\n",
      "  2.68081294e-06 5.78617037e-04 9.15608543e-05 1.39481401e-07\n",
      "  1.87642108e-05 1.01398770e-03 6.45668537e-04 1.34217192e-03\n",
      "  2.71272916e-06 4.25217301e-03 2.90406798e-03 1.45585596e-04\n",
      "  2.75317137e-03 2.48003616e-05 1.93935193e-05 5.16102230e-03\n",
      "  5.62827045e-04 2.41590697e-05 3.82280629e-03 3.06719703e-05\n",
      "  5.32729924e-02 2.75786209e-04 2.65333964e-03 9.33204079e-04\n",
      "  6.57646087e-05 1.66016407e-02 1.92360400e-04 1.27162831e-03\n",
      "  2.27263286e-06 4.26576889e-06 2.87217805e-10 3.30028619e-04\n",
      "  7.30187992e-07 5.98308048e-04 2.58246087e-04 4.83886688e-05\n",
      "  4.48566349e-03 1.92346552e-03 6.95942435e-04 1.93544524e-03\n",
      "  8.01089853e-02 1.05221052e-05 1.00123951e-04 8.56535044e-04\n",
      "  1.09410294e-05 2.28208373e-03 1.29161414e-03 6.20361243e-04\n",
      "  5.52682604e-06 8.92177876e-03 4.85122691e-05 7.06866907e-04\n",
      "  4.16263909e-04 1.53418456e-03 1.26576617e-06 4.29463427e-04\n",
      "  8.87567352e-04 5.50493540e-04 1.86474733e-02 4.99186426e-05\n",
      "  9.57455859e-03 5.84147017e-07 2.86056787e-01 1.70394294e-02\n",
      "  1.48193487e-06 1.78522527e-01 1.02470571e-03 7.19038621e-02\n",
      "  4.86422368e-06 2.18554560e-04 9.15020223e-07 1.59834672e-05\n",
      "  7.25541014e-08 1.66468171e-03 2.45800970e-06 2.06660502e-06\n",
      "  1.44489487e-09 4.37941870e-12]]\n"
     ]
    }
   ],
   "source": [
    "preds = model_CNN2.predict(val_scaled[0:1])\n",
    "print(preds)"
   ]
  },
  {
   "cell_type": "markdown",
   "id": "b9594498",
   "metadata": {},
   "source": [
    "# 확률 그래프"
   ]
  },
  {
   "cell_type": "code",
   "execution_count": 134,
   "id": "13c0de94",
   "metadata": {
    "ExecuteTime": {
     "end_time": "2022-10-01T12:34:22.177634Z",
     "start_time": "2022-10-01T12:34:21.832450Z"
    }
   },
   "outputs": [
    {
     "data": {
      "image/png": "[encoded data removed]",
      "text/plain": [
       "<Figure size 432x288 with 1 Axes>"
      ]
     },
     "metadata": {
      "needs_background": "light"
     },
     "output_type": "display_data"
    }
   ],
   "source": [
    "plt.bar(range(1, 259), preds[0])\n",
    "plt.xlabel('class')\n",
    "plt.ylabel('prob')\n",
    "plt.show()"
   ]
  },
  {
   "cell_type": "markdown",
   "id": "a67c5317",
   "metadata": {},
   "source": [
    "# Total target (classes) < append"
   ]
  },
  {
   "cell_type": "code",
   "execution_count": 135,
   "id": "a8d5da96",
   "metadata": {
    "ExecuteTime": {
     "end_time": "2022-10-01T12:34:23.346659Z",
     "start_time": "2022-10-01T12:34:23.339659Z"
    }
   },
   "outputs": [],
   "source": [
    "classes = []\n",
    "for i in df['category'].unique():\n",
    "    classes.append(i)"
   ]
  },
  {
   "cell_type": "markdown",
   "id": "80b96d5e",
   "metadata": {},
   "source": [
    "# 위 사진의 target"
   ]
  },
  {
   "cell_type": "code",
   "execution_count": 136,
   "id": "58f018fc",
   "metadata": {
    "ExecuteTime": {
     "end_time": "2022-10-01T12:34:24.087198Z",
     "start_time": "2022-10-01T12:34:24.080651Z"
    }
   },
   "outputs": [
    {
     "name": "stdout",
     "output_type": "stream",
     "text": [
      "6006\n"
     ]
    }
   ],
   "source": [
    "import numpy as np\n",
    "print(classes[np.argmax(preds)])"
   ]
  },
  {
   "cell_type": "code",
   "execution_count": 137,
   "id": "c674fa8d",
   "metadata": {
    "ExecuteTime": {
     "end_time": "2022-10-01T12:34:40.560528Z",
     "start_time": "2022-10-01T12:34:24.272025Z"
    }
   },
   "outputs": [
    {
     "name": "stdout",
     "output_type": "stream",
     "text": [
      "14/14 [==============================] - 16s 1s/step - loss: 4.4647 - accuracy: 0.2241\n"
     ]
    }
   ],
   "source": [
    "acc = model_CNN2.evaluate(val_scaled, val_target)"
   ]
  },
  {
   "cell_type": "code",
   "execution_count": 138,
   "id": "54f58420",
   "metadata": {
    "ExecuteTime": {
     "end_time": "2022-10-01T12:34:40.605299Z",
     "start_time": "2022-10-01T12:34:40.592525Z"
    }
   },
   "outputs": [
    {
     "name": "stdout",
     "output_type": "stream",
     "text": [
      "Accuracy : 22.41%\n"
     ]
    }
   ],
   "source": [
    "print(\"Accuracy : {:.2f}%\".format(acc[1]*100))"
   ]
  },
  {
   "cell_type": "code",
   "execution_count": null,
   "id": "02831bb8",
   "metadata": {},
   "outputs": [],
   "source": []
  }
 ],
 "metadata": {
  "kernelspec": {
   "display_name": "Python 3 (ipykernel)",
   "language": "python",
   "name": "python3"
  },
  "language_info": {
   "codemirror_mode": {
    "name": "ipython",
    "version": 3
   },
   "file_extension": ".py",
   "mimetype": "text/x-python",
   "name": "python",
   "nbconvert_exporter": "python",
   "pygments_lexer": "ipython3",
   "version": "3.9.12"
  },
  "toc": {
   "base_numbering": 1,
   "nav_menu": {},
   "number_sections": false,
   "sideBar": true,
   "skip_h1_title": false,
   "title_cell": "Table of Contents",
   "title_sidebar": "Contents",
   "toc_cell": false,
   "toc_position": {},
   "toc_section_display": true,
   "toc_window_display": false
  },
  "varInspector": {
   "cols": {
    "lenName": 16,
    "lenType": 16,
    "lenVar": 40
   },
   "kernels_config": {
    "python": {
     "delete_cmd_postfix": "",
     "delete_cmd_prefix": "del ",
     "library": "var_list.py",
     "varRefreshCmd": "print(var_dic_list())"
    },
    "r": {
     "delete_cmd_postfix": ") ",
     "delete_cmd_prefix": "rm(",
     "library": "var_list.r",
     "varRefreshCmd": "cat(var_dic_list()) "
    }
   },
   "types_to_exclude": [
    "module",
    "function",
    "builtin_function_or_method",
    "instance",
    "_Feature"
   ],
   "window_display": false
  }
 },
 "nbformat": 4,
 "nbformat_minor": 5
}
