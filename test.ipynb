{
 "cells": [
  {
   "cell_type": "code",
   "execution_count": 2,
   "id": "3c353b04",
   "metadata": {
    "ExecuteTime": {
     "end_time": "2022-09-07T01:43:34.669072Z",
     "start_time": "2022-09-07T01:43:34.201038Z"
    }
   },
   "outputs": [],
   "source": [
    "import random\n",
    "import numpy as np\n",
    "import os\n",
    "import cv2\n",
    "import glob\n",
    "from PIL import Image\n",
    "import PIL.ImageOps"
   ]
  },
  {
   "cell_type": "code",
   "execution_count": 99,
   "id": "7fd52843",
   "metadata": {
    "ExecuteTime": {
     "end_time": "2022-09-07T06:02:36.642753Z",
     "start_time": "2022-09-07T06:02:36.632751Z"
    }
   },
   "outputs": [],
   "source": [
    "num_argumented_images = 10"
   ]
  },
  {
   "cell_type": "code",
   "execution_count": 100,
   "id": "8cc02f72",
   "metadata": {
    "ExecuteTime": {
     "end_time": "2022-09-07T06:02:36.768750Z",
     "start_time": "2022-09-07T06:02:36.752752Z"
    }
   },
   "outputs": [],
   "source": [
    "file_path = './grayImages/'\n",
    "file_names = os.listdir(file_path)\n",
    "total_origin_image_num = len(file_names)"
   ]
  },
  {
   "cell_type": "code",
   "execution_count": 107,
   "id": "1783823d",
   "metadata": {
    "ExecuteTime": {
     "end_time": "2022-09-07T06:40:11.522662Z",
     "start_time": "2022-09-07T06:40:09.784662Z"
    },
    "collapsed": true
   },
   "outputs": [
    {
     "name": "stdout",
     "output_type": "stream",
     "text": [
      "./grayImages/1.png\n",
      "./grayImages/1.png\n",
      "./grayImages/1.png\n",
      "./grayImages/1.png\n",
      "./grayImages/1.png\n",
      "./grayImages/1.png\n",
      "./grayImages/1.png\n",
      "./grayImages/1.png\n",
      "./grayImages/1.png\n",
      "./grayImages/10.png\n",
      "./grayImages/10.png\n",
      "./grayImages/10.png\n",
      "./grayImages/10.png\n",
      "./grayImages/10.png\n",
      "./grayImages/10.png\n",
      "./grayImages/10.png\n",
      "./grayImages/10.png\n",
      "./grayImages/10.png\n",
      "./grayImages/2.png\n",
      "./grayImages/2.png\n",
      "./grayImages/2.png\n",
      "./grayImages/2.png\n",
      "./grayImages/2.png\n",
      "./grayImages/2.png\n",
      "./grayImages/2.png\n",
      "./grayImages/2.png\n",
      "./grayImages/2.png\n",
      "./grayImages/3.png\n",
      "./grayImages/3.png\n",
      "./grayImages/3.png\n",
      "./grayImages/3.png\n",
      "./grayImages/3.png\n",
      "./grayImages/3.png\n",
      "./grayImages/3.png\n",
      "./grayImages/3.png\n",
      "./grayImages/3.png\n",
      "./grayImages/4.png\n",
      "./grayImages/4.png\n",
      "./grayImages/4.png\n",
      "./grayImages/4.png\n",
      "./grayImages/4.png\n",
      "./grayImages/4.png\n",
      "./grayImages/4.png\n",
      "./grayImages/4.png\n",
      "./grayImages/4.png\n",
      "./grayImages/5.png\n",
      "./grayImages/5.png\n",
      "./grayImages/5.png\n",
      "./grayImages/5.png\n",
      "./grayImages/5.png\n",
      "./grayImages/5.png\n",
      "./grayImages/5.png\n",
      "./grayImages/5.png\n",
      "./grayImages/5.png\n",
      "./grayImages/6.png\n",
      "./grayImages/6.png\n",
      "./grayImages/6.png\n",
      "./grayImages/6.png\n",
      "./grayImages/6.png\n",
      "./grayImages/6.png\n",
      "./grayImages/6.png\n",
      "./grayImages/6.png\n",
      "./grayImages/6.png\n",
      "./grayImages/7.png\n",
      "./grayImages/7.png\n",
      "./grayImages/7.png\n",
      "./grayImages/7.png\n",
      "./grayImages/7.png\n",
      "./grayImages/7.png\n",
      "./grayImages/7.png\n",
      "./grayImages/7.png\n",
      "./grayImages/7.png\n",
      "./grayImages/8.png\n",
      "./grayImages/8.png\n",
      "./grayImages/8.png\n",
      "./grayImages/8.png\n",
      "./grayImages/8.png\n",
      "./grayImages/8.png\n",
      "./grayImages/8.png\n",
      "./grayImages/8.png\n",
      "./grayImages/8.png\n",
      "./grayImages/9.png\n",
      "./grayImages/9.png\n",
      "./grayImages/9.png\n",
      "./grayImages/9.png\n",
      "./grayImages/9.png\n",
      "./grayImages/9.png\n",
      "./grayImages/9.png\n",
      "./grayImages/9.png\n",
      "./grayImages/9.png\n"
     ]
    }
   ],
   "source": [
    "for k in range(0, 10):\n",
    "    argument_cnt = 1\n",
    "    for i in range(0, num_argumented_images -1):\n",
    "        file_name = file_names[k]\n",
    "\n",
    "        origin_image_path = './grayImages/' + file_name\n",
    "        image = Image.open(origin_image_path)\n",
    "        random_argument = random.randrange(1, 4)\n",
    "\n",
    "        if(random_argument == 1):\n",
    "            inverted_image = image.transpose(Image.FLIP_LEFT_RIGHT)\n",
    "\n",
    "            inverted_image.save('./argumentedImages/'+ str(k+1) + '(' + str(argument_cnt) + ').png')\n",
    "\n",
    "        elif(random_argument == 2):\n",
    "            rotated_image = image.rotate(random.randrange(-20, 20))\n",
    "\n",
    "            rotated_image.save('./argumentedImages/' + str(k+1) + '(' + str(argument_cnt) + ').png')\n",
    "\n",
    "        elif(random_argument == 3):\n",
    "            img = cv2.imread(origin_image_path)\n",
    "            row, col, ch = img.shape\n",
    "            mean = 0\n",
    "            var = 0.1\n",
    "            sigma = var ** 0.5\n",
    "            gauss = np.random.normal(mean, sigma, (row, col, ch))\n",
    "            gauss = gauss.reshape(row, col, ch)\n",
    "            noisy_array = img + gauss\n",
    "            noisy_image = Image.fromarray(np.uint8(noisy_array)).convert('RGB')\n",
    "\n",
    "            noisy_image.save('./argumentedImages/' + str(k+1) + '(' + str(argument_cnt) + ').png')\n",
    "        \n",
    "        argument_cnt += 1\n"
   ]
  },
  {
   "cell_type": "code",
   "execution_count": null,
   "id": "f3eafbe7",
   "metadata": {},
   "outputs": [],
   "source": []
  },
  {
   "cell_type": "code",
   "execution_count": null,
   "id": "8a02bec9",
   "metadata": {},
   "outputs": [],
   "source": []
  },
  {
   "cell_type": "code",
   "execution_count": null,
   "id": "dccdac65",
   "metadata": {},
   "outputs": [],
   "source": []
  },
  {
   "cell_type": "code",
   "execution_count": null,
   "id": "5fd9ea3f",
   "metadata": {},
   "outputs": [],
   "source": []
  },
  {
   "cell_type": "code",
   "execution_count": null,
   "id": "17a45c55",
   "metadata": {},
   "outputs": [],
   "source": []
  },
  {
   "cell_type": "code",
   "execution_count": null,
   "id": "11ca5812",
   "metadata": {},
   "outputs": [],
   "source": []
  },
  {
   "cell_type": "code",
   "execution_count": null,
   "id": "e34f97c9",
   "metadata": {},
   "outputs": [],
   "source": []
  },
  {
   "cell_type": "code",
   "execution_count": null,
   "id": "e81e81e6",
   "metadata": {},
   "outputs": [],
   "source": []
  },
  {
   "cell_type": "code",
   "execution_count": null,
   "id": "8597ff3f",
   "metadata": {},
   "outputs": [],
   "source": []
  },
  {
   "cell_type": "code",
   "execution_count": null,
   "id": "f53be3b9",
   "metadata": {},
   "outputs": [],
   "source": []
  },
  {
   "cell_type": "code",
   "execution_count": null,
   "id": "ed8a82d9",
   "metadata": {},
   "outputs": [],
   "source": []
  },
  {
   "cell_type": "code",
   "execution_count": null,
   "id": "d99c69c5",
   "metadata": {},
   "outputs": [],
   "source": []
  },
  {
   "cell_type": "code",
   "execution_count": null,
   "id": "fd755a3b",
   "metadata": {},
   "outputs": [],
   "source": []
  },
  {
   "cell_type": "code",
   "execution_count": null,
   "id": "2f00e796",
   "metadata": {},
   "outputs": [],
   "source": []
  },
  {
   "cell_type": "code",
   "execution_count": null,
   "id": "a18029bc",
   "metadata": {},
   "outputs": [],
   "source": []
  },
  {
   "cell_type": "code",
   "execution_count": null,
   "id": "534b6430",
   "metadata": {},
   "outputs": [],
   "source": []
  },
  {
   "cell_type": "code",
   "execution_count": null,
   "id": "239f6110",
   "metadata": {},
   "outputs": [],
   "source": []
  },
  {
   "cell_type": "code",
   "execution_count": null,
   "id": "8133ad1e",
   "metadata": {},
   "outputs": [],
   "source": []
  },
  {
   "cell_type": "code",
   "execution_count": null,
   "id": "06e0dfb5",
   "metadata": {},
   "outputs": [],
   "source": []
  },
  {
   "cell_type": "code",
   "execution_count": null,
   "id": "2b7468a0",
   "metadata": {},
   "outputs": [],
   "source": []
  }
 ],
 "metadata": {
  "kernelspec": {
   "display_name": "Python 3 (ipykernel)",
   "language": "python",
   "name": "python3"
  },
  "language_info": {
   "codemirror_mode": {
    "name": "ipython",
    "version": 3
   },
   "file_extension": ".py",
   "mimetype": "text/x-python",
   "name": "python",
   "nbconvert_exporter": "python",
   "pygments_lexer": "ipython3",
   "version": "3.9.12"
  },
  "toc": {
   "base_numbering": 1,
   "nav_menu": {},
   "number_sections": true,
   "sideBar": true,
   "skip_h1_title": false,
   "title_cell": "Table of Contents",
   "title_sidebar": "Contents",
   "toc_cell": false,
   "toc_position": {},
   "toc_section_display": true,
   "toc_window_display": false
  }
 },
 "nbformat": 4,
 "nbformat_minor": 5
}
