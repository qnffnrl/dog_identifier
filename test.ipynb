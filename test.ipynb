{
 "cells": [
  {
   "cell_type": "code",
   "execution_count": 1,
   "id": "5e7b72c0",
   "metadata": {
    "ExecuteTime": {
     "end_time": "2022-10-17T01:35:56.382876Z",
     "start_time": "2022-10-17T01:35:47.528368Z"
    }
   },
   "outputs": [],
   "source": [
    "import cv2\n",
    "import os\n",
    "import warnings\n",
    "warnings.filterwarnings('ignore')\n",
    "import numpy as np\n",
    "import pandas as pd\n",
    "from keras_preprocessing.image import ImageDataGenerator, load_img\n",
    "from keras.utils import to_categorical\n",
    "from sklearn.model_selection import train_test_split\n",
    "import matplotlib.pyplot as plt\n",
    "import random\n",
    "from PIL import Image\n",
    "import shutil\n",
    "import re"
   ]
  },
  {
   "cell_type": "code",
   "execution_count": 2,
   "id": "b47369c3",
   "metadata": {
    "ExecuteTime": {
     "end_time": "2022-10-17T01:35:59.292122Z",
     "start_time": "2022-10-17T01:35:59.210238Z"
    }
   },
   "outputs": [],
   "source": [
    "filenames = os.listdir(\"./grayImages600/\")\n",
    "categories = []\n",
    "for filename in filenames:\n",
    "    category = filename.split('.')[0][:4]\n",
    "    categories.append(category)\n",
    "    \n",
    "df = pd.DataFrame({\n",
    "    'filename' : filenames,\n",
    "    'category' : categories\n",
    "})"
   ]
  },
  {
   "cell_type": "markdown",
   "id": "e8ad5b40",
   "metadata": {},
   "source": [
    "# Train Target"
   ]
  },
  {
   "cell_type": "code",
   "execution_count": 3,
   "id": "4fc0499c",
   "metadata": {
    "ExecuteTime": {
     "end_time": "2022-10-17T01:36:00.281155Z",
     "start_time": "2022-10-17T01:36:00.270153Z"
    }
   },
   "outputs": [],
   "source": [
    "train_target = np.array(df['category'])"
   ]
  },
  {
   "cell_type": "code",
   "execution_count": 4,
   "id": "a22151c1",
   "metadata": {
    "ExecuteTime": {
     "end_time": "2022-10-17T01:36:00.774686Z",
     "start_time": "2022-10-17T01:36:00.768688Z"
    }
   },
   "outputs": [],
   "source": [
    "train_target = train_target.astype('uint8')"
   ]
  },
  {
   "cell_type": "markdown",
   "id": "be95b0d5",
   "metadata": {},
   "source": [
    "# Train Input"
   ]
  },
  {
   "cell_type": "code",
   "execution_count": 5,
   "id": "6cf2d626",
   "metadata": {
    "ExecuteTime": {
     "end_time": "2022-10-17T01:36:00.995923Z",
     "start_time": "2022-10-17T01:36:00.985824Z"
    }
   },
   "outputs": [],
   "source": [
    "train_input = []"
   ]
  },
  {
   "cell_type": "code",
   "execution_count": 6,
   "id": "f282c835",
   "metadata": {
    "ExecuteTime": {
     "end_time": "2022-10-17T01:36:39.065403Z",
     "start_time": "2022-10-17T01:36:01.160951Z"
    }
   },
   "outputs": [],
   "source": [
    "filenames = os.listdir(\"./grayImages600/\")\n",
    "for filename in filenames:\n",
    "    train_input.append( np.array(Image.open('./grayImages600/' + filename)) )"
   ]
  },
  {
   "cell_type": "code",
   "execution_count": 7,
   "id": "a8b1aaff",
   "metadata": {
    "ExecuteTime": {
     "end_time": "2022-10-17T01:36:40.367138Z",
     "start_time": "2022-10-17T01:36:39.067406Z"
    }
   },
   "outputs": [],
   "source": [
    "train_input = np.array(train_input)"
   ]
  },
  {
   "cell_type": "markdown",
   "id": "13dbeb2f",
   "metadata": {},
   "source": [
    "# Tata Normalization"
   ]
  },
  {
   "cell_type": "code",
   "execution_count": 8,
   "id": "33cdbf5a",
   "metadata": {
    "ExecuteTime": {
     "end_time": "2022-10-17T01:36:40.382346Z",
     "start_time": "2022-10-17T01:36:40.369141Z"
    }
   },
   "outputs": [],
   "source": [
    "train_scaled = ()"
   ]
  },
  {
   "cell_type": "code",
   "execution_count": 9,
   "id": "03b0c32b",
   "metadata": {
    "ExecuteTime": {
     "end_time": "2022-10-17T01:38:14.382735Z",
     "start_time": "2022-10-17T01:36:40.385346Z"
    }
   },
   "outputs": [],
   "source": [
    "train_scaled = train_input.reshape(-1, 600, 600, 1) / 255.0"
   ]
  },
  {
   "cell_type": "markdown",
   "id": "d4e4dba9",
   "metadata": {},
   "source": [
    "# Data Split"
   ]
  },
  {
   "cell_type": "code",
   "execution_count": 10,
   "id": "3f86777e",
   "metadata": {
    "ExecuteTime": {
     "end_time": "2022-10-17T01:43:07.772178Z",
     "start_time": "2022-10-17T01:38:15.131229Z"
    }
   },
   "outputs": [],
   "source": [
    "train_scaled, val_scaled, train_target, val_target = train_test_split(train_scaled, train_target, test_size=0.2, random_state=42)"
   ]
  },
  {
   "cell_type": "markdown",
   "id": "0331d9e6",
   "metadata": {},
   "source": [
    "# Model Define"
   ]
  },
  {
   "cell_type": "code",
   "execution_count": 13,
   "id": "b868dfd4",
   "metadata": {
    "ExecuteTime": {
     "end_time": "2022-10-17T01:43:11.225941Z",
     "start_time": "2022-10-17T01:43:11.209933Z"
    }
   },
   "outputs": [],
   "source": [
    "from tensorflow import keras"
   ]
  },
  {
   "cell_type": "code",
   "execution_count": 12,
   "id": "588e427b",
   "metadata": {
    "ExecuteTime": {
     "end_time": "2022-10-17T01:43:10.916660Z",
     "start_time": "2022-10-17T01:43:08.344829Z"
    }
   },
   "outputs": [],
   "source": [
    "model_CNN = keras.Sequential()"
   ]
  },
  {
   "cell_type": "code",
   "execution_count": 14,
   "id": "3260ed18",
   "metadata": {
    "ExecuteTime": {
     "end_time": "2022-10-17T01:43:13.992357Z",
     "start_time": "2022-10-17T01:43:13.761976Z"
    }
   },
   "outputs": [],
   "source": [
    "model_CNN.add(keras.layers.Conv2D(filters=32, kernel_size=3, activation='relu', padding='same', input_shape=(600, 600, 1)))\n",
    "model_CNN.add(keras.layers.MaxPooling2D(2))\n",
    "model_CNN.add(keras.layers.Conv2D(filters=64, kernel_size=3, activation='relu', padding='same'))\n",
    "model_CNN.add(keras.layers.MaxPooling2D(2))\n",
    "model_CNN.add(keras.layers.Conv2D(filters=128, kernel_size=3, activation='relu', padding='same'))\n",
    "model_CNN.add(keras.layers.MaxPooling2D(2))\n",
    "model_CNN.add(keras.layers.Conv2D(filters=256, kernel_size=3, activation='relu', padding='same'))\n",
    "model_CNN.add(keras.layers.MaxPooling2D(2))"
   ]
  },
  {
   "cell_type": "code",
   "execution_count": 15,
   "id": "86a1b537",
   "metadata": {
    "ExecuteTime": {
     "end_time": "2022-10-17T01:43:15.633050Z",
     "start_time": "2022-10-17T01:43:15.287237Z"
    }
   },
   "outputs": [],
   "source": [
    "model_CNN.add(keras.layers.Flatten())\n",
    "model_CNN.add(keras.layers.Dense(100, activation='relu'))\n",
    "model_CNN.add(keras.layers.Dropout(0.4))\n",
    "model_CNN.add(keras.layers.Dense(258, activation='softmax'))"
   ]
  },
  {
   "cell_type": "markdown",
   "id": "fa25e5c5",
   "metadata": {},
   "source": [
    "# Model Learning"
   ]
  },
  {
   "cell_type": "code",
   "execution_count": null,
   "id": "5e889dba",
   "metadata": {
    "ExecuteTime": {
     "end_time": "2022-10-17T01:57:38.639528Z",
     "start_time": "2022-10-17T01:57:38.639528Z"
    }
   },
   "outputs": [],
   "source": [
    "# model_CNN.compile(optimizer='adam', loss='sparse_categorical_crossentropy', metrics='accuracy')\n",
    "# checkpoint_cb = keras.callbacks.ModelCheckpoint('best-cnn-model.h5') # 학습한 모델 저장\n",
    "# early_stopping_cb = keras.callbacks.EarlyStopping(patience=2, restore_best_weights=True)\n",
    "# history = model_CNN.fit(train_scaled, train_target, epochs=30, validation_data=(val_scaled, val_target), callbacks=[checkpoint_cb, early_stopping_cb])"
   ]
  },
  {
   "cell_type": "markdown",
   "id": "baa7c656",
   "metadata": {},
   "source": [
    "# Perform Test"
   ]
  },
  {
   "cell_type": "code",
   "execution_count": null,
   "id": "3131db5e",
   "metadata": {
    "ExecuteTime": {
     "end_time": "2022-10-17T01:57:38.639528Z",
     "start_time": "2022-10-17T01:57:38.639528Z"
    }
   },
   "outputs": [],
   "source": [
    "# acc = model_CNN.evaluate(val_scaled, val_target)"
   ]
  },
  {
   "cell_type": "code",
   "execution_count": null,
   "id": "d54e47e6",
   "metadata": {
    "ExecuteTime": {
     "end_time": "2022-10-17T01:57:38.641528Z",
     "start_time": "2022-10-17T01:57:38.641528Z"
    }
   },
   "outputs": [],
   "source": [
    "# print(\"Accuracy : {:.2f}%\".format(acc[1]*100))"
   ]
  },
  {
   "cell_type": "markdown",
   "id": "fdb482f6",
   "metadata": {
    "ExecuteTime": {
     "end_time": "2022-10-17T01:59:58.568142Z",
     "start_time": "2022-10-17T01:59:58.555425Z"
    }
   },
   "source": [
    "# Load Stored Model / Test"
   ]
  },
  {
   "cell_type": "code",
   "execution_count": 19,
   "id": "8c43e9bd",
   "metadata": {
    "ExecuteTime": {
     "end_time": "2022-10-17T01:59:58.536694Z",
     "start_time": "2022-10-17T01:57:59.663199Z"
    }
   },
   "outputs": [
    {
     "name": "stdout",
     "output_type": "stream",
     "text": [
      "50/50 [==============================] - 116s 2s/step - loss: 0.9617 - accuracy: 0.8462\n"
     ]
    }
   ],
   "source": [
    "model_CNN2 = keras.models.load_model('./best-cnn-model.h5')\n",
    "acc2 = model_CNN2.evaluate(val_scaled, val_target)"
   ]
  },
  {
   "cell_type": "code",
   "execution_count": 20,
   "id": "77af0830",
   "metadata": {
    "ExecuteTime": {
     "end_time": "2022-10-17T01:59:58.552426Z",
     "start_time": "2022-10-17T01:59:58.538696Z"
    }
   },
   "outputs": [
    {
     "name": "stdout",
     "output_type": "stream",
     "text": [
      "Accuracy : 84.62%\n"
     ]
    }
   ],
   "source": [
    "print(\"Accuracy : {:.2f}%\".format(acc2[1]*100))"
   ]
  },
  {
   "cell_type": "code",
   "execution_count": null,
   "id": "7a4aadab",
   "metadata": {},
   "outputs": [],
   "source": []
  }
 ],
 "metadata": {
  "kernelspec": {
   "display_name": "Python 3 (ipykernel)",
   "language": "python",
   "name": "python3"
  },
  "language_info": {
   "codemirror_mode": {
    "name": "ipython",
    "version": 3
   },
   "file_extension": ".py",
   "mimetype": "text/x-python",
   "name": "python",
   "nbconvert_exporter": "python",
   "pygments_lexer": "ipython3",
   "version": "3.9.12"
  },
  "toc": {
   "base_numbering": 1,
   "nav_menu": {},
   "number_sections": true,
   "sideBar": true,
   "skip_h1_title": false,
   "title_cell": "Table of Contents",
   "title_sidebar": "Contents",
   "toc_cell": false,
   "toc_position": {},
   "toc_section_display": true,
   "toc_window_display": false
  },
  "varInspector": {
   "cols": {
    "lenName": 16,
    "lenType": 16,
    "lenVar": 40
   },
   "kernels_config": {
    "python": {
     "delete_cmd_postfix": "",
     "delete_cmd_prefix": "del ",
     "library": "var_list.py",
     "varRefreshCmd": "print(var_dic_list())"
    },
    "r": {
     "delete_cmd_postfix": ") ",
     "delete_cmd_prefix": "rm(",
     "library": "var_list.r",
     "varRefreshCmd": "cat(var_dic_list()) "
    }
   },
   "types_to_exclude": [
    "module",
    "function",
    "builtin_function_or_method",
    "instance",
    "_Feature"
   ],
   "window_display": false
  }
 },
 "nbformat": 4,
 "nbformat_minor": 5
}
