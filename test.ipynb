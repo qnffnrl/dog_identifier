{
 "cells": [
  {
   "cell_type": "code",
   "execution_count": 4,
   "id": "3c353b04",
   "metadata": {
    "ExecuteTime": {
     "end_time": "2022-09-21T05:49:41.216549Z",
     "start_time": "2022-09-21T05:49:40.779556Z"
    }
   },
   "outputs": [],
   "source": [
    "import random\n",
    "import numpy as np\n",
    "import os\n",
    "import cv2\n",
    "import glob\n",
    "from PIL import Image\n",
    "import PIL.ImageOps\n",
    "import pandas as pd"
   ]
  },
  {
   "cell_type": "code",
   "execution_count": 5,
   "id": "f3eafbe7",
   "metadata": {
    "ExecuteTime": {
     "end_time": "2022-09-21T05:49:41.232172Z",
     "start_time": "2022-09-21T05:49:41.218555Z"
    }
   },
   "outputs": [],
   "source": [
    "filenames = os.listdir(\"./this/\")\n",
    "categories = []\n",
    "for filename in filenames:\n",
    "    category = filename.split('.')[0][:4]\n",
    "    categories.append(category)\n",
    "    \n",
    "df = pd.DataFrame({\n",
    "    'filename' : filenames,\n",
    "    'category' : categories\n",
    "})"
   ]
  },
  {
   "cell_type": "code",
   "execution_count": 6,
   "id": "8a02bec9",
   "metadata": {
    "ExecuteTime": {
     "end_time": "2022-09-21T05:49:43.474782Z",
     "start_time": "2022-09-21T05:49:43.446289Z"
    }
   },
   "outputs": [
    {
     "data": {
      "text/html": [
       "<div>\n",
       "<style scoped>\n",
       "    .dataframe tbody tr th:only-of-type {\n",
       "        vertical-align: middle;\n",
       "    }\n",
       "\n",
       "    .dataframe tbody tr th {\n",
       "        vertical-align: top;\n",
       "    }\n",
       "\n",
       "    .dataframe thead th {\n",
       "        text-align: right;\n",
       "    }\n",
       "</style>\n",
       "<table border=\"1\" class=\"dataframe\">\n",
       "  <thead>\n",
       "    <tr style=\"text-align: right;\">\n",
       "      <th></th>\n",
       "      <th>filename</th>\n",
       "      <th>category</th>\n",
       "    </tr>\n",
       "  </thead>\n",
       "  <tbody>\n",
       "    <tr>\n",
       "      <th>0</th>\n",
       "      <td>3001(1).png</td>\n",
       "      <td>3001</td>\n",
       "    </tr>\n",
       "    <tr>\n",
       "      <th>1</th>\n",
       "      <td>3001(2).png</td>\n",
       "      <td>3001</td>\n",
       "    </tr>\n",
       "    <tr>\n",
       "      <th>2</th>\n",
       "      <td>3001(3).png</td>\n",
       "      <td>3001</td>\n",
       "    </tr>\n",
       "    <tr>\n",
       "      <th>3</th>\n",
       "      <td>3001(4).png</td>\n",
       "      <td>3001</td>\n",
       "    </tr>\n",
       "    <tr>\n",
       "      <th>4</th>\n",
       "      <td>3001(5).png</td>\n",
       "      <td>3001</td>\n",
       "    </tr>\n",
       "    <tr>\n",
       "      <th>...</th>\n",
       "      <td>...</td>\n",
       "      <td>...</td>\n",
       "    </tr>\n",
       "    <tr>\n",
       "      <th>2121</th>\n",
       "      <td>6022(5).png</td>\n",
       "      <td>6022</td>\n",
       "    </tr>\n",
       "    <tr>\n",
       "      <th>2122</th>\n",
       "      <td>6022(6).png</td>\n",
       "      <td>6022</td>\n",
       "    </tr>\n",
       "    <tr>\n",
       "      <th>2123</th>\n",
       "      <td>6022(7).png</td>\n",
       "      <td>6022</td>\n",
       "    </tr>\n",
       "    <tr>\n",
       "      <th>2124</th>\n",
       "      <td>6022(8).png</td>\n",
       "      <td>6022</td>\n",
       "    </tr>\n",
       "    <tr>\n",
       "      <th>2125</th>\n",
       "      <td>6022(9).png</td>\n",
       "      <td>6022</td>\n",
       "    </tr>\n",
       "  </tbody>\n",
       "</table>\n",
       "<p>2126 rows × 2 columns</p>\n",
       "</div>"
      ],
      "text/plain": [
       "         filename category\n",
       "0     3001(1).png     3001\n",
       "1     3001(2).png     3001\n",
       "2     3001(3).png     3001\n",
       "3     3001(4).png     3001\n",
       "4     3001(5).png     3001\n",
       "...           ...      ...\n",
       "2121  6022(5).png     6022\n",
       "2122  6022(6).png     6022\n",
       "2123  6022(7).png     6022\n",
       "2124  6022(8).png     6022\n",
       "2125  6022(9).png     6022\n",
       "\n",
       "[2126 rows x 2 columns]"
      ]
     },
     "execution_count": 6,
     "metadata": {},
     "output_type": "execute_result"
    }
   ],
   "source": [
    "df"
   ]
  },
  {
   "cell_type": "code",
   "execution_count": 7,
   "id": "dccdac65",
   "metadata": {
    "ExecuteTime": {
     "end_time": "2022-09-21T05:49:56.019717Z",
     "start_time": "2022-09-21T05:49:56.013714Z"
    }
   },
   "outputs": [
    {
     "data": {
      "text/plain": [
       "265"
      ]
     },
     "execution_count": 7,
     "metadata": {},
     "output_type": "execute_result"
    }
   ],
   "source": [
    "len(df['category'].unique())"
   ]
  },
  {
   "cell_type": "code",
   "execution_count": 8,
   "id": "5fd9ea3f",
   "metadata": {
    "ExecuteTime": {
     "end_time": "2022-09-21T05:50:08.064245Z",
     "start_time": "2022-09-21T05:50:08.056247Z"
    }
   },
   "outputs": [],
   "source": [
    "train_target = np.array(df['category'])"
   ]
  },
  {
   "cell_type": "code",
   "execution_count": 9,
   "id": "17a45c55",
   "metadata": {
    "ExecuteTime": {
     "end_time": "2022-09-21T05:50:12.284370Z",
     "start_time": "2022-09-21T05:50:12.266228Z"
    }
   },
   "outputs": [
    {
     "data": {
      "text/plain": [
       "array(['3001', '3001', '3001', ..., '6022', '6022', '6022'], dtype=object)"
      ]
     },
     "execution_count": 9,
     "metadata": {},
     "output_type": "execute_result"
    }
   ],
   "source": [
    "train_target"
   ]
  },
  {
   "cell_type": "code",
   "execution_count": 11,
   "id": "e81e81e6",
   "metadata": {
    "ExecuteTime": {
     "end_time": "2022-09-21T05:50:41.306359Z",
     "start_time": "2022-09-21T05:50:41.289931Z"
    }
   },
   "outputs": [
    {
     "name": "stdout",
     "output_type": "stream",
     "text": [
      "['3007', '3026', '4003', '4023', '4109', '5048', '6021']\n"
     ]
    }
   ],
   "source": [
    "deleteTarget = []\n",
    "\n",
    "targetNumber = (np.unique(train_target, return_counts=True))[0]\n",
    "countes = (np.unique(train_target, return_counts=True))[1]\n",
    "\n",
    "for i in range(0, len(countes)):\n",
    "    if countes[i] == 1:\n",
    "        deleteTarget.append(targetNumber[i])\n",
    "\n",
    "print(deleteTarget)"
   ]
  },
  {
   "cell_type": "code",
   "execution_count": 12,
   "id": "8597ff3f",
   "metadata": {
    "ExecuteTime": {
     "end_time": "2022-09-21T05:50:52.623958Z",
     "start_time": "2022-09-21T05:50:52.591516Z"
    }
   },
   "outputs": [],
   "source": [
    "for i in range(0, len(countes)):\n",
    "    if countes[i] == 1:\n",
    "        if os.path.isfile('./this/' + targetNumber[i] + '(1).png'):\n",
    "            os.remove('./this/' + targetNumber[i] + '(1).png')"
   ]
  },
  {
   "cell_type": "code",
   "execution_count": 13,
   "id": "f53be3b9",
   "metadata": {
    "ExecuteTime": {
     "end_time": "2022-09-21T05:50:57.692041Z",
     "start_time": "2022-09-21T05:50:57.684040Z"
    }
   },
   "outputs": [
    {
     "name": "stdout",
     "output_type": "stream",
     "text": [
      "2119\n"
     ]
    }
   ],
   "source": [
    "fileList = os.listdir('./this/')\n",
    "totalFileCount = 0\n",
    "for file in fileList:\n",
    "    totalFileCount += 1\n",
    "    \n",
    "print(totalFileCount)"
   ]
  },
  {
   "cell_type": "code",
   "execution_count": null,
   "id": "ed8a82d9",
   "metadata": {},
   "outputs": [],
   "source": []
  },
  {
   "cell_type": "code",
   "execution_count": null,
   "id": "d99c69c5",
   "metadata": {},
   "outputs": [],
   "source": []
  },
  {
   "cell_type": "code",
   "execution_count": null,
   "id": "fd755a3b",
   "metadata": {},
   "outputs": [],
   "source": []
  },
  {
   "cell_type": "code",
   "execution_count": null,
   "id": "2f00e796",
   "metadata": {},
   "outputs": [],
   "source": []
  },
  {
   "cell_type": "code",
   "execution_count": null,
   "id": "a18029bc",
   "metadata": {},
   "outputs": [],
   "source": []
  },
  {
   "cell_type": "code",
   "execution_count": null,
   "id": "534b6430",
   "metadata": {},
   "outputs": [],
   "source": []
  },
  {
   "cell_type": "code",
   "execution_count": null,
   "id": "239f6110",
   "metadata": {},
   "outputs": [],
   "source": []
  },
  {
   "cell_type": "code",
   "execution_count": null,
   "id": "8133ad1e",
   "metadata": {},
   "outputs": [],
   "source": []
  },
  {
   "cell_type": "code",
   "execution_count": null,
   "id": "06e0dfb5",
   "metadata": {},
   "outputs": [],
   "source": []
  },
  {
   "cell_type": "code",
   "execution_count": null,
   "id": "2b7468a0",
   "metadata": {},
   "outputs": [],
   "source": []
  }
 ],
 "metadata": {
  "kernelspec": {
   "display_name": "Python 3 (ipykernel)",
   "language": "python",
   "name": "python3"
  },
  "language_info": {
   "codemirror_mode": {
    "name": "ipython",
    "version": 3
   },
   "file_extension": ".py",
   "mimetype": "text/x-python",
   "name": "python",
   "nbconvert_exporter": "python",
   "pygments_lexer": "ipython3",
   "version": "3.9.12"
  },
  "toc": {
   "base_numbering": 1,
   "nav_menu": {},
   "number_sections": true,
   "sideBar": true,
   "skip_h1_title": false,
   "title_cell": "Table of Contents",
   "title_sidebar": "Contents",
   "toc_cell": false,
   "toc_position": {},
   "toc_section_display": true,
   "toc_window_display": false
  }
 },
 "nbformat": 4,
 "nbformat_minor": 5
}
