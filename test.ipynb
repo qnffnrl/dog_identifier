{
 "cells": [
  {
   "cell_type": "code",
   "execution_count": 1,
   "id": "3c353b04",
   "metadata": {
    "ExecuteTime": {
     "end_time": "2022-10-13T02:14:59.990911Z",
     "start_time": "2022-10-13T02:14:59.413901Z"
    }
   },
   "outputs": [],
   "source": [
    "import os\n",
    "from os.path import join\n",
    "import pandas as pd\n",
    "import cv2 as cv\n",
    "import copy\n",
    "import shutil"
   ]
  },
  {
   "cell_type": "code",
   "execution_count": 3,
   "id": "52c45e44",
   "metadata": {
    "ExecuteTime": {
     "end_time": "2022-10-13T02:16:48.063960Z",
     "start_time": "2022-10-13T02:16:48.046088Z"
    }
   },
   "outputs": [],
   "source": [
    "source = r\"./grayImages600/3001(1).png\"\n",
    "destination = r\"./copyedImage.png\""
   ]
  },
  {
   "cell_type": "code",
   "execution_count": 4,
   "id": "8b7e2fd8",
   "metadata": {
    "ExecuteTime": {
     "end_time": "2022-10-13T02:17:05.981735Z",
     "start_time": "2022-10-13T02:17:05.955904Z"
    }
   },
   "outputs": [
    {
     "data": {
      "text/plain": [
       "'./copyedImage.png'"
      ]
     },
     "execution_count": 4,
     "metadata": {},
     "output_type": "execute_result"
    }
   ],
   "source": [
    "shutil.copyfile(source, destination)"
   ]
  },
  {
   "cell_type": "code",
   "execution_count": null,
   "id": "5e7b72c0",
   "metadata": {},
   "outputs": [],
   "source": []
  }
 ],
 "metadata": {
  "kernelspec": {
   "display_name": "Python 3 (ipykernel)",
   "language": "python",
   "name": "python3"
  },
  "language_info": {
   "codemirror_mode": {
    "name": "ipython",
    "version": 3
   },
   "file_extension": ".py",
   "mimetype": "text/x-python",
   "name": "python",
   "nbconvert_exporter": "python",
   "pygments_lexer": "ipython3",
   "version": "3.9.12"
  },
  "toc": {
   "base_numbering": 1,
   "nav_menu": {},
   "number_sections": true,
   "sideBar": true,
   "skip_h1_title": false,
   "title_cell": "Table of Contents",
   "title_sidebar": "Contents",
   "toc_cell": false,
   "toc_position": {},
   "toc_section_display": true,
   "toc_window_display": false
  },
  "varInspector": {
   "cols": {
    "lenName": 16,
    "lenType": 16,
    "lenVar": 40
   },
   "kernels_config": {
    "python": {
     "delete_cmd_postfix": "",
     "delete_cmd_prefix": "del ",
     "library": "var_list.py",
     "varRefreshCmd": "print(var_dic_list())"
    },
    "r": {
     "delete_cmd_postfix": ") ",
     "delete_cmd_prefix": "rm(",
     "library": "var_list.r",
     "varRefreshCmd": "cat(var_dic_list()) "
    }
   },
   "types_to_exclude": [
    "module",
    "function",
    "builtin_function_or_method",
    "instance",
    "_Feature"
   ],
   "window_display": false
  }
 },
 "nbformat": 4,
 "nbformat_minor": 5
}
